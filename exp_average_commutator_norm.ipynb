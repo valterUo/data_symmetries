{
 "cells": [
  {
   "cell_type": "markdown",
   "id": "d840ec1b",
   "metadata": {},
   "source": [
    "### Metric 1: Average commutator norm"
   ]
  },
  {
   "cell_type": "code",
   "execution_count": null,
   "id": "7a9f4e9a",
   "metadata": {},
   "outputs": [
    {
     "name": "stdout",
     "output_type": "stream",
     "text": [
      "Processing subgroup: 1\n"
     ]
    },
    {
     "name": "stderr",
     "output_type": "stream",
     "text": [
      "100%|██████████| 1/1 [00:00<00:00, 499.86it/s]\n"
     ]
    },
    {
     "name": "stdout",
     "output_type": "stream",
     "text": [
      "Processing subgroup: 2\n"
     ]
    },
    {
     "name": "stderr",
     "output_type": "stream",
     "text": [
      "100%|██████████| 30/30 [00:00<00:00, 618.41it/s]\n"
     ]
    },
    {
     "name": "stdout",
     "output_type": "stream",
     "text": [
      "Processing subgroup: 3\n"
     ]
    },
    {
     "name": "stderr",
     "output_type": "stream",
     "text": [
      "100%|██████████| 30/30 [00:00<00:00, 624.99it/s]\n"
     ]
    },
    {
     "name": "stdout",
     "output_type": "stream",
     "text": [
      "Processing subgroup: 4\n"
     ]
    },
    {
     "name": "stderr",
     "output_type": "stream",
     "text": [
      "100%|██████████| 30/30 [00:00<00:00, 512.74it/s]\n"
     ]
    },
    {
     "name": "stdout",
     "output_type": "stream",
     "text": [
      "Processing subgroup: 5\n"
     ]
    },
    {
     "name": "stderr",
     "output_type": "stream",
     "text": [
      "100%|██████████| 30/30 [00:00<00:00, 380.49it/s]\n"
     ]
    },
    {
     "name": "stdout",
     "output_type": "stream",
     "text": [
      "Processing subgroup: 6\n"
     ]
    },
    {
     "name": "stderr",
     "output_type": "stream",
     "text": [
      "100%|██████████| 30/30 [00:00<00:00, 362.49it/s]\n"
     ]
    },
    {
     "name": "stdout",
     "output_type": "stream",
     "text": [
      "Processing subgroup: 7\n"
     ]
    },
    {
     "name": "stderr",
     "output_type": "stream",
     "text": [
      "100%|██████████| 30/30 [00:00<00:00, 387.48it/s]\n"
     ]
    },
    {
     "name": "stdout",
     "output_type": "stream",
     "text": [
      "Processing subgroup: 8\n"
     ]
    },
    {
     "name": "stderr",
     "output_type": "stream",
     "text": [
      "100%|██████████| 30/30 [00:00<00:00, 323.48it/s]\n"
     ]
    },
    {
     "name": "stdout",
     "output_type": "stream",
     "text": [
      "Processing subgroup: 9\n"
     ]
    },
    {
     "name": "stderr",
     "output_type": "stream",
     "text": [
      "100%|██████████| 30/30 [00:00<00:00, 245.81it/s]\n"
     ]
    },
    {
     "name": "stdout",
     "output_type": "stream",
     "text": [
      "Processing subgroup: 10\n"
     ]
    },
    {
     "name": "stderr",
     "output_type": "stream",
     "text": [
      "100%|██████████| 30/30 [00:00<00:00, 239.45it/s]\n"
     ]
    },
    {
     "name": "stdout",
     "output_type": "stream",
     "text": [
      "Processing subgroup: 12\n"
     ]
    },
    {
     "name": "stderr",
     "output_type": "stream",
     "text": [
      "100%|██████████| 30/30 [00:00<00:00, 227.51it/s]\n"
     ]
    },
    {
     "name": "stdout",
     "output_type": "stream",
     "text": [
      "Processing subgroup: 14\n"
     ]
    },
    {
     "name": "stderr",
     "output_type": "stream",
     "text": [
      "100%|██████████| 30/30 [00:00<00:00, 183.59it/s]\n"
     ]
    },
    {
     "name": "stdout",
     "output_type": "stream",
     "text": [
      "Processing subgroup: 16\n"
     ]
    },
    {
     "name": "stderr",
     "output_type": "stream",
     "text": [
      "100%|██████████| 30/30 [00:00<00:00, 183.81it/s]\n"
     ]
    },
    {
     "name": "stdout",
     "output_type": "stream",
     "text": [
      "Processing subgroup: 18\n"
     ]
    },
    {
     "name": "stderr",
     "output_type": "stream",
     "text": [
      "100%|██████████| 30/30 [00:00<00:00, 150.84it/s]\n"
     ]
    },
    {
     "name": "stdout",
     "output_type": "stream",
     "text": [
      "Processing subgroup: 20\n"
     ]
    },
    {
     "name": "stderr",
     "output_type": "stream",
     "text": [
      "100%|██████████| 30/30 [00:00<00:00, 136.26it/s]\n"
     ]
    },
    {
     "name": "stdout",
     "output_type": "stream",
     "text": [
      "Processing subgroup: 21\n"
     ]
    },
    {
     "name": "stderr",
     "output_type": "stream",
     "text": [
      "100%|██████████| 30/30 [00:00<00:00, 133.60it/s]\n"
     ]
    },
    {
     "name": "stdout",
     "output_type": "stream",
     "text": [
      "Processing subgroup: 24\n"
     ]
    },
    {
     "name": "stderr",
     "output_type": "stream",
     "text": [
      "100%|██████████| 30/30 [00:00<00:00, 114.50it/s]\n"
     ]
    },
    {
     "name": "stdout",
     "output_type": "stream",
     "text": [
      "Processing subgroup: 36\n"
     ]
    },
    {
     "name": "stderr",
     "output_type": "stream",
     "text": [
      "100%|██████████| 30/30 [00:00<00:00, 72.46it/s]\n"
     ]
    },
    {
     "name": "stdout",
     "output_type": "stream",
     "text": [
      "Processing subgroup: 40\n"
     ]
    },
    {
     "name": "stderr",
     "output_type": "stream",
     "text": [
      "100%|██████████| 30/30 [00:00<00:00, 70.64it/s]\n"
     ]
    },
    {
     "name": "stdout",
     "output_type": "stream",
     "text": [
      "Processing subgroup: 42\n"
     ]
    },
    {
     "name": "stderr",
     "output_type": "stream",
     "text": [
      "100%|██████████| 30/30 [00:00<00:00, 67.00it/s]\n"
     ]
    },
    {
     "name": "stdout",
     "output_type": "stream",
     "text": [
      "Processing subgroup: 48\n"
     ]
    },
    {
     "name": "stderr",
     "output_type": "stream",
     "text": [
      "100%|██████████| 30/30 [00:00<00:00, 55.97it/s]\n"
     ]
    },
    {
     "name": "stdout",
     "output_type": "stream",
     "text": [
      "Processing subgroup: 60\n"
     ]
    },
    {
     "name": "stderr",
     "output_type": "stream",
     "text": [
      "100%|██████████| 30/30 [00:00<00:00, 46.42it/s]\n"
     ]
    },
    {
     "name": "stdout",
     "output_type": "stream",
     "text": [
      "Processing subgroup: 72\n"
     ]
    },
    {
     "name": "stderr",
     "output_type": "stream",
     "text": [
      "100%|██████████| 30/30 [00:00<00:00, 40.31it/s]\n"
     ]
    },
    {
     "name": "stdout",
     "output_type": "stream",
     "text": [
      "Processing subgroup: 120\n"
     ]
    },
    {
     "name": "stderr",
     "output_type": "stream",
     "text": [
      "100%|██████████| 30/30 [00:01<00:00, 24.71it/s]\n"
     ]
    },
    {
     "name": "stdout",
     "output_type": "stream",
     "text": [
      "Processing subgroup: 144\n"
     ]
    },
    {
     "name": "stderr",
     "output_type": "stream",
     "text": [
      "100%|██████████| 30/30 [00:01<00:00, 20.42it/s]\n"
     ]
    },
    {
     "name": "stdout",
     "output_type": "stream",
     "text": [
      "Processing subgroup: 168\n"
     ]
    },
    {
     "name": "stderr",
     "output_type": "stream",
     "text": [
      "100%|██████████| 30/30 [00:01<00:00, 16.19it/s]\n"
     ]
    },
    {
     "name": "stdout",
     "output_type": "stream",
     "text": [
      "Processing subgroup: 240\n"
     ]
    },
    {
     "name": "stderr",
     "output_type": "stream",
     "text": [
      "100%|██████████| 21/21 [00:01<00:00, 11.44it/s]\n"
     ]
    },
    {
     "name": "stdout",
     "output_type": "stream",
     "text": [
      "Processing subgroup: 360\n"
     ]
    },
    {
     "name": "stderr",
     "output_type": "stream",
     "text": [
      "100%|██████████| 7/7 [00:00<00:00,  7.51it/s]\n"
     ]
    },
    {
     "name": "stdout",
     "output_type": "stream",
     "text": [
      "Processing subgroup: 720\n"
     ]
    },
    {
     "name": "stderr",
     "output_type": "stream",
     "text": [
      "100%|██████████| 7/7 [00:01<00:00,  3.71it/s]\n"
     ]
    },
    {
     "name": "stdout",
     "output_type": "stream",
     "text": [
      "Processing subgroup: 2520\n"
     ]
    },
    {
     "name": "stderr",
     "output_type": "stream",
     "text": [
      "100%|██████████| 1/1 [00:00<00:00,  1.06it/s]\n"
     ]
    },
    {
     "name": "stdout",
     "output_type": "stream",
     "text": [
      "Processing subgroup: 5040\n"
     ]
    },
    {
     "name": "stderr",
     "output_type": "stream",
     "text": [
      "100%|██████████| 1/1 [00:01<00:00,  1.80s/it]\n"
     ]
    },
    {
     "name": "stdout",
     "output_type": "stream",
     "text": [
      "Depth: 1\n",
      "  Ansatz ID: 1\n",
      "  Ansatz ID: 2\n",
      "  Ansatz ID: 3\n",
      "  Ansatz ID: 4\n",
      "  Ansatz ID: 5\n",
      "  Ansatz ID: 6\n",
      "  Ansatz ID: 7\n",
      "  Ansatz ID: 8\n",
      "  Ansatz ID: 9\n",
      "  Ansatz ID: 10\n",
      "  Ansatz ID: 11\n",
      "  Ansatz ID: 12\n",
      "  Ansatz ID: 13\n",
      "  Ansatz ID: 14\n",
      "  Ansatz ID: 15\n",
      "  Ansatz ID: 16\n",
      "  Ansatz ID: 17\n",
      "  Ansatz ID: 18\n",
      "  Ansatz ID: 19\n",
      "Depth: 2\n",
      "  Ansatz ID: 1\n",
      "  Ansatz ID: 2\n",
      "  Ansatz ID: 3\n",
      "  Ansatz ID: 4\n",
      "  Ansatz ID: 5\n",
      "  Ansatz ID: 6\n",
      "  Ansatz ID: 7\n",
      "  Ansatz ID: 8\n",
      "  Ansatz ID: 9\n",
      "  Ansatz ID: 10\n",
      "  Ansatz ID: 11\n",
      "  Ansatz ID: 12\n",
      "  Ansatz ID: 13\n",
      "  Ansatz ID: 14\n",
      "  Ansatz ID: 15\n",
      "  Ansatz ID: 16\n",
      "  Ansatz ID: 17\n",
      "  Ansatz ID: 18\n",
      "  Ansatz ID: 19\n",
      "Depth: 3\n",
      "  Ansatz ID: 1\n",
      "  Ansatz ID: 2\n",
      "  Ansatz ID: 3\n",
      "  Ansatz ID: 4\n",
      "  Ansatz ID: 5\n",
      "  Ansatz ID: 6\n",
      "  Ansatz ID: 7\n",
      "  Ansatz ID: 8\n"
     ]
    }
   ],
   "source": [
    "import json\n",
    "import numpy as np\n",
    "from ansatz import Ansatz\n",
    "import pennylane as qml\n",
    "from twirler.symmetry_groups import create_subgroup_from_permutations, create_symmetric_group, create_induced_subgroup_from_permutations\n",
    "from twirler.generators import get_ansatz_generators\n",
    "from twirler.induced_representation import derive_unitaries_angle_embedding_analytic\n",
    "from joblib import Parallel, delayed\n",
    "\n",
    "results = {}\n",
    "n_qubits = 7\n",
    "\n",
    "S = create_symmetric_group(n_qubits)\n",
    "\n",
    "with open(f\"groups/subgroups_{n_qubits}.json\", \"r\") as f:\n",
    "    subgroups = json.load(f)\n",
    "\n",
    "subgroup_unitaries = {}\n",
    "for k, groups in subgroups.items():\n",
    "    subgroup_unitaries[k] = []\n",
    "    print(\"Processing subgroup:\", k)\n",
    "    for generators in groups:\n",
    "        new_generators = []\n",
    "        for g in generators:\n",
    "            new_generators.append(tuple(g))\n",
    "\n",
    "        K = create_subgroup_from_permutations(S, new_generators)\n",
    "        unitaries = derive_unitaries_angle_embedding_analytic(K)\n",
    "        subgroup_unitaries[k].append(unitaries)\n",
    "\n",
    "results[n_qubits] = {}\n",
    "for depth in range(1, 6):\n",
    "    print(\"Depth:\", depth)\n",
    "    results[n_qubits][depth] = {}\n",
    "    for ansatz_id in range(1, 20):\n",
    "        print(\"  Ansatz ID:\", ansatz_id)\n",
    "        results[n_qubits][depth][ansatz_id] = {}\n",
    "        super_ansatz = Ansatz(ansatz_id, n_qubits, depth)\n",
    "        ansatz = super_ansatz.get_ansatz()\n",
    "        generators = get_ansatz_generators(ansatz)\n",
    "\n",
    "        # Precompute once per ansatz\n",
    "        G_full_list = [\n",
    "            qml.matrix(qml.Hermitian(gen_observable, wires=wires), wire_order=range(n_qubits))\n",
    "            for (gen_observable, wires, _, _, _) in generators\n",
    "        ]\n",
    "\n",
    "        def _accumulate_for_unitary_dict(unitary_dict):\n",
    "            m = len(unitary_dict)\n",
    "            local_total = 0.0\n",
    "            for U_s in unitary_dict.values():\n",
    "                for G_full in G_full_list:\n",
    "                    commuter = U_s @ G_full - G_full @ U_s\n",
    "                    local_total += np.linalg.norm(commuter, ord='fro')\n",
    "            return local_total, m * len(G_full_list)\n",
    "\n",
    "        for k in subgroup_unitaries:\n",
    "            partials = Parallel(n_jobs=-1, backend=\"threading\")(\n",
    "                delayed(_accumulate_for_unitary_dict)(unitary) for unitary in subgroup_unitaries[k]\n",
    "                )\n",
    "            total_norm = sum(x for x, _ in partials)\n",
    "            total_count = sum(c for _, c in partials)\n",
    "            avg_norm = total_norm / total_count\n",
    "            results[n_qubits][depth][ansatz_id][k] = avg_norm\n",
    "\n",
    "with open(f\"results/results_average_commutator_norm_{n_qubits}.json\", \"w\") as f:\n",
    "    json.dump(results, f, indent=4)"
   ]
  }
 ],
 "metadata": {
  "kernelspec": {
   "display_name": "myenv (3.12.6)",
   "language": "python",
   "name": "python3"
  },
  "language_info": {
   "codemirror_mode": {
    "name": "ipython",
    "version": 3
   },
   "file_extension": ".py",
   "mimetype": "text/x-python",
   "name": "python",
   "nbconvert_exporter": "python",
   "pygments_lexer": "ipython3",
   "version": "3.12.6"
  }
 },
 "nbformat": 4,
 "nbformat_minor": 5
}
