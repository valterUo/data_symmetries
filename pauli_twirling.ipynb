{
 "cells": [
  {
   "cell_type": "markdown",
   "id": "d14bff3f",
   "metadata": {},
   "source": [
    "### Pipeline\n",
    "\n",
    "1. Classical data $X$ with symmetry group $S$ acting via $V_s$\n",
    "2. Encoding $U \\colon X \\to$ quantum states\n",
    "3. Derived (not chosen): unitaries $U_s$ from equivariance $U(V_s[x]) = U_s U(x) U_s^{\\dagger}$\n",
    "4. Design: Ansatz circuits that commute with $U_s$ using the twirling formula"
   ]
  },
  {
   "cell_type": "code",
   "execution_count": null,
   "id": "84be38e1",
   "metadata": {},
   "outputs": [],
   "source": []
  }
 ],
 "metadata": {
  "kernelspec": {
   "display_name": "myenv (3.12.6)",
   "language": "python",
   "name": "python3"
  },
  "language_info": {
   "name": "python",
   "version": "3.12.6"
  }
 },
 "nbformat": 4,
 "nbformat_minor": 5
}
