{
 "cells": [
  {
   "cell_type": "markdown",
   "id": "1cc6159e",
   "metadata": {},
   "source": [
    "### Circuit complexity"
   ]
  },
  {
   "cell_type": "code",
   "execution_count": null,
   "id": "a37d778a",
   "metadata": {},
   "outputs": [],
   "source": []
  }
 ],
 "metadata": {
  "language_info": {
   "name": "python"
  }
 },
 "nbformat": 4,
 "nbformat_minor": 5
}
