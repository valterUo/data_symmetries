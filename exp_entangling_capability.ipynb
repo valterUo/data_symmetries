{
 "cells": [
  {
   "cell_type": "markdown",
   "id": "2fb45014",
   "metadata": {},
   "source": [
    "### Entangling capability"
   ]
  },
  {
   "cell_type": "code",
   "execution_count": null,
   "id": "1ac55f95",
   "metadata": {},
   "outputs": [],
   "source": []
  }
 ],
 "metadata": {
  "language_info": {
   "name": "python"
  }
 },
 "nbformat": 4,
 "nbformat_minor": 5
}
