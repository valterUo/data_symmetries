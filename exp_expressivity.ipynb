{
 "cells": [
  {
   "cell_type": "markdown",
   "id": "2e508699",
   "metadata": {},
   "source": [
    "### Expressivity"
   ]
  },
  {
   "cell_type": "code",
   "execution_count": 1,
   "id": "ee24c96a",
   "metadata": {},
   "outputs": [],
   "source": [
    "import numpy as np\n",
    "from ansatz import Ansatz\n",
    "from utils import pennylane_to_qiskit\n",
    "import pennylane as qml\n",
    "\n",
    "n_qubits = 5\n",
    "results = {}\n",
    "depth = 1\n",
    "circuits = {}\n",
    "for ansatz_id in range(1, 20):\n",
    "    results[ansatz_id] = {}\n",
    "    super_ansatz = Ansatz(ansatz_id, n_qubits, depth)\n",
    "    ansatz = super_ansatz.get_circuit()\n",
    "    param_shape = super_ansatz.get_params_shape()\n",
    "    if param_shape[1] is not None:\n",
    "        params1 = np.random.uniform(0, 2 * np.pi, param_shape[0])\n",
    "        params2 = np.random.uniform(0, 2 * np.pi, param_shape[1])\n",
    "        params = [params1, params2]\n",
    "\n",
    "        @qml.qnode(qml.device(\"default.qubit\", wires=n_qubits))\n",
    "        def circuit(params1, params2):\n",
    "            ansatz(params1, params2)\n",
    "            return qml.expval(qml.PauliZ(0))\n",
    "    else:\n",
    "        params1 = np.random.uniform(0, 2 * np.pi, param_shape[0])\n",
    "        params = [params1]\n",
    "        @qml.qnode(qml.device(\"default.qubit\", wires=n_qubits))\n",
    "        def circuit(params1):\n",
    "            ansatz(params1)\n",
    "            return qml.expval(qml.PauliZ(0))\n",
    "\n",
    "    qiskit_circuit = pennylane_to_qiskit(circuit, n_qubits, params=params)\n",
    "    circuits[ansatz_id] = qiskit_circuit\n",
    "\n",
    "    # Draw the circuit in file\n",
    "    #filename = f\"figures\\\\ansatz_{ansatz_id}_depth_{depth}.png\"\n",
    "    #qiskit_circuit.draw(output=\"mpl\", filename=filename)"
   ]
  },
  {
   "cell_type": "code",
   "execution_count": 2,
   "id": "2ddafed8",
   "metadata": {},
   "outputs": [
    {
     "ename": "ModuleNotFoundError",
     "evalue": "No module named 'tensorflow'",
     "output_type": "error",
     "traceback": [
      "\u001b[31m---------------------------------------------------------------------------\u001b[39m",
      "\u001b[31mModuleNotFoundError\u001b[39m                       Traceback (most recent call last)",
      "\u001b[36mCell\u001b[39m\u001b[36m \u001b[39m\u001b[32mIn[2]\u001b[39m\u001b[32m, line 1\u001b[39m\n\u001b[32m----> \u001b[39m\u001b[32m1\u001b[39m \u001b[38;5;28;01mfrom\u001b[39;00m\u001b[38;5;250m \u001b[39m\u001b[34;01mqleet\u001b[39;00m\u001b[34;01m.\u001b[39;00m\u001b[34;01manalyzers\u001b[39;00m\u001b[34;01m.\u001b[39;00m\u001b[34;01mexpressibility\u001b[39;00m\u001b[38;5;250m \u001b[39m\u001b[38;5;28;01mimport\u001b[39;00m Expressibility\n\u001b[32m      2\u001b[39m \u001b[38;5;28;01mfrom\u001b[39;00m\u001b[38;5;250m \u001b[39m\u001b[34;01mqleet\u001b[39;00m\u001b[34;01m.\u001b[39;00m\u001b[34;01minterface\u001b[39;00m\u001b[34;01m.\u001b[39;00m\u001b[34;01mcircuit\u001b[39;00m\u001b[38;5;250m \u001b[39m\u001b[38;5;28;01mimport\u001b[39;00m CircuitDescriptor\n\u001b[32m      4\u001b[39m \u001b[38;5;28;01mfor\u001b[39;00m ansatz_id \u001b[38;5;129;01min\u001b[39;00m \u001b[38;5;28mrange\u001b[39m(\u001b[32m1\u001b[39m, \u001b[32m20\u001b[39m):\n",
      "\u001b[36mFile \u001b[39m\u001b[32mc:\\Users\\valte\\OneDrive - University of Helsinki\\Desktop\\data_symmetries\\myenv\\Lib\\site-packages\\qleet\\__init__.py:7\u001b[39m\n\u001b[32m      4\u001b[39m os.environ[\u001b[33m\"\u001b[39m\u001b[33mTF_CPP_MIN_LOG_LEVEL\u001b[39m\u001b[33m\"\u001b[39m] = \u001b[33m\"\u001b[39m\u001b[33m3\u001b[39m\u001b[33m\"\u001b[39m\n\u001b[32m      6\u001b[39m \u001b[38;5;28;01mimport\u001b[39;00m\u001b[38;5;250m \u001b[39m\u001b[34;01mqleet\u001b[39;00m\u001b[34;01m.\u001b[39;00m\u001b[34;01mexamples\u001b[39;00m\n\u001b[32m----> \u001b[39m\u001b[32m7\u001b[39m \u001b[38;5;28;01mimport\u001b[39;00m\u001b[38;5;250m \u001b[39m\u001b[34;01mqleet\u001b[39;00m\u001b[34;01m.\u001b[39;00m\u001b[34;01manalyzers\u001b[39;00m\n\u001b[32m      8\u001b[39m \u001b[38;5;28;01mimport\u001b[39;00m\u001b[38;5;250m \u001b[39m\u001b[34;01mqleet\u001b[39;00m\u001b[34;01m.\u001b[39;00m\u001b[34;01msimulators\u001b[39;00m\n\u001b[32m      9\u001b[39m \u001b[38;5;28;01mimport\u001b[39;00m\u001b[38;5;250m \u001b[39m\u001b[34;01mqleet\u001b[39;00m\u001b[34;01m.\u001b[39;00m\u001b[34;01minterface\u001b[39;00m\n",
      "\u001b[36mFile \u001b[39m\u001b[32mc:\\Users\\valte\\OneDrive - University of Helsinki\\Desktop\\data_symmetries\\myenv\\Lib\\site-packages\\qleet\\analyzers\\__init__.py:1\u001b[39m\n\u001b[32m----> \u001b[39m\u001b[32m1\u001b[39m \u001b[38;5;28;01mimport\u001b[39;00m\u001b[38;5;250m \u001b[39m\u001b[34;01mqleet\u001b[39;00m\u001b[34;01m.\u001b[39;00m\u001b[34;01manalyzers\u001b[39;00m\u001b[34;01m.\u001b[39;00m\u001b[34;01mloss_landscape\u001b[39;00m\n\u001b[32m      2\u001b[39m \u001b[38;5;28;01mimport\u001b[39;00m\u001b[38;5;250m \u001b[39m\u001b[34;01mqleet\u001b[39;00m\u001b[34;01m.\u001b[39;00m\u001b[34;01manalyzers\u001b[39;00m\u001b[34;01m.\u001b[39;00m\u001b[34;01mtraining_path\u001b[39;00m\n\u001b[32m      3\u001b[39m \u001b[38;5;28;01mimport\u001b[39;00m\u001b[38;5;250m \u001b[39m\u001b[34;01mqleet\u001b[39;00m\u001b[34;01m.\u001b[39;00m\u001b[34;01manalyzers\u001b[39;00m\u001b[34;01m.\u001b[39;00m\u001b[34;01mentanglement\u001b[39;00m\n",
      "\u001b[36mFile \u001b[39m\u001b[32mc:\\Users\\valte\\OneDrive - University of Helsinki\\Desktop\\data_symmetries\\myenv\\Lib\\site-packages\\qleet\\analyzers\\loss_landscape.py:19\u001b[39m\n\u001b[32m     16\u001b[39m \u001b[38;5;28;01mimport\u001b[39;00m\u001b[38;5;250m \u001b[39m\u001b[34;01mtqdm\u001b[39;00m\u001b[34;01m.\u001b[39;00m\u001b[34;01mauto\u001b[39;00m\u001b[38;5;250m \u001b[39m\u001b[38;5;28;01mas\u001b[39;00m\u001b[38;5;250m \u001b[39m\u001b[34;01mtqdm\u001b[39;00m\n\u001b[32m     17\u001b[39m \u001b[38;5;28;01mimport\u001b[39;00m\u001b[38;5;250m \u001b[39m\u001b[34;01mplotly\u001b[39;00m\u001b[34;01m.\u001b[39;00m\u001b[34;01mgraph_objects\u001b[39;00m\u001b[38;5;250m \u001b[39m\u001b[38;5;28;01mas\u001b[39;00m\u001b[38;5;250m \u001b[39m\u001b[34;01mpg\u001b[39;00m\n\u001b[32m---> \u001b[39m\u001b[32m19\u001b[39m \u001b[38;5;28;01mfrom\u001b[39;00m\u001b[38;5;250m \u001b[39m\u001b[34;01m.\u001b[39;00m\u001b[34;01m.\u001b[39;00m\u001b[34;01msimulators\u001b[39;00m\u001b[34;01m.\u001b[39;00m\u001b[34;01mpqc_trainer\u001b[39;00m\u001b[38;5;250m \u001b[39m\u001b[38;5;28;01mimport\u001b[39;00m PQCSimulatedTrainer\n\u001b[32m     20\u001b[39m \u001b[38;5;28;01mfrom\u001b[39;00m\u001b[38;5;250m \u001b[39m\u001b[34;01m.\u001b[39;00m\u001b[34;01m.\u001b[39;00m\u001b[34;01minterface\u001b[39;00m\u001b[34;01m.\u001b[39;00m\u001b[34;01mmetric_spec\u001b[39;00m\u001b[38;5;250m \u001b[39m\u001b[38;5;28;01mimport\u001b[39;00m MetricSpecifier\n\u001b[32m     21\u001b[39m \u001b[38;5;28;01mfrom\u001b[39;00m\u001b[38;5;250m \u001b[39m\u001b[34;01m.\u001b[39;00m\u001b[34;01m.\u001b[39;00m\u001b[34;01minterface\u001b[39;00m\u001b[34;01m.\u001b[39;00m\u001b[34;01mmetas\u001b[39;00m\u001b[38;5;250m \u001b[39m\u001b[38;5;28;01mimport\u001b[39;00m MetaExplorer\n",
      "\u001b[36mFile \u001b[39m\u001b[32mc:\\Users\\valte\\OneDrive - University of Helsinki\\Desktop\\data_symmetries\\myenv\\Lib\\site-packages\\qleet\\simulators\\__init__.py:1\u001b[39m\n\u001b[32m----> \u001b[39m\u001b[32m1\u001b[39m \u001b[38;5;28;01mimport\u001b[39;00m\u001b[38;5;250m \u001b[39m\u001b[34;01mqleet\u001b[39;00m\u001b[34;01m.\u001b[39;00m\u001b[34;01msimulators\u001b[39;00m\u001b[34;01m.\u001b[39;00m\u001b[34;01mpqc_trainer\u001b[39;00m\n\u001b[32m      2\u001b[39m \u001b[38;5;28;01mimport\u001b[39;00m\u001b[38;5;250m \u001b[39m\u001b[34;01mqleet\u001b[39;00m\u001b[34;01m.\u001b[39;00m\u001b[34;01msimulators\u001b[39;00m\u001b[34;01m.\u001b[39;00m\u001b[34;01mcircuit_simulators\u001b[39;00m\n",
      "\u001b[36mFile \u001b[39m\u001b[32mc:\\Users\\valte\\OneDrive - University of Helsinki\\Desktop\\data_symmetries\\myenv\\Lib\\site-packages\\qleet\\simulators\\pqc_trainer.py:15\u001b[39m\n\u001b[32m     12\u001b[39m \u001b[38;5;28;01mimport\u001b[39;00m\u001b[38;5;250m \u001b[39m\u001b[34;01mwarnings\u001b[39;00m\n\u001b[32m     14\u001b[39m warnings.filterwarnings(\u001b[33m\"\u001b[39m\u001b[33mignore\u001b[39m\u001b[33m\"\u001b[39m)\n\u001b[32m---> \u001b[39m\u001b[32m15\u001b[39m \u001b[38;5;28;01mimport\u001b[39;00m\u001b[38;5;250m \u001b[39m\u001b[34;01mtensorflow\u001b[39;00m\u001b[38;5;250m \u001b[39m\u001b[38;5;28;01mas\u001b[39;00m\u001b[38;5;250m \u001b[39m\u001b[34;01mtf\u001b[39;00m\n\u001b[32m     16\u001b[39m \u001b[38;5;28;01mimport\u001b[39;00m\u001b[38;5;250m \u001b[39m\u001b[34;01mtensorflow_quantum\u001b[39;00m\u001b[38;5;250m \u001b[39m\u001b[38;5;28;01mas\u001b[39;00m\u001b[38;5;250m \u001b[39m\u001b[34;01mtfq\u001b[39;00m\n\u001b[32m     18\u001b[39m \u001b[38;5;28;01mfrom\u001b[39;00m\u001b[38;5;250m \u001b[39m\u001b[34;01m.\u001b[39;00m\u001b[34;01m.\u001b[39;00m\u001b[34;01minterface\u001b[39;00m\u001b[34;01m.\u001b[39;00m\u001b[34;01mmetas\u001b[39;00m\u001b[38;5;250m \u001b[39m\u001b[38;5;28;01mimport\u001b[39;00m AnalyzerList\n",
      "\u001b[31mModuleNotFoundError\u001b[39m: No module named 'tensorflow'"
     ]
    }
   ],
   "source": [
    "from qleet.analyzers.expressibility import Expressibility\n",
    "from qleet.interface.circuit import CircuitDescriptor\n",
    "\n",
    "for ansatz_id in range(1, 20):\n",
    "    qiskit_circuit = circuits[ansatz_id]\n",
    "    params = qiskit_circuit.parameters\n",
    "    circuit_descriptor = CircuitDescriptor(qiskit_circuit, params)\n",
    "    exp = Expressibility(circuit_descriptor, n_qubits, shots=10000)\n",
    "    results[ansatz_id][\"expressivity\"] = exp.expressibility()\n",
    "    print(f\"Ansatz {ansatz_id}: {results[ansatz_id]['expressivity']}\")"
   ]
  }
 ],
 "metadata": {
  "kernelspec": {
   "display_name": "myenv (3.12.6)",
   "language": "python",
   "name": "python3"
  },
  "language_info": {
   "codemirror_mode": {
    "name": "ipython",
    "version": 3
   },
   "file_extension": ".py",
   "mimetype": "text/x-python",
   "name": "python",
   "nbconvert_exporter": "python",
   "pygments_lexer": "ipython3",
   "version": "3.12.6"
  }
 },
 "nbformat": 4,
 "nbformat_minor": 5
}
