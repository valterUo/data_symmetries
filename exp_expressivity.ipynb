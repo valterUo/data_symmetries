{
 "cells": [
  {
   "cell_type": "markdown",
   "id": "2e508699",
   "metadata": {},
   "source": [
    "### Expressivity"
   ]
  },
  {
   "cell_type": "code",
   "execution_count": null,
   "id": "ee24c96a",
   "metadata": {},
   "outputs": [
    {
     "name": "stdout",
     "output_type": "stream",
     "text": [
      "Depth: 1\n",
      "  Ansatz ID: 1\n",
      "    Original expressibility = 0.3028\n"
     ]
    },
    {
     "name": "stderr",
     "output_type": "stream",
     "text": [
      "n_qubits=4, depth=1, ansatz=1:  12%|█▎        | 1/8 [00:57<06:42, 57.47s/it]"
     ]
    },
    {
     "name": "stdout",
     "output_type": "stream",
     "text": [
      "    Subgroup 1: expressibility = 0.2959\n",
      "    Subgroup 2: expressibility = 1.1200\n",
      "    Subgroup 2: expressibility = 1.1099\n",
      "    Subgroup 2: expressibility = 1.0997\n",
      "    Subgroup 2: expressibility = 0.4795\n",
      "    Subgroup 2: expressibility = 0.4928\n",
      "    Subgroup 2: expressibility = 0.4502\n",
      "    Subgroup 2: expressibility = 0.4643\n",
      "    Subgroup 2: expressibility = 0.4693\n"
     ]
    },
    {
     "name": "stderr",
     "output_type": "stream",
     "text": [
      "n_qubits=4, depth=1, ansatz=1:  25%|██▌       | 2/8 [10:31<36:07, 361.20s/it]"
     ]
    },
    {
     "name": "stdout",
     "output_type": "stream",
     "text": [
      "    Subgroup 2: expressibility = 0.4672\n",
      "    Subgroup 3: expressibility = 1.6995\n",
      "    Subgroup 3: expressibility = 1.5021\n",
      "    Subgroup 3: expressibility = 1.5768\n"
     ]
    },
    {
     "name": "stderr",
     "output_type": "stream",
     "text": [
      "n_qubits=4, depth=1, ansatz=1:  38%|███▊      | 3/8 [14:55<26:23, 316.70s/it]"
     ]
    },
    {
     "name": "stdout",
     "output_type": "stream",
     "text": [
      "    Subgroup 3: expressibility = 1.5906\n",
      "    Subgroup 4: expressibility = 5.8942\n",
      "    Subgroup 4: expressibility = 1.1117\n",
      "    Subgroup 4: expressibility = 1.0467\n",
      "    Subgroup 4: expressibility = 1.1928\n",
      "    Subgroup 4: expressibility = 6.0823\n",
      "    Subgroup 4: expressibility = 6.5198\n"
     ]
    },
    {
     "name": "stderr",
     "output_type": "stream",
     "text": [
      "n_qubits=4, depth=1, ansatz=1:  50%|█████     | 4/8 [21:44<23:33, 353.36s/it]"
     ]
    },
    {
     "name": "stdout",
     "output_type": "stream",
     "text": [
      "    Subgroup 4: expressibility = 6.3212\n",
      "    Subgroup 6: expressibility = 1.6099\n",
      "    Subgroup 6: expressibility = 1.6032\n",
      "    Subgroup 6: expressibility = 1.6462\n"
     ]
    },
    {
     "name": "stderr",
     "output_type": "stream",
     "text": [
      "n_qubits=4, depth=1, ansatz=1:  62%|██████▎   | 5/8 [25:40<15:32, 310.96s/it]"
     ]
    },
    {
     "name": "stdout",
     "output_type": "stream",
     "text": [
      "    Subgroup 6: expressibility = 1.5171\n",
      "    Subgroup 8: expressibility = 6.4841\n",
      "    Subgroup 8: expressibility = 6.4498\n"
     ]
    },
    {
     "name": "stderr",
     "output_type": "stream",
     "text": [
      "n_qubits=4, depth=1, ansatz=1:  75%|███████▌  | 6/8 [28:36<08:50, 265.27s/it]"
     ]
    },
    {
     "name": "stdout",
     "output_type": "stream",
     "text": [
      "    Subgroup 8: expressibility = 6.5386\n"
     ]
    },
    {
     "name": "stderr",
     "output_type": "stream",
     "text": [
      "n_qubits=4, depth=1, ansatz=1:  88%|████████▊ | 7/8 [29:35<03:17, 197.81s/it]"
     ]
    },
    {
     "name": "stdout",
     "output_type": "stream",
     "text": [
      "    Subgroup 12: expressibility = 6.4987\n"
     ]
    },
    {
     "name": "stderr",
     "output_type": "stream",
     "text": [
      "n_qubits=4, depth=1, ansatz=1: 100%|██████████| 8/8 [30:34<00:00, 229.33s/it]"
     ]
    },
    {
     "name": "stdout",
     "output_type": "stream",
     "text": [
      "    Subgroup 24: expressibility = 6.4083\n",
      "  Ansatz ID: 2\n"
     ]
    },
    {
     "name": "stderr",
     "output_type": "stream",
     "text": [
      "\n"
     ]
    },
    {
     "name": "stdout",
     "output_type": "stream",
     "text": [
      "    Original expressibility = 0.2973\n"
     ]
    },
    {
     "name": "stderr",
     "output_type": "stream",
     "text": [
      "n_qubits=4, depth=1, ansatz=2:  12%|█▎        | 1/8 [01:02<07:18, 62.58s/it]"
     ]
    },
    {
     "name": "stdout",
     "output_type": "stream",
     "text": [
      "    Subgroup 1: expressibility = 0.3018\n",
      "    Subgroup 2: expressibility = 1.1804\n",
      "    Subgroup 2: expressibility = 1.0889\n",
      "    Subgroup 2: expressibility = 1.0705\n",
      "    Subgroup 2: expressibility = 0.4819\n",
      "    Subgroup 2: expressibility = 0.5113\n",
      "    Subgroup 2: expressibility = 0.4568\n",
      "    Subgroup 2: expressibility = 0.4879\n",
      "    Subgroup 2: expressibility = 0.4846\n"
     ]
    },
    {
     "name": "stderr",
     "output_type": "stream",
     "text": [
      "n_qubits=4, depth=1, ansatz=2:  25%|██▌       | 2/8 [10:41<36:38, 366.39s/it]"
     ]
    },
    {
     "name": "stdout",
     "output_type": "stream",
     "text": [
      "    Subgroup 2: expressibility = 0.5121\n",
      "    Subgroup 3: expressibility = 1.6718\n",
      "    Subgroup 3: expressibility = 1.6764\n",
      "    Subgroup 3: expressibility = 1.6318\n"
     ]
    },
    {
     "name": "stderr",
     "output_type": "stream",
     "text": [
      "n_qubits=4, depth=1, ansatz=2:  38%|███▊      | 3/8 [15:05<26:37, 319.59s/it]"
     ]
    },
    {
     "name": "stdout",
     "output_type": "stream",
     "text": [
      "    Subgroup 3: expressibility = 1.6465\n",
      "    Subgroup 4: expressibility = 6.3242\n",
      "    Subgroup 4: expressibility = 1.0846\n",
      "    Subgroup 4: expressibility = 1.0940\n",
      "    Subgroup 4: expressibility = 1.1632\n",
      "    Subgroup 4: expressibility = 6.2701\n",
      "    Subgroup 4: expressibility = 6.1035\n"
     ]
    },
    {
     "name": "stderr",
     "output_type": "stream",
     "text": [
      "n_qubits=4, depth=1, ansatz=2:  50%|█████     | 4/8 [22:59<25:22, 380.72s/it]"
     ]
    },
    {
     "name": "stdout",
     "output_type": "stream",
     "text": [
      "    Subgroup 4: expressibility = 6.1757\n",
      "    Subgroup 6: expressibility = 1.6739\n",
      "    Subgroup 6: expressibility = 1.5245\n",
      "    Subgroup 6: expressibility = 1.5552\n"
     ]
    },
    {
     "name": "stderr",
     "output_type": "stream",
     "text": [
      "n_qubits=4, depth=1, ansatz=2:  62%|██████▎   | 5/8 [27:25<16:57, 339.08s/it]"
     ]
    },
    {
     "name": "stdout",
     "output_type": "stream",
     "text": [
      "    Subgroup 6: expressibility = 1.5663\n",
      "    Subgroup 8: expressibility = 6.3610\n",
      "    Subgroup 8: expressibility = 6.2911\n"
     ]
    },
    {
     "name": "stderr",
     "output_type": "stream",
     "text": [
      "n_qubits=4, depth=1, ansatz=2:  75%|███████▌  | 6/8 [30:52<09:48, 294.34s/it]"
     ]
    },
    {
     "name": "stdout",
     "output_type": "stream",
     "text": [
      "    Subgroup 8: expressibility = 6.6203\n"
     ]
    },
    {
     "name": "stderr",
     "output_type": "stream",
     "text": [
      "n_qubits=4, depth=1, ansatz=2:  88%|████████▊ | 7/8 [32:03<03:41, 221.36s/it]"
     ]
    },
    {
     "name": "stdout",
     "output_type": "stream",
     "text": [
      "    Subgroup 12: expressibility = 5.9419\n"
     ]
    },
    {
     "name": "stderr",
     "output_type": "stream",
     "text": [
      "n_qubits=4, depth=1, ansatz=2: 100%|██████████| 8/8 [33:15<00:00, 249.38s/it]"
     ]
    },
    {
     "name": "stdout",
     "output_type": "stream",
     "text": [
      "    Subgroup 24: expressibility = 6.4696\n",
      "  Ansatz ID: 3\n"
     ]
    },
    {
     "name": "stderr",
     "output_type": "stream",
     "text": [
      "\n"
     ]
    },
    {
     "name": "stdout",
     "output_type": "stream",
     "text": [
      "    Original expressibility = 0.2512\n"
     ]
    },
    {
     "name": "stderr",
     "output_type": "stream",
     "text": [
      "n_qubits=4, depth=1, ansatz=3:  12%|█▎        | 1/8 [01:01<07:12, 61.81s/it]"
     ]
    },
    {
     "name": "stdout",
     "output_type": "stream",
     "text": [
      "    Subgroup 1: expressibility = 0.2624\n",
      "    Subgroup 2: expressibility = 0.5922\n",
      "    Subgroup 2: expressibility = 0.7175\n",
      "    Subgroup 2: expressibility = 0.6862\n",
      "    Subgroup 2: expressibility = 0.3301\n",
      "    Subgroup 2: expressibility = 0.3201\n",
      "    Subgroup 2: expressibility = 0.3580\n",
      "    Subgroup 2: expressibility = 0.3395\n",
      "    Subgroup 2: expressibility = 0.4157\n"
     ]
    },
    {
     "name": "stderr",
     "output_type": "stream",
     "text": [
      "n_qubits=4, depth=1, ansatz=3:  25%|██▌       | 2/8 [10:36<36:22, 363.80s/it]"
     ]
    },
    {
     "name": "stdout",
     "output_type": "stream",
     "text": [
      "    Subgroup 2: expressibility = 0.4124\n",
      "    Subgroup 3: expressibility = 1.1125\n",
      "    Subgroup 3: expressibility = 1.2013\n",
      "    Subgroup 3: expressibility = 1.1003\n"
     ]
    },
    {
     "name": "stderr",
     "output_type": "stream",
     "text": [
      "n_qubits=4, depth=1, ansatz=3:  38%|███▊      | 3/8 [14:55<26:18, 315.78s/it]"
     ]
    },
    {
     "name": "stdout",
     "output_type": "stream",
     "text": [
      "    Subgroup 3: expressibility = 1.0731\n",
      "    Subgroup 4: expressibility = 3.0076\n",
      "    Subgroup 4: expressibility = 0.6102\n",
      "    Subgroup 4: expressibility = 0.7838\n",
      "    Subgroup 4: expressibility = 0.8802\n",
      "    Subgroup 4: expressibility = 3.5354\n",
      "    Subgroup 4: expressibility = 4.1626\n"
     ]
    },
    {
     "name": "stderr",
     "output_type": "stream",
     "text": [
      "n_qubits=4, depth=1, ansatz=3:  50%|█████     | 4/8 [22:32<24:45, 371.43s/it]"
     ]
    },
    {
     "name": "stdout",
     "output_type": "stream",
     "text": [
      "    Subgroup 4: expressibility = 3.6874\n",
      "    Subgroup 6: expressibility = 0.9583\n",
      "    Subgroup 6: expressibility = 1.1070\n",
      "    Subgroup 6: expressibility = 1.1543\n"
     ]
    },
    {
     "name": "stderr",
     "output_type": "stream",
     "text": [
      "n_qubits=4, depth=1, ansatz=3:  62%|██████▎   | 5/8 [26:51<16:32, 330.92s/it]"
     ]
    },
    {
     "name": "stdout",
     "output_type": "stream",
     "text": [
      "    Subgroup 6: expressibility = 1.0459\n",
      "    Subgroup 8: expressibility = 3.6013\n",
      "    Subgroup 8: expressibility = 3.6896\n"
     ]
    },
    {
     "name": "stderr",
     "output_type": "stream",
     "text": [
      "n_qubits=4, depth=1, ansatz=3:  75%|███████▌  | 6/8 [30:10<09:31, 285.96s/it]"
     ]
    },
    {
     "name": "stdout",
     "output_type": "stream",
     "text": [
      "    Subgroup 8: expressibility = 4.3357\n"
     ]
    },
    {
     "name": "stderr",
     "output_type": "stream",
     "text": [
      "n_qubits=4, depth=1, ansatz=3:  88%|████████▊ | 7/8 [31:17<03:34, 214.44s/it]"
     ]
    },
    {
     "name": "stdout",
     "output_type": "stream",
     "text": [
      "    Subgroup 12: expressibility = 4.9271\n"
     ]
    },
    {
     "name": "stderr",
     "output_type": "stream",
     "text": [
      "n_qubits=4, depth=1, ansatz=3: 100%|██████████| 8/8 [32:24<00:00, 243.06s/it]"
     ]
    },
    {
     "name": "stdout",
     "output_type": "stream",
     "text": [
      "    Subgroup 24: expressibility = 4.8518\n",
      "  Ansatz ID: 4\n"
     ]
    },
    {
     "name": "stderr",
     "output_type": "stream",
     "text": [
      "\n"
     ]
    },
    {
     "name": "stdout",
     "output_type": "stream",
     "text": [
      "    Original expressibility = 0.1370\n"
     ]
    },
    {
     "name": "stderr",
     "output_type": "stream",
     "text": [
      "n_qubits=4, depth=1, ansatz=4:  12%|█▎        | 1/8 [01:01<07:12, 61.73s/it]"
     ]
    },
    {
     "name": "stdout",
     "output_type": "stream",
     "text": [
      "    Subgroup 1: expressibility = 0.1325\n",
      "    Subgroup 2: expressibility = 0.4344\n",
      "    Subgroup 2: expressibility = 0.4158\n",
      "    Subgroup 2: expressibility = 0.4963\n",
      "    Subgroup 2: expressibility = 0.2302\n",
      "    Subgroup 2: expressibility = 0.2134\n",
      "    Subgroup 2: expressibility = 0.2422\n",
      "    Subgroup 2: expressibility = 0.1655\n",
      "    Subgroup 2: expressibility = 0.1734\n"
     ]
    },
    {
     "name": "stderr",
     "output_type": "stream",
     "text": [
      "n_qubits=4, depth=1, ansatz=4:  25%|██▌       | 2/8 [10:30<35:59, 359.91s/it]"
     ]
    },
    {
     "name": "stdout",
     "output_type": "stream",
     "text": [
      "    Subgroup 2: expressibility = 0.1530\n",
      "    Subgroup 3: expressibility = 0.9809\n",
      "    Subgroup 3: expressibility = 0.8997\n",
      "    Subgroup 3: expressibility = 0.8851\n"
     ]
    },
    {
     "name": "stderr",
     "output_type": "stream",
     "text": [
      "n_qubits=4, depth=1, ansatz=4:  38%|███▊      | 3/8 [14:48<26:07, 313.46s/it]"
     ]
    },
    {
     "name": "stdout",
     "output_type": "stream",
     "text": [
      "    Subgroup 3: expressibility = 0.8866\n",
      "    Subgroup 4: expressibility = 3.6297\n",
      "    Subgroup 4: expressibility = 0.5094\n",
      "    Subgroup 4: expressibility = 0.5796\n",
      "    Subgroup 4: expressibility = 0.6444\n",
      "    Subgroup 4: expressibility = 3.6971\n",
      "    Subgroup 4: expressibility = 4.3899\n"
     ]
    },
    {
     "name": "stderr",
     "output_type": "stream",
     "text": [
      "n_qubits=4, depth=1, ansatz=4:  50%|█████     | 4/8 [22:26<24:42, 370.68s/it]"
     ]
    },
    {
     "name": "stdout",
     "output_type": "stream",
     "text": [
      "    Subgroup 4: expressibility = 3.8445\n",
      "    Subgroup 6: expressibility = 1.2036\n",
      "    Subgroup 6: expressibility = 0.9820\n",
      "    Subgroup 6: expressibility = 1.0669\n"
     ]
    },
    {
     "name": "stderr",
     "output_type": "stream",
     "text": [
      "n_qubits=4, depth=1, ansatz=4:  62%|██████▎   | 5/8 [26:47<16:32, 330.87s/it]"
     ]
    },
    {
     "name": "stdout",
     "output_type": "stream",
     "text": [
      "    Subgroup 6: expressibility = 0.9416\n",
      "    Subgroup 8: expressibility = 4.0032\n",
      "    Subgroup 8: expressibility = 3.9194\n"
     ]
    },
    {
     "name": "stderr",
     "output_type": "stream",
     "text": [
      "n_qubits=4, depth=1, ansatz=4:  75%|███████▌  | 6/8 [30:09<09:34, 287.20s/it]"
     ]
    },
    {
     "name": "stdout",
     "output_type": "stream",
     "text": [
      "    Subgroup 8: expressibility = 4.6594\n"
     ]
    },
    {
     "name": "stderr",
     "output_type": "stream",
     "text": [
      "n_qubits=4, depth=1, ansatz=4:  88%|████████▊ | 7/8 [31:19<03:36, 216.01s/it]"
     ]
    },
    {
     "name": "stdout",
     "output_type": "stream",
     "text": [
      "    Subgroup 12: expressibility = 4.7685\n"
     ]
    },
    {
     "name": "stderr",
     "output_type": "stream",
     "text": [
      "n_qubits=4, depth=1, ansatz=4: 100%|██████████| 8/8 [32:28<00:00, 243.56s/it]"
     ]
    },
    {
     "name": "stdout",
     "output_type": "stream",
     "text": [
      "    Subgroup 24: expressibility = 5.1493\n",
      "  Ansatz ID: 5\n"
     ]
    },
    {
     "name": "stderr",
     "output_type": "stream",
     "text": [
      "\n"
     ]
    },
    {
     "name": "stdout",
     "output_type": "stream",
     "text": [
      "    Original expressibility = 0.0579\n"
     ]
    },
    {
     "name": "stderr",
     "output_type": "stream",
     "text": [
      "n_qubits=4, depth=1, ansatz=5:  12%|█▎        | 1/8 [01:29<10:23, 89.00s/it]"
     ]
    },
    {
     "name": "stdout",
     "output_type": "stream",
     "text": [
      "    Subgroup 1: expressibility = 0.0590\n",
      "    Subgroup 2: expressibility = 0.2481\n",
      "    Subgroup 2: expressibility = 0.2511\n",
      "    Subgroup 2: expressibility = 0.2620\n",
      "    Subgroup 2: expressibility = 0.1100\n",
      "    Subgroup 2: expressibility = 0.1253\n",
      "    Subgroup 2: expressibility = 0.1215\n",
      "    Subgroup 2: expressibility = 0.1303\n",
      "    Subgroup 2: expressibility = 0.1220\n"
     ]
    },
    {
     "name": "stderr",
     "output_type": "stream",
     "text": [
      "n_qubits=4, depth=1, ansatz=5:  25%|██▌       | 2/8 [15:23<52:45, 527.57s/it]"
     ]
    },
    {
     "name": "stdout",
     "output_type": "stream",
     "text": [
      "    Subgroup 2: expressibility = 0.1077\n",
      "    Subgroup 3: expressibility = 0.5380\n",
      "    Subgroup 3: expressibility = 0.5327\n",
      "    Subgroup 3: expressibility = 0.5267\n"
     ]
    },
    {
     "name": "stderr",
     "output_type": "stream",
     "text": [
      "n_qubits=4, depth=1, ansatz=5:  38%|███▊      | 3/8 [21:59<38:56, 467.29s/it]"
     ]
    },
    {
     "name": "stdout",
     "output_type": "stream",
     "text": [
      "    Subgroup 3: expressibility = 0.5270\n",
      "    Subgroup 4: expressibility = 0.9755\n",
      "    Subgroup 4: expressibility = 0.3232\n",
      "    Subgroup 4: expressibility = 0.3510\n",
      "    Subgroup 4: expressibility = 0.3608\n",
      "    Subgroup 4: expressibility = 1.3601\n",
      "    Subgroup 4: expressibility = 1.4963\n"
     ]
    },
    {
     "name": "stderr",
     "output_type": "stream",
     "text": [
      "n_qubits=4, depth=1, ansatz=5:  50%|█████     | 4/8 [33:37<37:13, 558.37s/it]"
     ]
    },
    {
     "name": "stdout",
     "output_type": "stream",
     "text": [
      "    Subgroup 4: expressibility = 1.4337\n",
      "    Subgroup 6: expressibility = 0.5048\n",
      "    Subgroup 6: expressibility = 0.5405\n",
      "    Subgroup 6: expressibility = 0.5530\n"
     ]
    },
    {
     "name": "stderr",
     "output_type": "stream",
     "text": [
      "n_qubits=4, depth=1, ansatz=5:  62%|██████▎   | 5/8 [40:06<24:52, 497.60s/it]"
     ]
    },
    {
     "name": "stdout",
     "output_type": "stream",
     "text": [
      "    Subgroup 6: expressibility = 0.5063\n",
      "    Subgroup 8: expressibility = 1.4272\n",
      "    Subgroup 8: expressibility = 1.3515\n"
     ]
    },
    {
     "name": "stderr",
     "output_type": "stream",
     "text": [
      "n_qubits=4, depth=1, ansatz=5:  75%|███████▌  | 6/8 [45:15<14:26, 433.26s/it]"
     ]
    },
    {
     "name": "stdout",
     "output_type": "stream",
     "text": [
      "    Subgroup 8: expressibility = 1.4031\n"
     ]
    },
    {
     "name": "stderr",
     "output_type": "stream",
     "text": [
      "n_qubits=4, depth=1, ansatz=5:  88%|████████▊ | 7/8 [47:02<05:26, 326.67s/it]"
     ]
    },
    {
     "name": "stdout",
     "output_type": "stream",
     "text": [
      "    Subgroup 12: expressibility = 2.1740\n"
     ]
    },
    {
     "name": "stderr",
     "output_type": "stream",
     "text": [
      "n_qubits=4, depth=1, ansatz=5: 100%|██████████| 8/8 [48:49<00:00, 366.21s/it]"
     ]
    },
    {
     "name": "stdout",
     "output_type": "stream",
     "text": [
      "    Subgroup 24: expressibility = 2.3453\n",
      "  Ansatz ID: 6\n"
     ]
    },
    {
     "name": "stderr",
     "output_type": "stream",
     "text": [
      "\n"
     ]
    },
    {
     "name": "stdout",
     "output_type": "stream",
     "text": [
      "    Original expressibility = 0.0049\n"
     ]
    },
    {
     "name": "stderr",
     "output_type": "stream",
     "text": [
      "n_qubits=4, depth=1, ansatz=6:  12%|█▎        | 1/8 [01:29<10:24, 89.18s/it]"
     ]
    },
    {
     "name": "stdout",
     "output_type": "stream",
     "text": [
      "    Subgroup 1: expressibility = 0.0029\n",
      "    Subgroup 2: expressibility = 0.1494\n",
      "    Subgroup 2: expressibility = 0.1584\n",
      "    Subgroup 2: expressibility = 0.1697\n",
      "    Subgroup 2: expressibility = 0.0558\n",
      "    Subgroup 2: expressibility = 0.0638\n",
      "    Subgroup 2: expressibility = 0.0539\n",
      "    Subgroup 2: expressibility = 0.0552\n",
      "    Subgroup 2: expressibility = 0.0609\n"
     ]
    },
    {
     "name": "stderr",
     "output_type": "stream",
     "text": [
      "n_qubits=4, depth=1, ansatz=6:  25%|██▌       | 2/8 [15:26<52:56, 529.37s/it]"
     ]
    },
    {
     "name": "stdout",
     "output_type": "stream",
     "text": [
      "    Subgroup 2: expressibility = 0.0584\n",
      "    Subgroup 3: expressibility = 0.1132\n",
      "    Subgroup 3: expressibility = 0.1079\n",
      "    Subgroup 3: expressibility = 0.0895\n"
     ]
    },
    {
     "name": "stderr",
     "output_type": "stream",
     "text": [
      "n_qubits=4, depth=1, ansatz=6:  38%|███▊      | 3/8 [22:02<39:01, 468.31s/it]"
     ]
    },
    {
     "name": "stdout",
     "output_type": "stream",
     "text": [
      "    Subgroup 3: expressibility = 0.0880\n",
      "    Subgroup 4: expressibility = 0.7610\n",
      "    Subgroup 4: expressibility = 0.2476\n",
      "    Subgroup 4: expressibility = 0.2726\n",
      "    Subgroup 4: expressibility = 0.2663\n",
      "    Subgroup 4: expressibility = 0.6312\n",
      "    Subgroup 4: expressibility = 0.6441\n"
     ]
    },
    {
     "name": "stderr",
     "output_type": "stream",
     "text": [
      "n_qubits=4, depth=1, ansatz=6:  50%|█████     | 4/8 [33:49<37:30, 562.51s/it]"
     ]
    },
    {
     "name": "stdout",
     "output_type": "stream",
     "text": [
      "    Subgroup 4: expressibility = 0.6927\n",
      "    Subgroup 6: expressibility = 0.3081\n",
      "    Subgroup 6: expressibility = 0.2723\n",
      "    Subgroup 6: expressibility = 0.3074\n"
     ]
    },
    {
     "name": "stderr",
     "output_type": "stream",
     "text": [
      "n_qubits=4, depth=1, ansatz=6:  62%|██████▎   | 5/8 [40:29<25:11, 503.90s/it]"
     ]
    },
    {
     "name": "stdout",
     "output_type": "stream",
     "text": [
      "    Subgroup 6: expressibility = 0.2531\n",
      "    Subgroup 8: expressibility = 0.9159\n",
      "    Subgroup 8: expressibility = 0.9622\n"
     ]
    },
    {
     "name": "stderr",
     "output_type": "stream",
     "text": [
      "n_qubits=4, depth=1, ansatz=6:  75%|███████▌  | 6/8 [45:53<14:45, 442.89s/it]"
     ]
    },
    {
     "name": "stdout",
     "output_type": "stream",
     "text": [
      "    Subgroup 8: expressibility = 0.9564\n"
     ]
    },
    {
     "name": "stderr",
     "output_type": "stream",
     "text": [
      "n_qubits=4, depth=1, ansatz=6:  88%|████████▊ | 7/8 [47:49<05:36, 336.05s/it]"
     ]
    },
    {
     "name": "stdout",
     "output_type": "stream",
     "text": [
      "    Subgroup 12: expressibility = 1.2885\n"
     ]
    },
    {
     "name": "stderr",
     "output_type": "stream",
     "text": [
      "n_qubits=4, depth=1, ansatz=6: 100%|██████████| 8/8 [49:46<00:00, 373.25s/it]"
     ]
    },
    {
     "name": "stdout",
     "output_type": "stream",
     "text": [
      "    Subgroup 24: expressibility = 1.2773\n",
      "  Ansatz ID: 7\n"
     ]
    },
    {
     "name": "stderr",
     "output_type": "stream",
     "text": [
      "\n"
     ]
    },
    {
     "name": "stdout",
     "output_type": "stream",
     "text": [
      "    Original expressibility = 0.1214\n"
     ]
    },
    {
     "name": "stderr",
     "output_type": "stream",
     "text": [
      "n_qubits=4, depth=1, ansatz=7:  12%|█▎        | 1/8 [01:13<08:35, 73.69s/it]"
     ]
    },
    {
     "name": "stdout",
     "output_type": "stream",
     "text": [
      "    Subgroup 1: expressibility = 0.1092\n",
      "    Subgroup 2: expressibility = 0.4118\n",
      "    Subgroup 2: expressibility = 0.4073\n",
      "    Subgroup 2: expressibility = 0.3613\n",
      "    Subgroup 2: expressibility = 0.1530\n",
      "    Subgroup 2: expressibility = 0.1193\n",
      "    Subgroup 2: expressibility = 0.1411\n",
      "    Subgroup 2: expressibility = 0.1893\n",
      "    Subgroup 2: expressibility = 0.1354\n"
     ]
    },
    {
     "name": "stderr",
     "output_type": "stream",
     "text": [
      "n_qubits=4, depth=1, ansatz=7:  25%|██▌       | 2/8 [12:31<42:55, 429.22s/it]"
     ]
    },
    {
     "name": "stdout",
     "output_type": "stream",
     "text": [
      "    Subgroup 2: expressibility = 0.1256\n",
      "    Subgroup 3: expressibility = 0.5316\n",
      "    Subgroup 3: expressibility = 0.5350\n",
      "    Subgroup 3: expressibility = 0.5488\n"
     ]
    },
    {
     "name": "stderr",
     "output_type": "stream",
     "text": [
      "n_qubits=4, depth=1, ansatz=7:  38%|███▊      | 3/8 [17:40<31:11, 374.35s/it]"
     ]
    },
    {
     "name": "stdout",
     "output_type": "stream",
     "text": [
      "    Subgroup 3: expressibility = 0.5456\n",
      "    Subgroup 4: expressibility = 1.2645\n",
      "    Subgroup 4: expressibility = 0.3947\n",
      "    Subgroup 4: expressibility = 0.3624\n",
      "    Subgroup 4: expressibility = 0.4049\n",
      "    Subgroup 4: expressibility = 1.3750\n",
      "    Subgroup 4: expressibility = 1.3578\n"
     ]
    },
    {
     "name": "stderr",
     "output_type": "stream",
     "text": [
      "n_qubits=4, depth=1, ansatz=7:  50%|█████     | 4/8 [26:46<29:28, 442.15s/it]"
     ]
    },
    {
     "name": "stdout",
     "output_type": "stream",
     "text": [
      "    Subgroup 4: expressibility = 1.2415\n",
      "    Subgroup 6: expressibility = 0.5317\n",
      "    Subgroup 6: expressibility = 0.5561\n",
      "    Subgroup 6: expressibility = 0.5077\n"
     ]
    },
    {
     "name": "stderr",
     "output_type": "stream",
     "text": [
      "n_qubits=4, depth=1, ansatz=7:  62%|██████▎   | 5/8 [31:55<19:42, 394.11s/it]"
     ]
    },
    {
     "name": "stdout",
     "output_type": "stream",
     "text": [
      "    Subgroup 6: expressibility = 0.5543\n",
      "    Subgroup 8: expressibility = 1.2813\n",
      "    Subgroup 8: expressibility = 1.2538\n"
     ]
    },
    {
     "name": "stderr",
     "output_type": "stream",
     "text": [
      "n_qubits=4, depth=1, ansatz=7:  75%|███████▌  | 6/8 [35:54<11:22, 341.32s/it]"
     ]
    },
    {
     "name": "stdout",
     "output_type": "stream",
     "text": [
      "    Subgroup 8: expressibility = 1.3686\n"
     ]
    },
    {
     "name": "stderr",
     "output_type": "stream",
     "text": [
      "n_qubits=4, depth=1, ansatz=7:  88%|████████▊ | 7/8 [37:15<04:16, 256.02s/it]"
     ]
    },
    {
     "name": "stdout",
     "output_type": "stream",
     "text": [
      "    Subgroup 12: expressibility = 1.9503\n"
     ]
    },
    {
     "name": "stderr",
     "output_type": "stream",
     "text": [
      "n_qubits=4, depth=1, ansatz=7: 100%|██████████| 8/8 [38:35<00:00, 289.47s/it]"
     ]
    },
    {
     "name": "stdout",
     "output_type": "stream",
     "text": [
      "    Subgroup 24: expressibility = 1.9588\n",
      "  Ansatz ID: 8\n"
     ]
    },
    {
     "name": "stderr",
     "output_type": "stream",
     "text": [
      "\n"
     ]
    },
    {
     "name": "stdout",
     "output_type": "stream",
     "text": [
      "    Original expressibility = 0.0646\n"
     ]
    },
    {
     "name": "stderr",
     "output_type": "stream",
     "text": [
      "n_qubits=4, depth=1, ansatz=8:  12%|█▎        | 1/8 [01:13<08:35, 73.64s/it]"
     ]
    },
    {
     "name": "stdout",
     "output_type": "stream",
     "text": [
      "    Subgroup 1: expressibility = 0.0676\n",
      "    Subgroup 2: expressibility = 0.3177\n",
      "    Subgroup 2: expressibility = 0.3576\n",
      "    Subgroup 2: expressibility = 0.3369\n",
      "    Subgroup 2: expressibility = 0.1330\n",
      "    Subgroup 2: expressibility = 0.0989\n",
      "    Subgroup 2: expressibility = 0.1258\n",
      "    Subgroup 2: expressibility = 0.1293\n",
      "    Subgroup 2: expressibility = 0.1044\n"
     ]
    },
    {
     "name": "stderr",
     "output_type": "stream",
     "text": [
      "n_qubits=4, depth=1, ansatz=8:  25%|██▌       | 2/8 [12:36<43:13, 432.21s/it]"
     ]
    },
    {
     "name": "stdout",
     "output_type": "stream",
     "text": [
      "    Subgroup 2: expressibility = 0.0839\n",
      "    Subgroup 3: expressibility = 0.4273\n",
      "    Subgroup 3: expressibility = 0.4001\n",
      "    Subgroup 3: expressibility = 0.4802\n"
     ]
    },
    {
     "name": "stderr",
     "output_type": "stream",
     "text": [
      "n_qubits=4, depth=1, ansatz=8:  38%|███▊      | 3/8 [17:45<31:19, 375.85s/it]"
     ]
    },
    {
     "name": "stdout",
     "output_type": "stream",
     "text": [
      "    Subgroup 3: expressibility = 0.4233\n",
      "    Subgroup 4: expressibility = 1.3552\n",
      "    Subgroup 4: expressibility = 0.3361\n",
      "    Subgroup 4: expressibility = 0.3717\n",
      "    Subgroup 4: expressibility = 0.3623\n",
      "    Subgroup 4: expressibility = 1.4954\n",
      "    Subgroup 4: expressibility = 1.5120\n"
     ]
    },
    {
     "name": "stderr",
     "output_type": "stream",
     "text": [
      "n_qubits=4, depth=1, ansatz=8:  50%|█████     | 4/8 [26:54<29:36, 444.22s/it]"
     ]
    },
    {
     "name": "stdout",
     "output_type": "stream",
     "text": [
      "    Subgroup 4: expressibility = 1.5731\n",
      "    Subgroup 6: expressibility = 0.5475\n",
      "    Subgroup 6: expressibility = 0.5132\n",
      "    Subgroup 6: expressibility = 0.5160\n"
     ]
    },
    {
     "name": "stderr",
     "output_type": "stream",
     "text": [
      "n_qubits=4, depth=1, ansatz=8:  62%|██████▎   | 5/8 [32:06<19:49, 396.48s/it]"
     ]
    },
    {
     "name": "stdout",
     "output_type": "stream",
     "text": [
      "    Subgroup 6: expressibility = 0.5614\n",
      "    Subgroup 8: expressibility = 1.5063\n",
      "    Subgroup 8: expressibility = 1.7669\n"
     ]
    },
    {
     "name": "stderr",
     "output_type": "stream",
     "text": [
      "n_qubits=4, depth=1, ansatz=8:  75%|███████▌  | 6/8 [36:08<11:28, 344.03s/it]"
     ]
    },
    {
     "name": "stdout",
     "output_type": "stream",
     "text": [
      "    Subgroup 8: expressibility = 1.7920\n"
     ]
    },
    {
     "name": "stderr",
     "output_type": "stream",
     "text": [
      "n_qubits=4, depth=1, ansatz=8:  88%|████████▊ | 7/8 [37:31<04:18, 258.73s/it]"
     ]
    },
    {
     "name": "stdout",
     "output_type": "stream",
     "text": [
      "    Subgroup 12: expressibility = 2.3286\n"
     ]
    },
    {
     "name": "stderr",
     "output_type": "stream",
     "text": [
      "n_qubits=4, depth=1, ansatz=8: 100%|██████████| 8/8 [38:54<00:00, 291.82s/it]"
     ]
    },
    {
     "name": "stdout",
     "output_type": "stream",
     "text": [
      "    Subgroup 24: expressibility = 2.2859\n",
      "  Ansatz ID: 9\n"
     ]
    },
    {
     "name": "stderr",
     "output_type": "stream",
     "text": [
      "\n"
     ]
    },
    {
     "name": "stdout",
     "output_type": "stream",
     "text": [
      "    Original expressibility = 0.7567\n"
     ]
    },
    {
     "name": "stderr",
     "output_type": "stream",
     "text": [
      "n_qubits=4, depth=1, ansatz=9:  12%|█▎        | 1/8 [01:02<07:20, 62.96s/it]"
     ]
    },
    {
     "name": "stdout",
     "output_type": "stream",
     "text": [
      "    Subgroup 1: expressibility = 18.9123\n",
      "    Subgroup 2: expressibility = 4.1195\n",
      "    Subgroup 2: expressibility = 4.1189\n",
      "    Subgroup 2: expressibility = 5.1650\n",
      "    Subgroup 2: expressibility = 3.6153\n",
      "    Subgroup 2: expressibility = 3.1738\n",
      "    Subgroup 2: expressibility = 3.3906\n",
      "    Subgroup 2: expressibility = 3.5164\n",
      "    Subgroup 2: expressibility = 3.5775\n"
     ]
    },
    {
     "name": "stderr",
     "output_type": "stream",
     "text": [
      "n_qubits=4, depth=1, ansatz=9:  25%|██▌       | 2/8 [10:42<36:41, 366.93s/it]"
     ]
    },
    {
     "name": "stdout",
     "output_type": "stream",
     "text": [
      "    Subgroup 2: expressibility = 3.3085\n",
      "    Subgroup 3: expressibility = 8.3788\n",
      "    Subgroup 3: expressibility = 8.1327\n",
      "    Subgroup 3: expressibility = 8.7621\n"
     ]
    },
    {
     "name": "stderr",
     "output_type": "stream",
     "text": [
      "n_qubits=4, depth=1, ansatz=9:  38%|███▊      | 3/8 [15:06<26:40, 320.07s/it]"
     ]
    },
    {
     "name": "stdout",
     "output_type": "stream",
     "text": [
      "    Subgroup 3: expressibility = 8.8106\n",
      "    Subgroup 4: expressibility = 14.3238\n",
      "    Subgroup 4: expressibility = 3.2837\n",
      "    Subgroup 4: expressibility = 3.0712\n",
      "    Subgroup 4: expressibility = 4.6763\n",
      "    Subgroup 4: expressibility = 13.9521\n",
      "    Subgroup 4: expressibility = 13.8948\n"
     ]
    },
    {
     "name": "stderr",
     "output_type": "stream",
     "text": [
      "n_qubits=4, depth=1, ansatz=9:  50%|█████     | 4/8 [22:53<25:11, 377.98s/it]"
     ]
    },
    {
     "name": "stdout",
     "output_type": "stream",
     "text": [
      "    Subgroup 4: expressibility = 14.3324\n",
      "    Subgroup 6: expressibility = 8.2733\n",
      "    Subgroup 6: expressibility = 9.0842\n",
      "    Subgroup 6: expressibility = 8.1915\n"
     ]
    },
    {
     "name": "stderr",
     "output_type": "stream",
     "text": [
      "n_qubits=4, depth=1, ansatz=9:  62%|██████▎   | 5/8 [27:17<16:50, 336.87s/it]"
     ]
    },
    {
     "name": "stdout",
     "output_type": "stream",
     "text": [
      "    Subgroup 6: expressibility = 8.9440\n",
      "    Subgroup 8: expressibility = 13.7724\n",
      "    Subgroup 8: expressibility = 13.4719\n"
     ]
    },
    {
     "name": "stderr",
     "output_type": "stream",
     "text": [
      "n_qubits=4, depth=1, ansatz=9:  75%|███████▌  | 6/8 [30:41<09:42, 291.47s/it]"
     ]
    },
    {
     "name": "stdout",
     "output_type": "stream",
     "text": [
      "    Subgroup 8: expressibility = 13.8749\n"
     ]
    },
    {
     "name": "stderr",
     "output_type": "stream",
     "text": [
      "n_qubits=4, depth=1, ansatz=9:  88%|████████▊ | 7/8 [31:49<03:38, 218.68s/it]"
     ]
    },
    {
     "name": "stdout",
     "output_type": "stream",
     "text": [
      "    Subgroup 12: expressibility = 13.8273\n"
     ]
    },
    {
     "name": "stderr",
     "output_type": "stream",
     "text": [
      "n_qubits=4, depth=1, ansatz=9: 100%|██████████| 8/8 [32:58<00:00, 247.30s/it]"
     ]
    },
    {
     "name": "stdout",
     "output_type": "stream",
     "text": [
      "    Subgroup 24: expressibility = 13.8258\n",
      "  Ansatz ID: 10\n"
     ]
    },
    {
     "name": "stderr",
     "output_type": "stream",
     "text": [
      "\n"
     ]
    },
    {
     "name": "stdout",
     "output_type": "stream",
     "text": [
      "    Original expressibility = 0.2640\n"
     ]
    },
    {
     "name": "stderr",
     "output_type": "stream",
     "text": [
      "n_qubits=4, depth=1, ansatz=10:  12%|█▎        | 1/8 [01:04<07:32, 64.71s/it]"
     ]
    },
    {
     "name": "stdout",
     "output_type": "stream",
     "text": [
      "    Subgroup 1: expressibility = 0.6489\n",
      "    Subgroup 2: expressibility = 2.5006\n",
      "    Subgroup 2: expressibility = 2.4645\n",
      "    Subgroup 2: expressibility = 2.4986\n",
      "    Subgroup 2: expressibility = 0.4509\n",
      "    Subgroup 2: expressibility = 0.5020\n",
      "    Subgroup 2: expressibility = 1.0938\n",
      "    Subgroup 2: expressibility = 0.5279\n",
      "    Subgroup 2: expressibility = 1.1599\n"
     ]
    },
    {
     "name": "stderr",
     "output_type": "stream",
     "text": [
      "n_qubits=4, depth=1, ansatz=10:  25%|██▌       | 2/8 [11:00<37:42, 377.16s/it]"
     ]
    },
    {
     "name": "stdout",
     "output_type": "stream",
     "text": [
      "    Subgroup 2: expressibility = 0.4734\n",
      "    Subgroup 3: expressibility = 1.0121\n",
      "    Subgroup 3: expressibility = 1.0757\n",
      "    Subgroup 3: expressibility = 1.0978\n"
     ]
    },
    {
     "name": "stderr",
     "output_type": "stream",
     "text": [
      "n_qubits=4, depth=1, ansatz=10:  38%|███▊      | 3/8 [15:32<27:24, 328.93s/it]"
     ]
    },
    {
     "name": "stdout",
     "output_type": "stream",
     "text": [
      "    Subgroup 3: expressibility = 1.1644\n",
      "    Subgroup 4: expressibility = 9.9461\n",
      "    Subgroup 4: expressibility = 1.2124\n",
      "    Subgroup 4: expressibility = 1.3381\n",
      "    Subgroup 4: expressibility = 2.3801\n",
      "    Subgroup 4: expressibility = 5.2413\n",
      "    Subgroup 4: expressibility = 10.2221\n"
     ]
    },
    {
     "name": "stderr",
     "output_type": "stream",
     "text": [
      "n_qubits=4, depth=1, ansatz=10:  50%|█████     | 4/8 [23:30<25:51, 387.89s/it]"
     ]
    },
    {
     "name": "stdout",
     "output_type": "stream",
     "text": [
      "    Subgroup 4: expressibility = 5.1367\n",
      "    Subgroup 6: expressibility = 1.1103\n",
      "    Subgroup 6: expressibility = 1.1504\n",
      "    Subgroup 6: expressibility = 1.2443\n"
     ]
    },
    {
     "name": "stderr",
     "output_type": "stream",
     "text": [
      "n_qubits=4, depth=1, ansatz=10:  62%|██████▎   | 5/8 [28:01<17:17, 345.88s/it]"
     ]
    },
    {
     "name": "stdout",
     "output_type": "stream",
     "text": [
      "    Subgroup 6: expressibility = 1.1492\n",
      "    Subgroup 8: expressibility = 5.3851\n",
      "    Subgroup 8: expressibility = 5.5796\n"
     ]
    },
    {
     "name": "stderr",
     "output_type": "stream",
     "text": [
      "n_qubits=4, depth=1, ansatz=10:  75%|███████▌  | 6/8 [31:29<09:57, 298.94s/it]"
     ]
    },
    {
     "name": "stdout",
     "output_type": "stream",
     "text": [
      "    Subgroup 8: expressibility = 10.4679\n"
     ]
    },
    {
     "name": "stderr",
     "output_type": "stream",
     "text": [
      "n_qubits=4, depth=1, ansatz=10:  88%|████████▊ | 7/8 [32:40<03:44, 224.34s/it]"
     ]
    },
    {
     "name": "stdout",
     "output_type": "stream",
     "text": [
      "    Subgroup 12: expressibility = 5.5396\n"
     ]
    },
    {
     "name": "stderr",
     "output_type": "stream",
     "text": [
      "n_qubits=4, depth=1, ansatz=10: 100%|██████████| 8/8 [33:50<00:00, 253.87s/it]"
     ]
    },
    {
     "name": "stdout",
     "output_type": "stream",
     "text": [
      "    Subgroup 24: expressibility = 4.8362\n",
      "  Ansatz ID: 11\n"
     ]
    },
    {
     "name": "stderr",
     "output_type": "stream",
     "text": [
      "\n"
     ]
    },
    {
     "name": "stdout",
     "output_type": "stream",
     "text": [
      "    Original expressibility = 0.1560\n"
     ]
    },
    {
     "name": "stderr",
     "output_type": "stream",
     "text": [
      "n_qubits=4, depth=1, ansatz=11:  12%|█▎        | 1/8 [01:08<07:56, 68.04s/it]"
     ]
    },
    {
     "name": "stdout",
     "output_type": "stream",
     "text": [
      "    Subgroup 1: expressibility = 0.2557\n",
      "    Subgroup 2: expressibility = 0.1915\n",
      "    Subgroup 2: expressibility = 0.8731\n",
      "    Subgroup 2: expressibility = 0.5410\n",
      "    Subgroup 2: expressibility = 0.1935\n",
      "    Subgroup 2: expressibility = 0.1710\n",
      "    Subgroup 2: expressibility = 0.1833\n",
      "    Subgroup 2: expressibility = 0.2200\n",
      "    Subgroup 2: expressibility = 0.0781\n"
     ]
    },
    {
     "name": "stderr",
     "output_type": "stream",
     "text": [
      "n_qubits=4, depth=1, ansatz=11:  25%|██▌       | 2/8 [11:38<39:53, 398.95s/it]"
     ]
    },
    {
     "name": "stdout",
     "output_type": "stream",
     "text": [
      "    Subgroup 2: expressibility = 0.1329\n",
      "    Subgroup 3: expressibility = 0.4513\n",
      "    Subgroup 3: expressibility = 0.2426\n",
      "    Subgroup 3: expressibility = 0.4988\n"
     ]
    },
    {
     "name": "stderr",
     "output_type": "stream",
     "text": [
      "n_qubits=4, depth=1, ansatz=11:  38%|███▊      | 3/8 [16:26<29:00, 348.19s/it]"
     ]
    },
    {
     "name": "stdout",
     "output_type": "stream",
     "text": [
      "    Subgroup 3: expressibility = 0.2871\n",
      "    Subgroup 4: expressibility = 2.1673\n",
      "    Subgroup 4: expressibility = 0.1624\n",
      "    Subgroup 4: expressibility = 0.3619\n",
      "    Subgroup 4: expressibility = 0.3220\n",
      "    Subgroup 4: expressibility = 2.1778\n",
      "    Subgroup 4: expressibility = 1.7481\n"
     ]
    },
    {
     "name": "stderr",
     "output_type": "stream",
     "text": [
      "n_qubits=4, depth=1, ansatz=11:  50%|█████     | 4/8 [25:00<27:34, 413.64s/it]"
     ]
    },
    {
     "name": "stdout",
     "output_type": "stream",
     "text": [
      "    Subgroup 4: expressibility = 1.4153\n",
      "    Subgroup 6: expressibility = 0.4813\n",
      "    Subgroup 6: expressibility = 0.3746\n",
      "    Subgroup 6: expressibility = 0.3851\n"
     ]
    },
    {
     "name": "stderr",
     "output_type": "stream",
     "text": [
      "n_qubits=4, depth=1, ansatz=11:  62%|██████▎   | 5/8 [29:52<18:29, 369.68s/it]"
     ]
    },
    {
     "name": "stdout",
     "output_type": "stream",
     "text": [
      "    Subgroup 6: expressibility = 0.5317\n",
      "    Subgroup 8: expressibility = 2.1018\n",
      "    Subgroup 8: expressibility = 1.7168\n"
     ]
    },
    {
     "name": "stderr",
     "output_type": "stream",
     "text": [
      "n_qubits=4, depth=1, ansatz=11:  75%|███████▌  | 6/8 [33:39<10:42, 321.29s/it]"
     ]
    },
    {
     "name": "stdout",
     "output_type": "stream",
     "text": [
      "    Subgroup 8: expressibility = 1.7223\n"
     ]
    },
    {
     "name": "stderr",
     "output_type": "stream",
     "text": [
      "n_qubits=4, depth=1, ansatz=11:  88%|████████▊ | 7/8 [34:57<04:01, 241.83s/it]"
     ]
    },
    {
     "name": "stdout",
     "output_type": "stream",
     "text": [
      "    Subgroup 12: expressibility = 2.0781\n"
     ]
    },
    {
     "name": "stderr",
     "output_type": "stream",
     "text": [
      "n_qubits=4, depth=1, ansatz=11: 100%|██████████| 8/8 [36:16<00:00, 272.01s/it]"
     ]
    },
    {
     "name": "stdout",
     "output_type": "stream",
     "text": [
      "    Subgroup 24: expressibility = 1.9894\n",
      "  Ansatz ID: 12\n"
     ]
    },
    {
     "name": "stderr",
     "output_type": "stream",
     "text": [
      "\n"
     ]
    },
    {
     "name": "stdout",
     "output_type": "stream",
     "text": [
      "    Original expressibility = 0.1766\n"
     ]
    },
    {
     "name": "stderr",
     "output_type": "stream",
     "text": [
      "n_qubits=4, depth=1, ansatz=12:  12%|█▎        | 1/8 [01:08<07:57, 68.20s/it]"
     ]
    },
    {
     "name": "stdout",
     "output_type": "stream",
     "text": [
      "    Subgroup 1: expressibility = 0.2619\n",
      "    Subgroup 2: expressibility = 0.9147\n",
      "    Subgroup 2: expressibility = 0.8602\n",
      "    Subgroup 2: expressibility = 0.9832\n",
      "    Subgroup 2: expressibility = 0.4459\n",
      "    Subgroup 2: expressibility = 0.2832\n",
      "    Subgroup 2: expressibility = 0.1640\n",
      "    Subgroup 2: expressibility = 0.4323\n",
      "    Subgroup 2: expressibility = 0.1524\n"
     ]
    },
    {
     "name": "stderr",
     "output_type": "stream",
     "text": [
      "n_qubits=4, depth=1, ansatz=12:  25%|██▌       | 2/8 [11:36<39:47, 397.93s/it]"
     ]
    },
    {
     "name": "stdout",
     "output_type": "stream",
     "text": [
      "    Subgroup 2: expressibility = 0.1718\n",
      "    Subgroup 3: expressibility = 0.4684\n",
      "    Subgroup 3: expressibility = 0.5081\n",
      "    Subgroup 3: expressibility = 0.4540\n"
     ]
    },
    {
     "name": "stderr",
     "output_type": "stream",
     "text": [
      "n_qubits=4, depth=1, ansatz=12:  38%|███▊      | 3/8 [16:21<28:51, 346.25s/it]"
     ]
    },
    {
     "name": "stdout",
     "output_type": "stream",
     "text": [
      "    Subgroup 3: expressibility = 0.4425\n",
      "    Subgroup 4: expressibility = 5.1632\n",
      "    Subgroup 4: expressibility = 0.9123\n",
      "    Subgroup 4: expressibility = 0.4986\n",
      "    Subgroup 4: expressibility = 0.3344\n",
      "    Subgroup 4: expressibility = 5.2876\n",
      "    Subgroup 4: expressibility = 1.4086\n"
     ]
    },
    {
     "name": "stderr",
     "output_type": "stream",
     "text": [
      "n_qubits=4, depth=1, ansatz=12:  50%|█████     | 4/8 [24:45<27:13, 408.30s/it]"
     ]
    },
    {
     "name": "stdout",
     "output_type": "stream",
     "text": [
      "    Subgroup 4: expressibility = 1.4772\n",
      "    Subgroup 6: expressibility = 0.4801\n",
      "    Subgroup 6: expressibility = 0.4777\n",
      "    Subgroup 6: expressibility = 0.5213\n"
     ]
    },
    {
     "name": "stderr",
     "output_type": "stream",
     "text": [
      "n_qubits=4, depth=1, ansatz=12:  62%|██████▎   | 5/8 [29:30<18:11, 363.85s/it]"
     ]
    },
    {
     "name": "stdout",
     "output_type": "stream",
     "text": [
      "    Subgroup 6: expressibility = 0.4318\n",
      "    Subgroup 8: expressibility = 5.0201\n",
      "    Subgroup 8: expressibility = 1.5170\n"
     ]
    },
    {
     "name": "stderr",
     "output_type": "stream",
     "text": [
      "n_qubits=4, depth=1, ansatz=12:  75%|███████▌  | 6/8 [33:10<10:30, 315.13s/it]"
     ]
    },
    {
     "name": "stdout",
     "output_type": "stream",
     "text": [
      "    Subgroup 8: expressibility = 1.5227\n"
     ]
    },
    {
     "name": "stderr",
     "output_type": "stream",
     "text": [
      "n_qubits=4, depth=1, ansatz=12:  88%|████████▊ | 7/8 [34:24<03:56, 236.26s/it]"
     ]
    },
    {
     "name": "stdout",
     "output_type": "stream",
     "text": [
      "    Subgroup 12: expressibility = 1.7345\n"
     ]
    },
    {
     "name": "stderr",
     "output_type": "stream",
     "text": [
      "n_qubits=4, depth=1, ansatz=12: 100%|██████████| 8/8 [35:38<00:00, 267.34s/it]"
     ]
    },
    {
     "name": "stdout",
     "output_type": "stream",
     "text": [
      "    Subgroup 24: expressibility = 1.7119\n",
      "  Ansatz ID: 13\n"
     ]
    },
    {
     "name": "stderr",
     "output_type": "stream",
     "text": [
      "\n"
     ]
    },
    {
     "name": "stdout",
     "output_type": "stream",
     "text": [
      "    Original expressibility = 0.0642\n"
     ]
    },
    {
     "name": "stderr",
     "output_type": "stream",
     "text": [
      "n_qubits=4, depth=1, ansatz=13:  12%|█▎        | 1/8 [01:10<08:15, 70.80s/it]"
     ]
    },
    {
     "name": "stdout",
     "output_type": "stream",
     "text": [
      "    Subgroup 1: expressibility = 0.0705\n",
      "    Subgroup 2: expressibility = 0.3871\n",
      "    Subgroup 2: expressibility = 0.4856\n",
      "    Subgroup 2: expressibility = 0.3979\n",
      "    Subgroup 2: expressibility = 0.1471\n",
      "    Subgroup 2: expressibility = 0.1388\n",
      "    Subgroup 2: expressibility = 0.1169\n",
      "    Subgroup 2: expressibility = 0.1415\n",
      "    Subgroup 2: expressibility = 0.1443\n"
     ]
    },
    {
     "name": "stderr",
     "output_type": "stream",
     "text": [
      "n_qubits=4, depth=1, ansatz=13:  25%|██▌       | 2/8 [12:08<41:37, 416.18s/it]"
     ]
    },
    {
     "name": "stdout",
     "output_type": "stream",
     "text": [
      "    Subgroup 2: expressibility = 0.1327\n",
      "    Subgroup 3: expressibility = 0.7657\n",
      "    Subgroup 3: expressibility = 0.8365\n",
      "    Subgroup 3: expressibility = 0.7824\n"
     ]
    },
    {
     "name": "stderr",
     "output_type": "stream",
     "text": [
      "n_qubits=4, depth=1, ansatz=13:  38%|███▊      | 3/8 [17:12<30:25, 365.00s/it]"
     ]
    },
    {
     "name": "stdout",
     "output_type": "stream",
     "text": [
      "    Subgroup 3: expressibility = 0.8223\n",
      "    Subgroup 4: expressibility = 3.0774\n",
      "    Subgroup 4: expressibility = 0.4648\n",
      "    Subgroup 4: expressibility = 0.4951\n",
      "    Subgroup 4: expressibility = 0.5367\n",
      "    Subgroup 4: expressibility = 3.3586\n",
      "    Subgroup 4: expressibility = 3.6288\n"
     ]
    },
    {
     "name": "stderr",
     "output_type": "stream",
     "text": [
      "n_qubits=4, depth=1, ansatz=13:  50%|█████     | 4/8 [26:12<28:56, 434.03s/it]"
     ]
    },
    {
     "name": "stdout",
     "output_type": "stream",
     "text": [
      "    Subgroup 4: expressibility = 3.4384\n",
      "    Subgroup 6: expressibility = 0.7854\n",
      "    Subgroup 6: expressibility = 0.8005\n",
      "    Subgroup 6: expressibility = 0.8454\n"
     ]
    },
    {
     "name": "stderr",
     "output_type": "stream",
     "text": [
      "n_qubits=4, depth=1, ansatz=13:  62%|██████▎   | 5/8 [31:16<19:21, 387.23s/it]"
     ]
    },
    {
     "name": "stdout",
     "output_type": "stream",
     "text": [
      "    Subgroup 6: expressibility = 0.7549\n",
      "    Subgroup 8: expressibility = 3.2351\n",
      "    Subgroup 8: expressibility = 3.1902\n"
     ]
    },
    {
     "name": "stderr",
     "output_type": "stream",
     "text": [
      "n_qubits=4, depth=1, ansatz=13:  75%|███████▌  | 6/8 [35:15<11:13, 336.69s/it]"
     ]
    },
    {
     "name": "stdout",
     "output_type": "stream",
     "text": [
      "    Subgroup 8: expressibility = 3.5454\n"
     ]
    },
    {
     "name": "stderr",
     "output_type": "stream",
     "text": [
      "n_qubits=4, depth=1, ansatz=13:  88%|████████▊ | 7/8 [36:37<04:13, 253.39s/it]"
     ]
    },
    {
     "name": "stdout",
     "output_type": "stream",
     "text": [
      "    Subgroup 12: expressibility = 3.5961\n"
     ]
    },
    {
     "name": "stderr",
     "output_type": "stream",
     "text": [
      "n_qubits=4, depth=1, ansatz=13: 100%|██████████| 8/8 [37:59<00:00, 284.95s/it]"
     ]
    },
    {
     "name": "stdout",
     "output_type": "stream",
     "text": [
      "    Subgroup 24: expressibility = 3.7881\n",
      "  Ansatz ID: 14\n"
     ]
    },
    {
     "name": "stderr",
     "output_type": "stream",
     "text": [
      "\n"
     ]
    },
    {
     "name": "stdout",
     "output_type": "stream",
     "text": [
      "    Original expressibility = 0.0349\n"
     ]
    },
    {
     "name": "stderr",
     "output_type": "stream",
     "text": [
      "n_qubits=4, depth=1, ansatz=14:  12%|█▎        | 1/8 [01:11<08:20, 71.46s/it]"
     ]
    },
    {
     "name": "stdout",
     "output_type": "stream",
     "text": [
      "    Subgroup 1: expressibility = 0.0233\n",
      "    Subgroup 2: expressibility = 0.1768\n",
      "    Subgroup 2: expressibility = 0.1729\n",
      "    Subgroup 2: expressibility = 0.1854\n",
      "    Subgroup 2: expressibility = 0.0666\n",
      "    Subgroup 2: expressibility = 0.0565\n",
      "    Subgroup 2: expressibility = 0.0689\n",
      "    Subgroup 2: expressibility = 0.0699\n",
      "    Subgroup 2: expressibility = 0.0660\n"
     ]
    },
    {
     "name": "stderr",
     "output_type": "stream",
     "text": [
      "n_qubits=4, depth=1, ansatz=14:  25%|██▌       | 2/8 [12:16<42:02, 420.40s/it]"
     ]
    },
    {
     "name": "stdout",
     "output_type": "stream",
     "text": [
      "    Subgroup 2: expressibility = 0.0662\n",
      "    Subgroup 3: expressibility = 0.2912\n",
      "    Subgroup 3: expressibility = 0.2650\n",
      "    Subgroup 3: expressibility = 0.2721\n"
     ]
    },
    {
     "name": "stderr",
     "output_type": "stream",
     "text": [
      "n_qubits=4, depth=1, ansatz=14:  38%|███▊      | 3/8 [17:21<30:39, 367.92s/it]"
     ]
    },
    {
     "name": "stdout",
     "output_type": "stream",
     "text": [
      "    Subgroup 3: expressibility = 0.2608\n",
      "    Subgroup 4: expressibility = 1.0404\n",
      "    Subgroup 4: expressibility = 0.2550\n",
      "    Subgroup 4: expressibility = 0.2635\n",
      "    Subgroup 4: expressibility = 0.3018\n",
      "    Subgroup 4: expressibility = 1.1714\n",
      "    Subgroup 4: expressibility = 1.4596\n"
     ]
    },
    {
     "name": "stderr",
     "output_type": "stream",
     "text": [
      "n_qubits=4, depth=1, ansatz=14:  50%|█████     | 4/8 [26:33<29:22, 440.64s/it]"
     ]
    },
    {
     "name": "stdout",
     "output_type": "stream",
     "text": [
      "    Subgroup 4: expressibility = 1.0667\n",
      "    Subgroup 6: expressibility = 0.4053\n",
      "    Subgroup 6: expressibility = 0.3790\n",
      "    Subgroup 6: expressibility = 0.4131\n"
     ]
    },
    {
     "name": "stderr",
     "output_type": "stream",
     "text": [
      "n_qubits=4, depth=1, ansatz=14:  62%|██████▎   | 5/8 [31:45<19:42, 394.28s/it]"
     ]
    },
    {
     "name": "stdout",
     "output_type": "stream",
     "text": [
      "    Subgroup 6: expressibility = 0.4220\n",
      "    Subgroup 8: expressibility = 1.3736\n",
      "    Subgroup 8: expressibility = 1.3023\n"
     ]
    },
    {
     "name": "stderr",
     "output_type": "stream",
     "text": [
      "n_qubits=4, depth=1, ansatz=14:  75%|███████▌  | 6/8 [35:54<11:29, 344.76s/it]"
     ]
    },
    {
     "name": "stdout",
     "output_type": "stream",
     "text": [
      "    Subgroup 8: expressibility = 1.9166\n"
     ]
    },
    {
     "name": "stderr",
     "output_type": "stream",
     "text": [
      "n_qubits=4, depth=1, ansatz=14:  88%|████████▊ | 7/8 [37:23<04:21, 261.03s/it]"
     ]
    },
    {
     "name": "stdout",
     "output_type": "stream",
     "text": [
      "    Subgroup 12: expressibility = 2.0384\n"
     ]
    },
    {
     "name": "stderr",
     "output_type": "stream",
     "text": [
      "n_qubits=4, depth=1, ansatz=14: 100%|██████████| 8/8 [38:51<00:00, 291.43s/it]"
     ]
    },
    {
     "name": "stdout",
     "output_type": "stream",
     "text": [
      "    Subgroup 24: expressibility = 2.1108\n",
      "  Ansatz ID: 15\n"
     ]
    },
    {
     "name": "stderr",
     "output_type": "stream",
     "text": [
      "\n"
     ]
    },
    {
     "name": "stdout",
     "output_type": "stream",
     "text": [
      "    Original expressibility = 0.1713\n"
     ]
    },
    {
     "name": "stderr",
     "output_type": "stream",
     "text": [
      "n_qubits=4, depth=1, ansatz=15:  12%|█▎        | 1/8 [01:12<08:24, 72.03s/it]"
     ]
    },
    {
     "name": "stdout",
     "output_type": "stream",
     "text": [
      "    Subgroup 1: expressibility = 0.7703\n",
      "    Subgroup 2: expressibility = 1.4058\n",
      "    Subgroup 2: expressibility = 0.9349\n",
      "    Subgroup 2: expressibility = 0.2484\n",
      "    Subgroup 2: expressibility = 0.3029\n",
      "    Subgroup 2: expressibility = 0.1962\n",
      "    Subgroup 2: expressibility = 0.2746\n",
      "    Subgroup 2: expressibility = 0.2281\n",
      "    Subgroup 2: expressibility = 0.3198\n"
     ]
    },
    {
     "name": "stderr",
     "output_type": "stream",
     "text": [
      "n_qubits=4, depth=1, ansatz=15:  25%|██▌       | 2/8 [12:29<42:50, 428.42s/it]"
     ]
    },
    {
     "name": "stdout",
     "output_type": "stream",
     "text": [
      "    Subgroup 2: expressibility = 0.1786\n",
      "    Subgroup 3: expressibility = 0.2989\n",
      "    Subgroup 3: expressibility = 0.3066\n",
      "    Subgroup 3: expressibility = 0.3547\n"
     ]
    },
    {
     "name": "stderr",
     "output_type": "stream",
     "text": [
      "n_qubits=4, depth=1, ansatz=15:  38%|███▊      | 3/8 [17:45<31:24, 376.82s/it]"
     ]
    },
    {
     "name": "stdout",
     "output_type": "stream",
     "text": [
      "    Subgroup 3: expressibility = 0.3370\n",
      "    Subgroup 4: expressibility = 3.5722\n",
      "    Subgroup 4: expressibility = 1.2995\n",
      "    Subgroup 4: expressibility = 0.3261\n",
      "    Subgroup 4: expressibility = 1.1417\n",
      "    Subgroup 4: expressibility = 3.8433\n",
      "    Subgroup 4: expressibility = 3.0409\n"
     ]
    },
    {
     "name": "stderr",
     "output_type": "stream",
     "text": [
      "n_qubits=4, depth=1, ansatz=15:  50%|█████     | 4/8 [27:15<30:13, 453.26s/it]"
     ]
    },
    {
     "name": "stdout",
     "output_type": "stream",
     "text": [
      "    Subgroup 4: expressibility = 3.0872\n",
      "    Subgroup 6: expressibility = 0.4078\n",
      "    Subgroup 6: expressibility = 0.5016\n",
      "    Subgroup 6: expressibility = 0.3462\n"
     ]
    },
    {
     "name": "stderr",
     "output_type": "stream",
     "text": [
      "n_qubits=4, depth=1, ansatz=15:  62%|██████▎   | 5/8 [32:39<20:19, 406.60s/it]"
     ]
    },
    {
     "name": "stdout",
     "output_type": "stream",
     "text": [
      "    Subgroup 6: expressibility = 0.5209\n",
      "    Subgroup 8: expressibility = 3.6128\n",
      "    Subgroup 8: expressibility = 3.9073\n"
     ]
    },
    {
     "name": "stderr",
     "output_type": "stream",
     "text": [
      "n_qubits=4, depth=1, ansatz=15:  75%|███████▌  | 6/8 [37:03<11:55, 358.00s/it]"
     ]
    },
    {
     "name": "stdout",
     "output_type": "stream",
     "text": [
      "    Subgroup 8: expressibility = 3.0354\n"
     ]
    },
    {
     "name": "stderr",
     "output_type": "stream",
     "text": [
      "n_qubits=4, depth=1, ansatz=15:  88%|████████▊ | 7/8 [38:36<04:31, 271.50s/it]"
     ]
    },
    {
     "name": "stdout",
     "output_type": "stream",
     "text": [
      "    Subgroup 12: expressibility = 3.1762\n"
     ]
    },
    {
     "name": "stderr",
     "output_type": "stream",
     "text": [
      "n_qubits=4, depth=1, ansatz=15: 100%|██████████| 8/8 [40:10<00:00, 301.27s/it]"
     ]
    },
    {
     "name": "stdout",
     "output_type": "stream",
     "text": [
      "    Subgroup 24: expressibility = 3.0567\n",
      "  Ansatz ID: 16\n"
     ]
    },
    {
     "name": "stderr",
     "output_type": "stream",
     "text": [
      "\n"
     ]
    },
    {
     "name": "stdout",
     "output_type": "stream",
     "text": [
      "    Original expressibility = 0.2497\n"
     ]
    },
    {
     "name": "stderr",
     "output_type": "stream",
     "text": [
      "n_qubits=4, depth=1, ansatz=16:  12%|█▎        | 1/8 [01:02<07:15, 62.23s/it]"
     ]
    },
    {
     "name": "stdout",
     "output_type": "stream",
     "text": [
      "    Subgroup 1: expressibility = 0.2641\n",
      "    Subgroup 2: expressibility = 0.6202\n",
      "    Subgroup 2: expressibility = 0.6949\n",
      "    Subgroup 2: expressibility = 0.7782\n",
      "    Subgroup 2: expressibility = 0.3096\n",
      "    Subgroup 2: expressibility = 0.3587\n",
      "    Subgroup 2: expressibility = 0.4373\n",
      "    Subgroup 2: expressibility = 0.3624\n",
      "    Subgroup 2: expressibility = 0.4058\n"
     ]
    },
    {
     "name": "stderr",
     "output_type": "stream",
     "text": [
      "n_qubits=4, depth=1, ansatz=16:  25%|██▌       | 2/8 [10:33<36:10, 361.80s/it]"
     ]
    },
    {
     "name": "stdout",
     "output_type": "stream",
     "text": [
      "    Subgroup 2: expressibility = 0.3828\n",
      "    Subgroup 3: expressibility = 1.1062\n",
      "    Subgroup 3: expressibility = 1.1197\n",
      "    Subgroup 3: expressibility = 1.1134\n"
     ]
    },
    {
     "name": "stderr",
     "output_type": "stream",
     "text": [
      "n_qubits=4, depth=1, ansatz=16:  38%|███▊      | 3/8 [14:53<26:15, 315.12s/it]"
     ]
    },
    {
     "name": "stdout",
     "output_type": "stream",
     "text": [
      "    Subgroup 3: expressibility = 1.1887\n",
      "    Subgroup 4: expressibility = 3.3419\n",
      "    Subgroup 4: expressibility = 0.6715\n",
      "    Subgroup 4: expressibility = 0.7573\n",
      "    Subgroup 4: expressibility = 0.8386\n",
      "    Subgroup 4: expressibility = 3.5196\n",
      "    Subgroup 4: expressibility = 4.2882\n"
     ]
    },
    {
     "name": "stderr",
     "output_type": "stream",
     "text": [
      "n_qubits=4, depth=1, ansatz=16:  50%|█████     | 4/8 [22:35<24:51, 373.00s/it]"
     ]
    },
    {
     "name": "stdout",
     "output_type": "stream",
     "text": [
      "    Subgroup 4: expressibility = 3.6938\n",
      "    Subgroup 6: expressibility = 1.0517\n",
      "    Subgroup 6: expressibility = 1.1632\n",
      "    Subgroup 6: expressibility = 1.1964\n"
     ]
    },
    {
     "name": "stderr",
     "output_type": "stream",
     "text": [
      "n_qubits=4, depth=1, ansatz=16:  62%|██████▎   | 5/8 [26:54<16:36, 332.01s/it]"
     ]
    },
    {
     "name": "stdout",
     "output_type": "stream",
     "text": [
      "    Subgroup 6: expressibility = 1.1403\n",
      "    Subgroup 8: expressibility = 3.6122\n",
      "    Subgroup 8: expressibility = 3.6718\n"
     ]
    },
    {
     "name": "stderr",
     "output_type": "stream",
     "text": [
      "n_qubits=4, depth=1, ansatz=16:  75%|███████▌  | 6/8 [30:13<09:33, 286.90s/it]"
     ]
    },
    {
     "name": "stdout",
     "output_type": "stream",
     "text": [
      "    Subgroup 8: expressibility = 4.3367\n"
     ]
    },
    {
     "name": "stderr",
     "output_type": "stream",
     "text": [
      "n_qubits=4, depth=1, ansatz=16:  88%|████████▊ | 7/8 [31:21<03:35, 215.20s/it]"
     ]
    },
    {
     "name": "stdout",
     "output_type": "stream",
     "text": [
      "    Subgroup 12: expressibility = 4.6327\n"
     ]
    },
    {
     "name": "stderr",
     "output_type": "stream",
     "text": [
      "n_qubits=4, depth=1, ansatz=16: 100%|██████████| 8/8 [32:28<00:00, 243.59s/it]"
     ]
    },
    {
     "name": "stdout",
     "output_type": "stream",
     "text": [
      "    Subgroup 24: expressibility = 4.9145\n",
      "  Ansatz ID: 17\n"
     ]
    },
    {
     "name": "stderr",
     "output_type": "stream",
     "text": [
      "\n"
     ]
    },
    {
     "name": "stdout",
     "output_type": "stream",
     "text": [
      "    Original expressibility = 0.1311\n"
     ]
    },
    {
     "name": "stderr",
     "output_type": "stream",
     "text": [
      "n_qubits=4, depth=1, ansatz=17:  12%|█▎        | 1/8 [01:01<07:13, 61.95s/it]"
     ]
    },
    {
     "name": "stdout",
     "output_type": "stream",
     "text": [
      "    Subgroup 1: expressibility = 0.1476\n",
      "    Subgroup 2: expressibility = 0.4724\n",
      "    Subgroup 2: expressibility = 0.4748\n",
      "    Subgroup 2: expressibility = 0.4934\n",
      "    Subgroup 2: expressibility = 0.2328\n",
      "    Subgroup 2: expressibility = 0.1809\n",
      "    Subgroup 2: expressibility = 0.2519\n",
      "    Subgroup 2: expressibility = 0.1954\n",
      "    Subgroup 2: expressibility = 0.2204\n"
     ]
    },
    {
     "name": "stderr",
     "output_type": "stream",
     "text": [
      "n_qubits=4, depth=1, ansatz=17:  25%|██▌       | 2/8 [10:31<36:03, 360.57s/it]"
     ]
    },
    {
     "name": "stdout",
     "output_type": "stream",
     "text": [
      "    Subgroup 2: expressibility = 0.1608\n",
      "    Subgroup 3: expressibility = 0.9538\n",
      "    Subgroup 3: expressibility = 0.9477\n",
      "    Subgroup 3: expressibility = 1.0536\n"
     ]
    },
    {
     "name": "stderr",
     "output_type": "stream",
     "text": [
      "n_qubits=4, depth=1, ansatz=17:  38%|███▊      | 3/8 [14:50<26:11, 314.37s/it]"
     ]
    },
    {
     "name": "stdout",
     "output_type": "stream",
     "text": [
      "    Subgroup 3: expressibility = 0.8731\n",
      "    Subgroup 4: expressibility = 3.6429\n",
      "    Subgroup 4: expressibility = 0.4914\n",
      "    Subgroup 4: expressibility = 0.5411\n",
      "    Subgroup 4: expressibility = 0.6651\n",
      "    Subgroup 4: expressibility = 3.5564\n",
      "    Subgroup 4: expressibility = 4.1971\n"
     ]
    },
    {
     "name": "stderr",
     "output_type": "stream",
     "text": [
      "n_qubits=4, depth=1, ansatz=17:  50%|█████     | 4/8 [22:30<24:46, 371.72s/it]"
     ]
    },
    {
     "name": "stdout",
     "output_type": "stream",
     "text": [
      "    Subgroup 4: expressibility = 3.7202\n",
      "    Subgroup 6: expressibility = 1.0449\n",
      "    Subgroup 6: expressibility = 0.9395\n",
      "    Subgroup 6: expressibility = 1.0677\n"
     ]
    },
    {
     "name": "stderr",
     "output_type": "stream",
     "text": [
      "n_qubits=4, depth=1, ansatz=17:  62%|██████▎   | 5/8 [26:51<16:35, 331.74s/it]"
     ]
    },
    {
     "name": "stdout",
     "output_type": "stream",
     "text": [
      "    Subgroup 6: expressibility = 1.0687\n",
      "    Subgroup 8: expressibility = 3.7107\n",
      "    Subgroup 8: expressibility = 3.9934\n"
     ]
    },
    {
     "name": "stderr",
     "output_type": "stream",
     "text": [
      "n_qubits=4, depth=1, ansatz=17:  75%|███████▌  | 6/8 [30:14<09:35, 287.87s/it]"
     ]
    },
    {
     "name": "stdout",
     "output_type": "stream",
     "text": [
      "    Subgroup 8: expressibility = 4.6364\n"
     ]
    },
    {
     "name": "stderr",
     "output_type": "stream",
     "text": [
      "n_qubits=4, depth=1, ansatz=17:  88%|████████▊ | 7/8 [31:23<03:36, 216.50s/it]"
     ]
    },
    {
     "name": "stdout",
     "output_type": "stream",
     "text": [
      "    Subgroup 12: expressibility = 4.9443\n"
     ]
    },
    {
     "name": "stderr",
     "output_type": "stream",
     "text": [
      "n_qubits=4, depth=1, ansatz=17: 100%|██████████| 8/8 [32:33<00:00, 244.16s/it]"
     ]
    },
    {
     "name": "stdout",
     "output_type": "stream",
     "text": [
      "    Subgroup 24: expressibility = 4.9042\n",
      "  Ansatz ID: 18\n"
     ]
    },
    {
     "name": "stderr",
     "output_type": "stream",
     "text": [
      "\n"
     ]
    },
    {
     "name": "stdout",
     "output_type": "stream",
     "text": [
      "    Original expressibility = 0.2344\n"
     ]
    },
    {
     "name": "stderr",
     "output_type": "stream",
     "text": [
      "n_qubits=4, depth=1, ansatz=18:  12%|█▎        | 1/8 [01:03<07:27, 63.94s/it]"
     ]
    },
    {
     "name": "stdout",
     "output_type": "stream",
     "text": [
      "    Subgroup 1: expressibility = 0.2512\n",
      "    Subgroup 2: expressibility = 0.5318\n",
      "    Subgroup 2: expressibility = 0.6347\n",
      "    Subgroup 2: expressibility = 0.5476\n",
      "    Subgroup 2: expressibility = 0.3150\n",
      "    Subgroup 2: expressibility = 0.3403\n",
      "    Subgroup 2: expressibility = 0.3784\n",
      "    Subgroup 2: expressibility = 0.2772\n",
      "    Subgroup 2: expressibility = 0.3838\n"
     ]
    },
    {
     "name": "stderr",
     "output_type": "stream",
     "text": [
      "n_qubits=4, depth=1, ansatz=18:  25%|██▌       | 2/8 [10:52<37:14, 372.34s/it]"
     ]
    },
    {
     "name": "stdout",
     "output_type": "stream",
     "text": [
      "    Subgroup 2: expressibility = 0.3298\n",
      "    Subgroup 3: expressibility = 1.0636\n",
      "    Subgroup 3: expressibility = 0.9719\n",
      "    Subgroup 3: expressibility = 0.9824\n"
     ]
    },
    {
     "name": "stderr",
     "output_type": "stream",
     "text": [
      "n_qubits=4, depth=1, ansatz=18:  38%|███▊      | 3/8 [15:19<27:01, 324.36s/it]"
     ]
    },
    {
     "name": "stdout",
     "output_type": "stream",
     "text": [
      "    Subgroup 3: expressibility = 1.0598\n",
      "    Subgroup 4: expressibility = 2.8139\n",
      "    Subgroup 4: expressibility = 0.6324\n",
      "    Subgroup 4: expressibility = 0.5946\n",
      "    Subgroup 4: expressibility = 0.7880\n",
      "    Subgroup 4: expressibility = 3.3801\n",
      "    Subgroup 4: expressibility = 4.0904\n"
     ]
    },
    {
     "name": "stderr",
     "output_type": "stream",
     "text": [
      "n_qubits=4, depth=1, ansatz=18:  50%|█████     | 4/8 [23:13<25:34, 383.58s/it]"
     ]
    },
    {
     "name": "stdout",
     "output_type": "stream",
     "text": [
      "    Subgroup 4: expressibility = 3.3243\n",
      "    Subgroup 6: expressibility = 1.0799\n",
      "    Subgroup 6: expressibility = 1.0557\n",
      "    Subgroup 6: expressibility = 1.0096\n"
     ]
    },
    {
     "name": "stderr",
     "output_type": "stream",
     "text": [
      "n_qubits=4, depth=1, ansatz=18:  62%|██████▎   | 5/8 [27:41<17:05, 341.85s/it]"
     ]
    },
    {
     "name": "stdout",
     "output_type": "stream",
     "text": [
      "    Subgroup 6: expressibility = 0.9183\n",
      "    Subgroup 8: expressibility = 3.3949\n",
      "    Subgroup 8: expressibility = 3.3701\n"
     ]
    },
    {
     "name": "stderr",
     "output_type": "stream",
     "text": [
      "n_qubits=4, depth=1, ansatz=18:  75%|███████▌  | 6/8 [31:08<09:51, 295.88s/it]"
     ]
    },
    {
     "name": "stdout",
     "output_type": "stream",
     "text": [
      "    Subgroup 8: expressibility = 4.1317\n"
     ]
    },
    {
     "name": "stderr",
     "output_type": "stream",
     "text": [
      "n_qubits=4, depth=1, ansatz=18:  88%|████████▊ | 7/8 [32:19<03:42, 222.32s/it]"
     ]
    },
    {
     "name": "stdout",
     "output_type": "stream",
     "text": [
      "    Subgroup 12: expressibility = 4.5698\n"
     ]
    },
    {
     "name": "stderr",
     "output_type": "stream",
     "text": [
      "n_qubits=4, depth=1, ansatz=18: 100%|██████████| 8/8 [33:29<00:00, 251.18s/it]"
     ]
    },
    {
     "name": "stdout",
     "output_type": "stream",
     "text": [
      "    Subgroup 24: expressibility = 4.4772\n",
      "  Ansatz ID: 19\n"
     ]
    },
    {
     "name": "stderr",
     "output_type": "stream",
     "text": [
      "\n"
     ]
    },
    {
     "name": "stdout",
     "output_type": "stream",
     "text": [
      "    Original expressibility = 0.0663\n"
     ]
    },
    {
     "name": "stderr",
     "output_type": "stream",
     "text": [
      "n_qubits=4, depth=1, ansatz=19:  12%|█▎        | 1/8 [01:04<07:28, 64.04s/it]"
     ]
    },
    {
     "name": "stdout",
     "output_type": "stream",
     "text": [
      "    Subgroup 1: expressibility = 0.0765\n",
      "    Subgroup 2: expressibility = 0.3327\n",
      "    Subgroup 2: expressibility = 0.3162\n",
      "    Subgroup 2: expressibility = 0.3683\n",
      "    Subgroup 2: expressibility = 0.1356\n",
      "    Subgroup 2: expressibility = 0.1583\n",
      "    Subgroup 2: expressibility = 0.1437\n",
      "    Subgroup 2: expressibility = 0.0967\n",
      "    Subgroup 2: expressibility = 0.1399\n"
     ]
    },
    {
     "name": "stderr",
     "output_type": "stream",
     "text": [
      "n_qubits=4, depth=1, ansatz=19:  25%|██▌       | 2/8 [10:52<37:15, 372.54s/it]"
     ]
    },
    {
     "name": "stdout",
     "output_type": "stream",
     "text": [
      "    Subgroup 2: expressibility = 0.1207\n",
      "    Subgroup 3: expressibility = 0.8308\n",
      "    Subgroup 3: expressibility = 0.6997\n",
      "    Subgroup 3: expressibility = 0.6229\n"
     ]
    },
    {
     "name": "stderr",
     "output_type": "stream",
     "text": [
      "n_qubits=4, depth=1, ansatz=19:  38%|███▊      | 3/8 [15:21<27:05, 325.11s/it]"
     ]
    },
    {
     "name": "stdout",
     "output_type": "stream",
     "text": [
      "    Subgroup 3: expressibility = 0.7171\n",
      "    Subgroup 4: expressibility = 3.3970\n",
      "    Subgroup 4: expressibility = 0.4613\n",
      "    Subgroup 4: expressibility = 0.4393\n",
      "    Subgroup 4: expressibility = 0.5372\n",
      "    Subgroup 4: expressibility = 3.1843\n",
      "    Subgroup 4: expressibility = 4.1828\n"
     ]
    },
    {
     "name": "stderr",
     "output_type": "stream",
     "text": [
      "n_qubits=4, depth=1, ansatz=19:  50%|█████     | 4/8 [23:18<25:41, 385.34s/it]"
     ]
    },
    {
     "name": "stdout",
     "output_type": "stream",
     "text": [
      "    Subgroup 4: expressibility = 3.1675\n",
      "    Subgroup 6: expressibility = 0.9043\n",
      "    Subgroup 6: expressibility = 0.8071\n",
      "    Subgroup 6: expressibility = 0.8030\n"
     ]
    },
    {
     "name": "stderr",
     "output_type": "stream",
     "text": [
      "n_qubits=4, depth=1, ansatz=19:  62%|██████▎   | 5/8 [27:50<17:12, 344.26s/it]"
     ]
    },
    {
     "name": "stdout",
     "output_type": "stream",
     "text": [
      "    Subgroup 6: expressibility = 0.8283\n",
      "    Subgroup 8: expressibility = 3.4738\n",
      "    Subgroup 8: expressibility = 3.3922\n"
     ]
    },
    {
     "name": "stderr",
     "output_type": "stream",
     "text": [
      "n_qubits=4, depth=1, ansatz=19:  75%|███████▌  | 6/8 [31:23<09:59, 299.61s/it]"
     ]
    },
    {
     "name": "stdout",
     "output_type": "stream",
     "text": [
      "    Subgroup 8: expressibility = 4.2794\n"
     ]
    },
    {
     "name": "stderr",
     "output_type": "stream",
     "text": [
      "n_qubits=4, depth=1, ansatz=19:  88%|████████▊ | 7/8 [32:36<03:45, 225.70s/it]"
     ]
    },
    {
     "name": "stdout",
     "output_type": "stream",
     "text": [
      "    Subgroup 12: expressibility = 4.7033\n"
     ]
    },
    {
     "name": "stderr",
     "output_type": "stream",
     "text": [
      "n_qubits=4, depth=1, ansatz=19: 100%|██████████| 8/8 [33:50<00:00, 253.79s/it]"
     ]
    },
    {
     "name": "stdout",
     "output_type": "stream",
     "text": [
      "    Subgroup 24: expressibility = 4.6737\n",
      "Depth: 2\n",
      "  Ansatz ID: 1\n"
     ]
    },
    {
     "name": "stderr",
     "output_type": "stream",
     "text": [
      "\n"
     ]
    },
    {
     "name": "stdout",
     "output_type": "stream",
     "text": [
      "    Original expressibility = 0.2039\n"
     ]
    },
    {
     "name": "stderr",
     "output_type": "stream",
     "text": [
      "n_qubits=4, depth=2, ansatz=1:  12%|█▎        | 1/8 [01:08<08:02, 68.98s/it]"
     ]
    },
    {
     "name": "stdout",
     "output_type": "stream",
     "text": [
      "    Subgroup 1: expressibility = 0.1903\n",
      "    Subgroup 2: expressibility = 0.8511\n",
      "    Subgroup 2: expressibility = 0.8367\n",
      "    Subgroup 2: expressibility = 0.9101\n",
      "    Subgroup 2: expressibility = 0.3526\n",
      "    Subgroup 2: expressibility = 0.4068\n",
      "    Subgroup 2: expressibility = 0.3855\n",
      "    Subgroup 2: expressibility = 0.4017\n",
      "    Subgroup 2: expressibility = 0.3720\n"
     ]
    },
    {
     "name": "stderr",
     "output_type": "stream",
     "text": [
      "n_qubits=4, depth=2, ansatz=1:  25%|██▌       | 2/8 [11:36<39:45, 397.57s/it]"
     ]
    },
    {
     "name": "stdout",
     "output_type": "stream",
     "text": [
      "    Subgroup 2: expressibility = 0.4258\n",
      "    Subgroup 3: expressibility = 1.1439\n",
      "    Subgroup 3: expressibility = 1.1805\n",
      "    Subgroup 3: expressibility = 1.2147\n"
     ]
    },
    {
     "name": "stderr",
     "output_type": "stream",
     "text": [
      "n_qubits=4, depth=2, ansatz=1:  38%|███▊      | 3/8 [16:19<28:46, 345.36s/it]"
     ]
    },
    {
     "name": "stdout",
     "output_type": "stream",
     "text": [
      "    Subgroup 3: expressibility = 1.2041\n",
      "    Subgroup 4: expressibility = 4.2247\n",
      "    Subgroup 4: expressibility = 0.7924\n",
      "    Subgroup 4: expressibility = 0.8483\n",
      "    Subgroup 4: expressibility = 0.8273\n",
      "    Subgroup 4: expressibility = 4.0978\n",
      "    Subgroup 4: expressibility = 4.0102\n"
     ]
    },
    {
     "name": "stderr",
     "output_type": "stream",
     "text": [
      "n_qubits=4, depth=2, ansatz=1:  50%|█████     | 4/8 [24:39<27:05, 406.35s/it]"
     ]
    },
    {
     "name": "stdout",
     "output_type": "stream",
     "text": [
      "    Subgroup 4: expressibility = 3.9986\n",
      "    Subgroup 6: expressibility = 1.2325\n",
      "    Subgroup 6: expressibility = 1.0718\n",
      "    Subgroup 6: expressibility = 1.1565\n"
     ]
    },
    {
     "name": "stderr",
     "output_type": "stream",
     "text": [
      "n_qubits=4, depth=2, ansatz=1:  62%|██████▎   | 5/8 [29:21<18:04, 361.61s/it]"
     ]
    },
    {
     "name": "stdout",
     "output_type": "stream",
     "text": [
      "    Subgroup 6: expressibility = 1.1431\n",
      "    Subgroup 8: expressibility = 4.3692\n",
      "    Subgroup 8: expressibility = 4.2511\n"
     ]
    },
    {
     "name": "stderr",
     "output_type": "stream",
     "text": [
      "n_qubits=4, depth=2, ansatz=1:  75%|███████▌  | 6/8 [32:58<10:24, 312.41s/it]"
     ]
    },
    {
     "name": "stdout",
     "output_type": "stream",
     "text": [
      "    Subgroup 8: expressibility = 4.2232\n"
     ]
    },
    {
     "name": "stderr",
     "output_type": "stream",
     "text": [
      "n_qubits=4, depth=2, ansatz=1:  88%|████████▊ | 7/8 [34:10<03:53, 233.83s/it]"
     ]
    },
    {
     "name": "stdout",
     "output_type": "stream",
     "text": [
      "    Subgroup 12: expressibility = 4.1220\n"
     ]
    },
    {
     "name": "stderr",
     "output_type": "stream",
     "text": [
      "n_qubits=4, depth=2, ansatz=1: 100%|██████████| 8/8 [35:22<00:00, 265.37s/it]"
     ]
    },
    {
     "name": "stdout",
     "output_type": "stream",
     "text": [
      "    Subgroup 24: expressibility = 4.0174\n",
      "  Ansatz ID: 2\n"
     ]
    },
    {
     "name": "stderr",
     "output_type": "stream",
     "text": [
      "\n"
     ]
    },
    {
     "name": "stdout",
     "output_type": "stream",
     "text": [
      "    Original expressibility = 0.0219\n"
     ]
    },
    {
     "name": "stderr",
     "output_type": "stream",
     "text": [
      "n_qubits=4, depth=2, ansatz=2:  12%|█▎        | 1/8 [01:19<09:18, 79.81s/it]"
     ]
    },
    {
     "name": "stdout",
     "output_type": "stream",
     "text": [
      "    Subgroup 1: expressibility = 0.2287\n",
      "    Subgroup 2: expressibility = 0.0128\n",
      "    Subgroup 2: expressibility = 0.2503\n",
      "    Subgroup 2: expressibility = 0.0291\n",
      "    Subgroup 2: expressibility = 0.0724\n",
      "    Subgroup 2: expressibility = 0.0151\n",
      "    Subgroup 2: expressibility = 0.0696\n",
      "    Subgroup 2: expressibility = 0.0700\n",
      "    Subgroup 2: expressibility = 0.0678\n"
     ]
    },
    {
     "name": "stderr",
     "output_type": "stream",
     "text": [
      "n_qubits=4, depth=2, ansatz=2:  25%|██▌       | 2/8 [13:48<47:18, 473.12s/it]"
     ]
    },
    {
     "name": "stdout",
     "output_type": "stream",
     "text": [
      "    Subgroup 2: expressibility = 0.0739\n",
      "    Subgroup 3: expressibility = 0.1520\n",
      "    Subgroup 3: expressibility = 0.0842\n",
      "    Subgroup 3: expressibility = 0.1010\n"
     ]
    },
    {
     "name": "stderr",
     "output_type": "stream",
     "text": [
      "n_qubits=4, depth=2, ansatz=2:  38%|███▊      | 3/8 [19:33<34:34, 414.96s/it]"
     ]
    },
    {
     "name": "stdout",
     "output_type": "stream",
     "text": [
      "    Subgroup 3: expressibility = 0.0811\n",
      "    Subgroup 4: expressibility = 0.7902\n",
      "    Subgroup 4: expressibility = 0.0190\n",
      "    Subgroup 4: expressibility = 0.0674\n",
      "    Subgroup 4: expressibility = 0.2666\n",
      "    Subgroup 4: expressibility = 0.7078\n",
      "    Subgroup 4: expressibility = 0.9343\n"
     ]
    },
    {
     "name": "stderr",
     "output_type": "stream",
     "text": [
      "n_qubits=4, depth=2, ansatz=2:  50%|█████     | 4/8 [29:53<33:02, 495.63s/it]"
     ]
    },
    {
     "name": "stdout",
     "output_type": "stream",
     "text": [
      "    Subgroup 4: expressibility = 0.7289\n",
      "    Subgroup 6: expressibility = 0.1442\n",
      "    Subgroup 6: expressibility = 0.2391\n",
      "    Subgroup 6: expressibility = 0.1128\n"
     ]
    },
    {
     "name": "stderr",
     "output_type": "stream",
     "text": [
      "n_qubits=4, depth=2, ansatz=2:  62%|██████▎   | 5/8 [35:42<22:08, 442.92s/it]"
     ]
    },
    {
     "name": "stdout",
     "output_type": "stream",
     "text": [
      "    Subgroup 6: expressibility = 0.2279\n",
      "    Subgroup 8: expressibility = 0.8373\n",
      "    Subgroup 8: expressibility = 1.1179\n"
     ]
    },
    {
     "name": "stderr",
     "output_type": "stream",
     "text": [
      "n_qubits=4, depth=2, ansatz=2:  75%|███████▌  | 6/8 [40:23<12:55, 387.63s/it]"
     ]
    },
    {
     "name": "stdout",
     "output_type": "stream",
     "text": [
      "    Subgroup 8: expressibility = 1.0916\n"
     ]
    },
    {
     "name": "stderr",
     "output_type": "stream",
     "text": [
      "n_qubits=4, depth=2, ansatz=2:  88%|████████▊ | 7/8 [42:00<04:52, 292.84s/it]"
     ]
    },
    {
     "name": "stdout",
     "output_type": "stream",
     "text": [
      "    Subgroup 12: expressibility = 1.2029\n"
     ]
    },
    {
     "name": "stderr",
     "output_type": "stream",
     "text": [
      "n_qubits=4, depth=2, ansatz=2: 100%|██████████| 8/8 [43:38<00:00, 327.29s/it]"
     ]
    },
    {
     "name": "stdout",
     "output_type": "stream",
     "text": [
      "    Subgroup 24: expressibility = 1.1489\n",
      "  Ansatz ID: 3\n"
     ]
    },
    {
     "name": "stderr",
     "output_type": "stream",
     "text": [
      "\n"
     ]
    },
    {
     "name": "stdout",
     "output_type": "stream",
     "text": [
      "    Original expressibility = 0.0801\n"
     ]
    },
    {
     "name": "stderr",
     "output_type": "stream",
     "text": [
      "n_qubits=4, depth=2, ansatz=3:  12%|█▎        | 1/8 [01:19<09:13, 79.04s/it]"
     ]
    },
    {
     "name": "stdout",
     "output_type": "stream",
     "text": [
      "    Subgroup 1: expressibility = 0.0787\n",
      "    Subgroup 2: expressibility = 0.2331\n",
      "    Subgroup 2: expressibility = 0.2477\n",
      "    Subgroup 2: expressibility = 0.2862\n",
      "    Subgroup 2: expressibility = 0.1108\n",
      "    Subgroup 2: expressibility = 0.0816\n",
      "    Subgroup 2: expressibility = 0.1235\n",
      "    Subgroup 2: expressibility = 0.1129\n",
      "    Subgroup 2: expressibility = 0.1074\n"
     ]
    },
    {
     "name": "stderr",
     "output_type": "stream",
     "text": [
      "n_qubits=4, depth=2, ansatz=3:  25%|██▌       | 2/8 [13:31<46:19, 463.32s/it]"
     ]
    },
    {
     "name": "stdout",
     "output_type": "stream",
     "text": [
      "    Subgroup 2: expressibility = 0.1153\n",
      "    Subgroup 3: expressibility = 0.4299\n",
      "    Subgroup 3: expressibility = 0.3959\n",
      "    Subgroup 3: expressibility = 0.4800\n"
     ]
    },
    {
     "name": "stderr",
     "output_type": "stream",
     "text": [
      "n_qubits=4, depth=2, ansatz=3:  38%|███▊      | 3/8 [19:08<33:48, 405.74s/it]"
     ]
    },
    {
     "name": "stdout",
     "output_type": "stream",
     "text": [
      "    Subgroup 3: expressibility = 0.4967\n",
      "    Subgroup 4: expressibility = 0.8322\n",
      "    Subgroup 4: expressibility = 0.3123\n",
      "    Subgroup 4: expressibility = 0.3369\n",
      "    Subgroup 4: expressibility = 0.3138\n",
      "    Subgroup 4: expressibility = 1.1588\n",
      "    Subgroup 4: expressibility = 1.0853\n"
     ]
    },
    {
     "name": "stderr",
     "output_type": "stream",
     "text": [
      "n_qubits=4, depth=2, ansatz=3:  50%|█████     | 4/8 [29:07<32:08, 482.03s/it]"
     ]
    },
    {
     "name": "stdout",
     "output_type": "stream",
     "text": [
      "    Subgroup 4: expressibility = 1.2722\n",
      "    Subgroup 6: expressibility = 0.4380\n",
      "    Subgroup 6: expressibility = 0.4211\n",
      "    Subgroup 6: expressibility = 0.4243\n"
     ]
    },
    {
     "name": "stderr",
     "output_type": "stream",
     "text": [
      "n_qubits=4, depth=2, ansatz=3:  62%|██████▎   | 5/8 [34:45<21:30, 430.03s/it]"
     ]
    },
    {
     "name": "stdout",
     "output_type": "stream",
     "text": [
      "    Subgroup 6: expressibility = 0.4628\n",
      "    Subgroup 8: expressibility = 1.1548\n",
      "    Subgroup 8: expressibility = 1.1938\n"
     ]
    },
    {
     "name": "stderr",
     "output_type": "stream",
     "text": [
      "n_qubits=4, depth=2, ansatz=3:  75%|███████▌  | 6/8 [39:07<12:25, 372.89s/it]"
     ]
    },
    {
     "name": "stdout",
     "output_type": "stream",
     "text": [
      "    Subgroup 8: expressibility = 1.1334\n"
     ]
    },
    {
     "name": "stderr",
     "output_type": "stream",
     "text": [
      "n_qubits=4, depth=2, ansatz=3:  88%|████████▊ | 7/8 [40:37<04:40, 280.34s/it]"
     ]
    },
    {
     "name": "stdout",
     "output_type": "stream",
     "text": [
      "    Subgroup 12: expressibility = 1.6638\n"
     ]
    },
    {
     "name": "stderr",
     "output_type": "stream",
     "text": [
      "n_qubits=4, depth=2, ansatz=3: 100%|██████████| 8/8 [42:06<00:00, 315.81s/it]"
     ]
    },
    {
     "name": "stdout",
     "output_type": "stream",
     "text": [
      "    Subgroup 24: expressibility = 1.6392\n",
      "  Ansatz ID: 4\n"
     ]
    },
    {
     "name": "stderr",
     "output_type": "stream",
     "text": [
      "\n"
     ]
    },
    {
     "name": "stdout",
     "output_type": "stream",
     "text": [
      "    Original expressibility = 0.0335\n"
     ]
    },
    {
     "name": "stderr",
     "output_type": "stream",
     "text": [
      "n_qubits=4, depth=2, ansatz=4:  12%|█▎        | 1/8 [01:18<09:12, 78.89s/it]"
     ]
    },
    {
     "name": "stdout",
     "output_type": "stream",
     "text": [
      "    Subgroup 1: expressibility = 0.0290\n",
      "    Subgroup 2: expressibility = 0.1786\n",
      "    Subgroup 2: expressibility = 0.1815\n",
      "    Subgroup 2: expressibility = 0.1839\n",
      "    Subgroup 2: expressibility = 0.0875\n",
      "    Subgroup 2: expressibility = 0.0669\n",
      "    Subgroup 2: expressibility = 0.0780\n",
      "    Subgroup 2: expressibility = 0.0696\n",
      "    Subgroup 2: expressibility = 0.0494\n"
     ]
    },
    {
     "name": "stderr",
     "output_type": "stream",
     "text": [
      "n_qubits=4, depth=2, ansatz=4:  25%|██▌       | 2/8 [13:32<46:25, 464.17s/it]"
     ]
    },
    {
     "name": "stdout",
     "output_type": "stream",
     "text": [
      "    Subgroup 2: expressibility = 0.0578\n",
      "    Subgroup 3: expressibility = 0.2586\n",
      "    Subgroup 3: expressibility = 0.2413\n",
      "    Subgroup 3: expressibility = 0.3247\n"
     ]
    },
    {
     "name": "stderr",
     "output_type": "stream",
     "text": [
      "n_qubits=4, depth=2, ansatz=4:  38%|███▊      | 3/8 [19:09<33:49, 405.98s/it]"
     ]
    },
    {
     "name": "stdout",
     "output_type": "stream",
     "text": [
      "    Subgroup 3: expressibility = 0.3512\n",
      "    Subgroup 4: expressibility = 0.9416\n",
      "    Subgroup 4: expressibility = 0.2751\n",
      "    Subgroup 4: expressibility = 0.2968\n",
      "    Subgroup 4: expressibility = 0.3010\n",
      "    Subgroup 4: expressibility = 1.1041\n",
      "    Subgroup 4: expressibility = 0.9778\n"
     ]
    },
    {
     "name": "stderr",
     "output_type": "stream",
     "text": [
      "n_qubits=4, depth=2, ansatz=4:  50%|█████     | 4/8 [29:12<32:14, 483.57s/it]"
     ]
    },
    {
     "name": "stdout",
     "output_type": "stream",
     "text": [
      "    Subgroup 4: expressibility = 1.1652\n",
      "    Subgroup 6: expressibility = 0.4124\n",
      "    Subgroup 6: expressibility = 0.4274\n",
      "    Subgroup 6: expressibility = 0.3777\n"
     ]
    },
    {
     "name": "stderr",
     "output_type": "stream",
     "text": [
      "n_qubits=4, depth=2, ansatz=4:  62%|██████▎   | 5/8 [34:53<21:37, 432.51s/it]"
     ]
    },
    {
     "name": "stdout",
     "output_type": "stream",
     "text": [
      "    Subgroup 6: expressibility = 0.4202\n",
      "    Subgroup 8: expressibility = 1.2811\n",
      "    Subgroup 8: expressibility = 1.4394\n"
     ]
    },
    {
     "name": "stderr",
     "output_type": "stream",
     "text": [
      "n_qubits=4, depth=2, ansatz=4:  75%|███████▌  | 6/8 [39:24<12:34, 377.35s/it]"
     ]
    },
    {
     "name": "stdout",
     "output_type": "stream",
     "text": [
      "    Subgroup 8: expressibility = 1.2857\n"
     ]
    },
    {
     "name": "stderr",
     "output_type": "stream",
     "text": [
      "n_qubits=4, depth=2, ansatz=4:  88%|████████▊ | 7/8 [40:58<04:44, 284.79s/it]"
     ]
    },
    {
     "name": "stdout",
     "output_type": "stream",
     "text": [
      "    Subgroup 12: expressibility = 1.7081\n"
     ]
    },
    {
     "name": "stderr",
     "output_type": "stream",
     "text": [
      "n_qubits=4, depth=2, ansatz=4: 100%|██████████| 8/8 [42:32<00:00, 319.05s/it]"
     ]
    },
    {
     "name": "stdout",
     "output_type": "stream",
     "text": [
      "    Subgroup 24: expressibility = 1.7189\n",
      "  Ansatz ID: 5\n"
     ]
    },
    {
     "name": "stderr",
     "output_type": "stream",
     "text": [
      "\n"
     ]
    },
    {
     "name": "stdout",
     "output_type": "stream",
     "text": [
      "    Original expressibility = 0.0076\n"
     ]
    },
    {
     "name": "stderr",
     "output_type": "stream",
     "text": [
      "n_qubits=4, depth=2, ansatz=5:  12%|█▎        | 1/8 [02:13<15:34, 133.50s/it]"
     ]
    },
    {
     "name": "stdout",
     "output_type": "stream",
     "text": [
      "    Subgroup 1: expressibility = 0.0067\n",
      "    Subgroup 2: expressibility = 0.1699\n",
      "    Subgroup 2: expressibility = 0.1943\n",
      "    Subgroup 2: expressibility = 0.1724\n",
      "    Subgroup 2: expressibility = 0.0616\n",
      "    Subgroup 2: expressibility = 0.0721\n",
      "    Subgroup 2: expressibility = 0.0638\n",
      "    Subgroup 2: expressibility = 0.0587\n",
      "    Subgroup 2: expressibility = 0.0603\n"
     ]
    },
    {
     "name": "stderr",
     "output_type": "stream",
     "text": [
      "n_qubits=4, depth=2, ansatz=5:  25%|██▌       | 2/8 [23:29<1:20:33, 805.65s/it]"
     ]
    },
    {
     "name": "stdout",
     "output_type": "stream",
     "text": [
      "    Subgroup 2: expressibility = 0.0691\n",
      "    Subgroup 3: expressibility = 0.4382\n",
      "    Subgroup 3: expressibility = 0.4059\n",
      "    Subgroup 3: expressibility = 0.4079\n"
     ]
    },
    {
     "name": "stderr",
     "output_type": "stream",
     "text": [
      "n_qubits=4, depth=2, ansatz=5:  38%|███▊      | 3/8 [33:49<1:00:03, 720.69s/it]"
     ]
    },
    {
     "name": "stdout",
     "output_type": "stream",
     "text": [
      "    Subgroup 3: expressibility = 0.4081\n",
      "    Subgroup 4: expressibility = 0.6737\n",
      "    Subgroup 4: expressibility = 0.2936\n",
      "    Subgroup 4: expressibility = 0.2623\n",
      "    Subgroup 4: expressibility = 0.2506\n",
      "    Subgroup 4: expressibility = 1.0105\n",
      "    Subgroup 4: expressibility = 0.9822\n"
     ]
    },
    {
     "name": "stderr",
     "output_type": "stream",
     "text": [
      "n_qubits=4, depth=2, ansatz=5:  50%|█████     | 4/8 [52:19<58:17, 874.45s/it]  "
     ]
    },
    {
     "name": "stdout",
     "output_type": "stream",
     "text": [
      "    Subgroup 4: expressibility = 0.9940\n",
      "    Subgroup 6: expressibility = 0.4215\n",
      "    Subgroup 6: expressibility = 0.4189\n",
      "    Subgroup 6: expressibility = 0.4002\n"
     ]
    },
    {
     "name": "stderr",
     "output_type": "stream",
     "text": [
      "n_qubits=4, depth=2, ansatz=5:  62%|██████▎   | 5/8 [1:02:32<39:01, 780.34s/it]"
     ]
    },
    {
     "name": "stdout",
     "output_type": "stream",
     "text": [
      "    Subgroup 6: expressibility = 0.4249\n",
      "    Subgroup 8: expressibility = 0.9415\n",
      "    Subgroup 8: expressibility = 1.0077\n"
     ]
    },
    {
     "name": "stderr",
     "output_type": "stream",
     "text": [
      "n_qubits=4, depth=2, ansatz=5:  75%|███████▌  | 6/8 [1:10:53<22:50, 685.23s/it]"
     ]
    },
    {
     "name": "stdout",
     "output_type": "stream",
     "text": [
      "    Subgroup 8: expressibility = 0.9757\n"
     ]
    },
    {
     "name": "stderr",
     "output_type": "stream",
     "text": [
      "n_qubits=4, depth=2, ansatz=5:  88%|████████▊ | 7/8 [1:13:48<08:38, 518.57s/it]"
     ]
    },
    {
     "name": "stdout",
     "output_type": "stream",
     "text": [
      "    Subgroup 12: expressibility = 1.6547\n"
     ]
    },
    {
     "name": "stderr",
     "output_type": "stream",
     "text": [
      "n_qubits=4, depth=2, ansatz=5: 100%|██████████| 8/8 [1:16:45<00:00, 575.63s/it]"
     ]
    },
    {
     "name": "stdout",
     "output_type": "stream",
     "text": [
      "    Subgroup 24: expressibility = 1.5800\n",
      "  Ansatz ID: 6\n"
     ]
    },
    {
     "name": "stderr",
     "output_type": "stream",
     "text": [
      "\n"
     ]
    },
    {
     "name": "stdout",
     "output_type": "stream",
     "text": [
      "    Original expressibility = 0.0037\n"
     ]
    },
    {
     "name": "stderr",
     "output_type": "stream",
     "text": [
      "n_qubits=4, depth=2, ansatz=6:  12%|█▎        | 1/8 [02:13<15:34, 133.49s/it]"
     ]
    },
    {
     "name": "stdout",
     "output_type": "stream",
     "text": [
      "    Subgroup 1: expressibility = 0.0038\n",
      "    Subgroup 2: expressibility = 0.1600\n",
      "    Subgroup 2: expressibility = 0.1780\n",
      "    Subgroup 2: expressibility = 0.1582\n",
      "    Subgroup 2: expressibility = 0.0562\n",
      "    Subgroup 2: expressibility = 0.0640\n",
      "    Subgroup 2: expressibility = 0.0605\n",
      "    Subgroup 2: expressibility = 0.0536\n",
      "    Subgroup 2: expressibility = 0.0491\n"
     ]
    },
    {
     "name": "stderr",
     "output_type": "stream",
     "text": [
      "n_qubits=4, depth=2, ansatz=6:  25%|██▌       | 2/8 [23:33<1:20:45, 807.64s/it]"
     ]
    },
    {
     "name": "stdout",
     "output_type": "stream",
     "text": [
      "    Subgroup 2: expressibility = 0.0650\n",
      "    Subgroup 3: expressibility = 0.0298\n",
      "    Subgroup 3: expressibility = 0.0299\n",
      "    Subgroup 3: expressibility = 0.0262\n"
     ]
    },
    {
     "name": "stderr",
     "output_type": "stream",
     "text": [
      "n_qubits=4, depth=2, ansatz=6:  38%|███▊      | 3/8 [33:36<59:30, 714.19s/it]  "
     ]
    },
    {
     "name": "stdout",
     "output_type": "stream",
     "text": [
      "    Subgroup 3: expressibility = 0.0200\n",
      "    Subgroup 4: expressibility = 0.5894\n",
      "    Subgroup 4: expressibility = 0.2673\n",
      "    Subgroup 4: expressibility = 0.2654\n",
      "    Subgroup 4: expressibility = 0.2474\n",
      "    Subgroup 4: expressibility = 0.3147\n",
      "    Subgroup 4: expressibility = 0.3499\n"
     ]
    },
    {
     "name": "stderr",
     "output_type": "stream",
     "text": [
      "n_qubits=4, depth=2, ansatz=6:  50%|█████     | 4/8 [52:26<58:34, 878.52s/it]"
     ]
    },
    {
     "name": "stdout",
     "output_type": "stream",
     "text": [
      "    Subgroup 4: expressibility = 0.3442\n",
      "    Subgroup 6: expressibility = 0.2529\n",
      "    Subgroup 6: expressibility = 0.1955\n",
      "    Subgroup 6: expressibility = 0.2233\n"
     ]
    },
    {
     "name": "stderr",
     "output_type": "stream",
     "text": [
      "n_qubits=4, depth=2, ansatz=6:  62%|██████▎   | 5/8 [1:03:10<39:42, 794.01s/it]"
     ]
    },
    {
     "name": "stdout",
     "output_type": "stream",
     "text": [
      "    Subgroup 6: expressibility = 0.2200\n",
      "    Subgroup 8: expressibility = 0.7636\n",
      "    Subgroup 8: expressibility = 0.7550\n"
     ]
    },
    {
     "name": "stderr",
     "output_type": "stream",
     "text": [
      "n_qubits=4, depth=2, ansatz=6:  75%|███████▌  | 6/8 [1:12:02<23:30, 705.04s/it]"
     ]
    },
    {
     "name": "stdout",
     "output_type": "stream",
     "text": [
      "    Subgroup 8: expressibility = 0.7825\n"
     ]
    },
    {
     "name": "stderr",
     "output_type": "stream",
     "text": [
      "n_qubits=4, depth=2, ansatz=6:  88%|████████▊ | 7/8 [1:15:16<08:57, 537.90s/it]"
     ]
    },
    {
     "name": "stdout",
     "output_type": "stream",
     "text": [
      "    Subgroup 12: expressibility = 0.9137\n"
     ]
    },
    {
     "name": "stderr",
     "output_type": "stream",
     "text": [
      "n_qubits=4, depth=2, ansatz=6: 100%|██████████| 8/8 [1:18:30<00:00, 588.86s/it]"
     ]
    },
    {
     "name": "stdout",
     "output_type": "stream",
     "text": [
      "    Subgroup 24: expressibility = 0.9625\n",
      "  Ansatz ID: 7\n"
     ]
    },
    {
     "name": "stderr",
     "output_type": "stream",
     "text": [
      "\n"
     ]
    },
    {
     "name": "stdout",
     "output_type": "stream",
     "text": [
      "    Original expressibility = 0.0402\n"
     ]
    },
    {
     "name": "stderr",
     "output_type": "stream",
     "text": [
      "n_qubits=4, depth=2, ansatz=7:  12%|█▎        | 1/8 [01:42<11:59, 102.78s/it]"
     ]
    },
    {
     "name": "stdout",
     "output_type": "stream",
     "text": [
      "    Subgroup 1: expressibility = 0.0435\n",
      "    Subgroup 2: expressibility = 0.2235\n",
      "    Subgroup 2: expressibility = 0.2072\n",
      "    Subgroup 2: expressibility = 0.2354\n",
      "    Subgroup 2: expressibility = 0.0746\n",
      "    Subgroup 2: expressibility = 0.0517\n",
      "    Subgroup 2: expressibility = 0.0672\n",
      "    Subgroup 2: expressibility = 0.0818\n",
      "    Subgroup 2: expressibility = 0.0663\n"
     ]
    },
    {
     "name": "stderr",
     "output_type": "stream",
     "text": [
      "n_qubits=4, depth=2, ansatz=7:  25%|██▌       | 2/8 [17:33<1:00:09, 601.51s/it]"
     ]
    },
    {
     "name": "stdout",
     "output_type": "stream",
     "text": [
      "    Subgroup 2: expressibility = 0.0732\n",
      "    Subgroup 3: expressibility = 0.3968\n",
      "    Subgroup 3: expressibility = 0.3985\n",
      "    Subgroup 3: expressibility = 0.4278\n"
     ]
    },
    {
     "name": "stderr",
     "output_type": "stream",
     "text": [
      "n_qubits=4, depth=2, ansatz=7:  38%|███▊      | 3/8 [24:50<43:52, 526.48s/it]  "
     ]
    },
    {
     "name": "stdout",
     "output_type": "stream",
     "text": [
      "    Subgroup 3: expressibility = 0.3793\n",
      "    Subgroup 4: expressibility = 0.7444\n",
      "    Subgroup 4: expressibility = 0.3138\n",
      "    Subgroup 4: expressibility = 0.2655\n",
      "    Subgroup 4: expressibility = 0.2770\n",
      "    Subgroup 4: expressibility = 0.9383\n",
      "    Subgroup 4: expressibility = 0.9263\n"
     ]
    },
    {
     "name": "stderr",
     "output_type": "stream",
     "text": [
      "n_qubits=4, depth=2, ansatz=7:  50%|█████     | 4/8 [37:50<41:45, 626.48s/it]"
     ]
    },
    {
     "name": "stdout",
     "output_type": "stream",
     "text": [
      "    Subgroup 4: expressibility = 0.9340\n",
      "    Subgroup 6: expressibility = 0.3815\n",
      "    Subgroup 6: expressibility = 0.3783\n",
      "    Subgroup 6: expressibility = 0.3701\n"
     ]
    },
    {
     "name": "stderr",
     "output_type": "stream",
     "text": [
      "n_qubits=4, depth=2, ansatz=7:  62%|██████▎   | 5/8 [45:07<27:54, 558.10s/it]"
     ]
    },
    {
     "name": "stdout",
     "output_type": "stream",
     "text": [
      "    Subgroup 6: expressibility = 0.3914\n",
      "    Subgroup 8: expressibility = 0.9615\n",
      "    Subgroup 8: expressibility = 0.8940\n"
     ]
    },
    {
     "name": "stderr",
     "output_type": "stream",
     "text": [
      "n_qubits=4, depth=2, ansatz=7:  75%|███████▌  | 6/8 [50:48<16:08, 484.49s/it]"
     ]
    },
    {
     "name": "stdout",
     "output_type": "stream",
     "text": [
      "    Subgroup 8: expressibility = 0.9659\n"
     ]
    },
    {
     "name": "stderr",
     "output_type": "stream",
     "text": [
      "n_qubits=4, depth=2, ansatz=7:  88%|████████▊ | 7/8 [52:45<06:04, 364.13s/it]"
     ]
    },
    {
     "name": "stdout",
     "output_type": "stream",
     "text": [
      "    Subgroup 12: expressibility = 1.5068\n"
     ]
    },
    {
     "name": "stderr",
     "output_type": "stream",
     "text": [
      "n_qubits=4, depth=2, ansatz=7: 100%|██████████| 8/8 [54:41<00:00, 410.15s/it]"
     ]
    },
    {
     "name": "stdout",
     "output_type": "stream",
     "text": [
      "    Subgroup 24: expressibility = 1.4990\n",
      "  Ansatz ID: 8\n"
     ]
    },
    {
     "name": "stderr",
     "output_type": "stream",
     "text": [
      "\n"
     ]
    },
    {
     "name": "stdout",
     "output_type": "stream",
     "text": [
      "    Original expressibility = 0.0297\n"
     ]
    },
    {
     "name": "stderr",
     "output_type": "stream",
     "text": [
      "n_qubits=4, depth=2, ansatz=8:  12%|█▎        | 1/8 [01:42<11:59, 102.78s/it]"
     ]
    },
    {
     "name": "stdout",
     "output_type": "stream",
     "text": [
      "    Subgroup 1: expressibility = 0.0303\n",
      "    Subgroup 2: expressibility = 0.1924\n",
      "    Subgroup 2: expressibility = 0.1956\n",
      "    Subgroup 2: expressibility = 0.1823\n",
      "    Subgroup 2: expressibility = 0.0674\n",
      "    Subgroup 2: expressibility = 0.0753\n",
      "    Subgroup 2: expressibility = 0.0624\n",
      "    Subgroup 2: expressibility = 0.0713\n",
      "    Subgroup 2: expressibility = 0.0572\n"
     ]
    },
    {
     "name": "stderr",
     "output_type": "stream",
     "text": [
      "n_qubits=4, depth=2, ansatz=8:  25%|██▌       | 2/8 [17:37<1:00:24, 604.01s/it]"
     ]
    },
    {
     "name": "stdout",
     "output_type": "stream",
     "text": [
      "    Subgroup 2: expressibility = 0.0640\n",
      "    Subgroup 3: expressibility = 0.1917\n",
      "    Subgroup 3: expressibility = 0.1972\n",
      "    Subgroup 3: expressibility = 0.2787\n"
     ]
    },
    {
     "name": "stderr",
     "output_type": "stream",
     "text": [
      "n_qubits=4, depth=2, ansatz=8:  38%|███▊      | 3/8 [24:56<44:01, 528.40s/it]  "
     ]
    },
    {
     "name": "stdout",
     "output_type": "stream",
     "text": [
      "    Subgroup 3: expressibility = 0.2721\n",
      "    Subgroup 4: expressibility = 0.8008\n",
      "    Subgroup 4: expressibility = 0.2754\n",
      "    Subgroup 4: expressibility = 0.2751\n",
      "    Subgroup 4: expressibility = 0.2812\n",
      "    Subgroup 4: expressibility = 0.9062\n",
      "    Subgroup 4: expressibility = 0.7355\n"
     ]
    },
    {
     "name": "stderr",
     "output_type": "stream",
     "text": [
      "n_qubits=4, depth=2, ansatz=8:  50%|█████     | 4/8 [37:59<41:56, 629.09s/it]"
     ]
    },
    {
     "name": "stdout",
     "output_type": "stream",
     "text": [
      "    Subgroup 4: expressibility = 0.7342\n",
      "    Subgroup 6: expressibility = 0.3628\n",
      "    Subgroup 6: expressibility = 0.3844\n",
      "    Subgroup 6: expressibility = 0.3713\n"
     ]
    },
    {
     "name": "stderr",
     "output_type": "stream",
     "text": [
      "n_qubits=4, depth=2, ansatz=8:  62%|██████▎   | 5/8 [45:21<28:04, 561.53s/it]"
     ]
    },
    {
     "name": "stdout",
     "output_type": "stream",
     "text": [
      "    Subgroup 6: expressibility = 0.3650\n",
      "    Subgroup 8: expressibility = 0.9451\n",
      "    Subgroup 8: expressibility = 0.9508\n"
     ]
    },
    {
     "name": "stderr",
     "output_type": "stream",
     "text": [
      "n_qubits=4, depth=2, ansatz=8:  75%|███████▌  | 6/8 [51:11<16:19, 489.75s/it]"
     ]
    },
    {
     "name": "stdout",
     "output_type": "stream",
     "text": [
      "    Subgroup 8: expressibility = 1.1166\n"
     ]
    },
    {
     "name": "stderr",
     "output_type": "stream",
     "text": [
      "n_qubits=4, depth=2, ansatz=8:  88%|████████▊ | 7/8 [53:12<06:09, 369.07s/it]"
     ]
    },
    {
     "name": "stdout",
     "output_type": "stream",
     "text": [
      "    Subgroup 12: expressibility = 1.4240\n"
     ]
    },
    {
     "name": "stderr",
     "output_type": "stream",
     "text": [
      "n_qubits=4, depth=2, ansatz=8: 100%|██████████| 8/8 [55:13<00:00, 414.14s/it]"
     ]
    },
    {
     "name": "stdout",
     "output_type": "stream",
     "text": [
      "    Subgroup 24: expressibility = 1.5873\n",
      "  Ansatz ID: 9\n"
     ]
    },
    {
     "name": "stderr",
     "output_type": "stream",
     "text": [
      "\n"
     ]
    },
    {
     "name": "stdout",
     "output_type": "stream",
     "text": [
      "    Original expressibility = 0.4197\n"
     ]
    },
    {
     "name": "stderr",
     "output_type": "stream",
     "text": [
      "n_qubits=4, depth=2, ansatz=9:  12%|█▎        | 1/8 [01:21<09:29, 81.31s/it]"
     ]
    },
    {
     "name": "stdout",
     "output_type": "stream",
     "text": [
      "    Subgroup 1: expressibility = 0.3626\n",
      "    Subgroup 2: expressibility = 0.8007\n",
      "    Subgroup 2: expressibility = 0.8554\n",
      "    Subgroup 2: expressibility = 1.6783\n",
      "    Subgroup 2: expressibility = 0.2659\n",
      "    Subgroup 2: expressibility = 0.1425\n",
      "    Subgroup 2: expressibility = 0.2593\n",
      "    Subgroup 2: expressibility = 0.2572\n",
      "    Subgroup 2: expressibility = 0.2575\n"
     ]
    },
    {
     "name": "stderr",
     "output_type": "stream",
     "text": [
      "n_qubits=4, depth=2, ansatz=9:  25%|██▌       | 2/8 [13:52<47:33, 475.60s/it]"
     ]
    },
    {
     "name": "stdout",
     "output_type": "stream",
     "text": [
      "    Subgroup 2: expressibility = 0.1214\n",
      "    Subgroup 3: expressibility = 1.1216\n",
      "    Subgroup 3: expressibility = 1.0986\n",
      "    Subgroup 3: expressibility = 1.0877\n"
     ]
    },
    {
     "name": "stderr",
     "output_type": "stream",
     "text": [
      "n_qubits=4, depth=2, ansatz=9:  38%|███▊      | 3/8 [19:39<34:43, 416.70s/it]"
     ]
    },
    {
     "name": "stdout",
     "output_type": "stream",
     "text": [
      "    Subgroup 3: expressibility = 1.0440\n",
      "    Subgroup 4: expressibility = 6.0854\n",
      "    Subgroup 4: expressibility = 0.6606\n",
      "    Subgroup 4: expressibility = 0.5305\n",
      "    Subgroup 4: expressibility = 0.9618\n",
      "    Subgroup 4: expressibility = 5.8612\n",
      "    Subgroup 4: expressibility = 5.3598\n"
     ]
    },
    {
     "name": "stderr",
     "output_type": "stream",
     "text": [
      "n_qubits=4, depth=2, ansatz=9:  50%|█████     | 4/8 [29:55<33:01, 495.49s/it]"
     ]
    },
    {
     "name": "stdout",
     "output_type": "stream",
     "text": [
      "    Subgroup 4: expressibility = 4.7494\n",
      "    Subgroup 6: expressibility = 1.1586\n",
      "    Subgroup 6: expressibility = 1.0638\n",
      "    Subgroup 6: expressibility = 1.0958\n"
     ]
    },
    {
     "name": "stderr",
     "output_type": "stream",
     "text": [
      "n_qubits=4, depth=2, ansatz=9:  62%|██████▎   | 5/8 [35:42<22:05, 441.68s/it]"
     ]
    },
    {
     "name": "stdout",
     "output_type": "stream",
     "text": [
      "    Subgroup 6: expressibility = 1.1904\n",
      "    Subgroup 8: expressibility = 5.8809\n",
      "    Subgroup 8: expressibility = 4.6698\n"
     ]
    },
    {
     "name": "stderr",
     "output_type": "stream",
     "text": [
      "n_qubits=4, depth=2, ansatz=9:  75%|███████▌  | 6/8 [40:12<12:46, 383.43s/it]"
     ]
    },
    {
     "name": "stdout",
     "output_type": "stream",
     "text": [
      "    Subgroup 8: expressibility = 5.6609\n"
     ]
    },
    {
     "name": "stderr",
     "output_type": "stream",
     "text": [
      "n_qubits=4, depth=2, ansatz=9:  88%|████████▊ | 7/8 [41:44<04:48, 288.25s/it]"
     ]
    },
    {
     "name": "stdout",
     "output_type": "stream",
     "text": [
      "    Subgroup 12: expressibility = 4.8308\n"
     ]
    },
    {
     "name": "stderr",
     "output_type": "stream",
     "text": [
      "n_qubits=4, depth=2, ansatz=9: 100%|██████████| 8/8 [43:16<00:00, 324.60s/it]"
     ]
    },
    {
     "name": "stdout",
     "output_type": "stream",
     "text": [
      "    Subgroup 24: expressibility = 4.9629\n",
      "  Ansatz ID: 10\n"
     ]
    },
    {
     "name": "stderr",
     "output_type": "stream",
     "text": [
      "\n"
     ]
    },
    {
     "name": "stdout",
     "output_type": "stream",
     "text": [
      "    Original expressibility = 0.1802\n"
     ]
    },
    {
     "name": "stderr",
     "output_type": "stream",
     "text": [
      "n_qubits=4, depth=2, ansatz=10:  12%|█▎        | 1/8 [01:18<09:08, 78.29s/it]"
     ]
    },
    {
     "name": "stdout",
     "output_type": "stream",
     "text": [
      "    Subgroup 1: expressibility = 0.7049\n",
      "    Subgroup 2: expressibility = 2.3825\n",
      "    Subgroup 2: expressibility = 2.2345\n",
      "    Subgroup 2: expressibility = 2.2189\n",
      "    Subgroup 2: expressibility = 0.3745\n",
      "    Subgroup 2: expressibility = 0.3785\n",
      "    Subgroup 2: expressibility = 1.1695\n",
      "    Subgroup 2: expressibility = 0.3223\n",
      "    Subgroup 2: expressibility = 1.0986\n"
     ]
    },
    {
     "name": "stderr",
     "output_type": "stream",
     "text": [
      "n_qubits=4, depth=2, ansatz=10:  25%|██▌       | 2/8 [13:27<46:06, 461.03s/it]"
     ]
    },
    {
     "name": "stdout",
     "output_type": "stream",
     "text": [
      "    Subgroup 2: expressibility = 0.3591\n",
      "    Subgroup 3: expressibility = 0.5540\n",
      "    Subgroup 3: expressibility = 0.5295\n",
      "    Subgroup 3: expressibility = 0.5869\n"
     ]
    },
    {
     "name": "stderr",
     "output_type": "stream",
     "text": [
      "n_qubits=4, depth=2, ansatz=10:  38%|███▊      | 3/8 [19:03<33:40, 404.14s/it]"
     ]
    },
    {
     "name": "stdout",
     "output_type": "stream",
     "text": [
      "    Subgroup 3: expressibility = 0.5698\n",
      "    Subgroup 4: expressibility = 8.4106\n",
      "    Subgroup 4: expressibility = 0.9565\n",
      "    Subgroup 4: expressibility = 0.9030\n",
      "    Subgroup 4: expressibility = 2.3194\n",
      "    Subgroup 4: expressibility = 3.5897\n",
      "    Subgroup 4: expressibility = 8.9735\n"
     ]
    },
    {
     "name": "stderr",
     "output_type": "stream",
     "text": [
      "n_qubits=4, depth=2, ansatz=10:  50%|█████     | 4/8 [28:57<31:56, 479.05s/it]"
     ]
    },
    {
     "name": "stdout",
     "output_type": "stream",
     "text": [
      "    Subgroup 4: expressibility = 3.7142\n",
      "    Subgroup 6: expressibility = 0.5436\n",
      "    Subgroup 6: expressibility = 0.5418\n",
      "    Subgroup 6: expressibility = 0.5672\n"
     ]
    },
    {
     "name": "stderr",
     "output_type": "stream",
     "text": [
      "n_qubits=4, depth=2, ansatz=10:  62%|██████▎   | 5/8 [34:49<21:39, 433.05s/it]"
     ]
    },
    {
     "name": "stdout",
     "output_type": "stream",
     "text": [
      "    Subgroup 6: expressibility = 0.5618\n",
      "    Subgroup 8: expressibility = 3.4938\n",
      "    Subgroup 8: expressibility = 3.6591\n"
     ]
    },
    {
     "name": "stderr",
     "output_type": "stream",
     "text": [
      "n_qubits=4, depth=2, ansatz=10:  75%|███████▌  | 6/8 [39:09<12:28, 374.41s/it]"
     ]
    },
    {
     "name": "stdout",
     "output_type": "stream",
     "text": [
      "    Subgroup 8: expressibility = 8.1989\n"
     ]
    },
    {
     "name": "stderr",
     "output_type": "stream",
     "text": [
      "n_qubits=4, depth=2, ansatz=10:  88%|████████▊ | 7/8 [40:39<04:41, 281.31s/it]"
     ]
    },
    {
     "name": "stdout",
     "output_type": "stream",
     "text": [
      "    Subgroup 12: expressibility = 2.7102\n"
     ]
    },
    {
     "name": "stderr",
     "output_type": "stream",
     "text": [
      "n_qubits=4, depth=2, ansatz=10: 100%|██████████| 8/8 [42:08<00:00, 316.07s/it]"
     ]
    },
    {
     "name": "stdout",
     "output_type": "stream",
     "text": [
      "    Subgroup 24: expressibility = 2.6818\n",
      "  Ansatz ID: 11\n"
     ]
    },
    {
     "name": "stderr",
     "output_type": "stream",
     "text": [
      "\n"
     ]
    },
    {
     "name": "stdout",
     "output_type": "stream",
     "text": [
      "    Original expressibility = 0.0157\n"
     ]
    },
    {
     "name": "stderr",
     "output_type": "stream",
     "text": [
      "n_qubits=4, depth=2, ansatz=11:  12%|█▎        | 1/8 [01:31<10:42, 91.80s/it]"
     ]
    },
    {
     "name": "stdout",
     "output_type": "stream",
     "text": [
      "    Subgroup 1: expressibility = 0.2123\n",
      "    Subgroup 2: expressibility = 0.0037\n",
      "    Subgroup 2: expressibility = 0.4491\n",
      "    Subgroup 2: expressibility = 0.0176\n",
      "    Subgroup 2: expressibility = 0.0581\n",
      "    Subgroup 2: expressibility = 0.0071\n",
      "    Subgroup 2: expressibility = 0.0653\n",
      "    Subgroup 2: expressibility = 0.0533\n",
      "    Subgroup 2: expressibility = 0.0518\n"
     ]
    },
    {
     "name": "stderr",
     "output_type": "stream",
     "text": [
      "n_qubits=4, depth=2, ansatz=11:  25%|██▌       | 2/8 [15:56<54:39, 546.64s/it]"
     ]
    },
    {
     "name": "stdout",
     "output_type": "stream",
     "text": [
      "    Subgroup 2: expressibility = 0.0607\n",
      "    Subgroup 3: expressibility = 0.0143\n",
      "    Subgroup 3: expressibility = 0.0070\n",
      "    Subgroup 3: expressibility = 0.0999\n"
     ]
    },
    {
     "name": "stderr",
     "output_type": "stream",
     "text": [
      "n_qubits=4, depth=2, ansatz=11:  38%|███▊      | 3/8 [22:32<39:48, 477.68s/it]"
     ]
    },
    {
     "name": "stdout",
     "output_type": "stream",
     "text": [
      "    Subgroup 3: expressibility = 0.0497\n",
      "    Subgroup 4: expressibility = 0.2043\n",
      "    Subgroup 4: expressibility = 0.0094\n",
      "    Subgroup 4: expressibility = 0.0688\n",
      "    Subgroup 4: expressibility = 0.2494\n",
      "    Subgroup 4: expressibility = 0.2322\n",
      "    Subgroup 4: expressibility = 0.2532\n"
     ]
    },
    {
     "name": "stderr",
     "output_type": "stream",
     "text": [
      "n_qubits=4, depth=2, ansatz=11:  50%|█████     | 4/8 [34:26<38:03, 570.97s/it]"
     ]
    },
    {
     "name": "stdout",
     "output_type": "stream",
     "text": [
      "    Subgroup 4: expressibility = 0.1894\n",
      "    Subgroup 6: expressibility = 0.1121\n",
      "    Subgroup 6: expressibility = 0.1461\n",
      "    Subgroup 6: expressibility = 0.1165\n"
     ]
    },
    {
     "name": "stderr",
     "output_type": "stream",
     "text": [
      "n_qubits=4, depth=2, ansatz=11:  62%|██████▎   | 5/8 [41:15<25:37, 512.46s/it]"
     ]
    },
    {
     "name": "stdout",
     "output_type": "stream",
     "text": [
      "    Subgroup 6: expressibility = 0.1915\n",
      "    Subgroup 8: expressibility = 0.3225\n",
      "    Subgroup 8: expressibility = 0.4076\n"
     ]
    },
    {
     "name": "stderr",
     "output_type": "stream",
     "text": [
      "n_qubits=4, depth=2, ansatz=11:  75%|███████▌  | 6/8 [46:37<14:55, 447.88s/it]"
     ]
    },
    {
     "name": "stdout",
     "output_type": "stream",
     "text": [
      "    Subgroup 8: expressibility = 0.4893\n"
     ]
    },
    {
     "name": "stderr",
     "output_type": "stream",
     "text": [
      "n_qubits=4, depth=2, ansatz=11:  88%|████████▊ | 7/8 [48:33<05:39, 339.37s/it]"
     ]
    },
    {
     "name": "stdout",
     "output_type": "stream",
     "text": [
      "    Subgroup 12: expressibility = 0.8333\n"
     ]
    },
    {
     "name": "stderr",
     "output_type": "stream",
     "text": [
      "n_qubits=4, depth=2, ansatz=11: 100%|██████████| 8/8 [50:22<00:00, 377.84s/it]"
     ]
    },
    {
     "name": "stdout",
     "output_type": "stream",
     "text": [
      "    Subgroup 24: expressibility = 0.7820\n",
      "  Ansatz ID: 12\n"
     ]
    },
    {
     "name": "stderr",
     "output_type": "stream",
     "text": [
      "\n"
     ]
    },
    {
     "name": "stdout",
     "output_type": "stream",
     "text": [
      "    Original expressibility = 0.0325\n"
     ]
    },
    {
     "name": "stderr",
     "output_type": "stream",
     "text": [
      "n_qubits=4, depth=2, ansatz=12:  12%|█▎        | 1/8 [01:29<10:27, 89.68s/it]"
     ]
    },
    {
     "name": "stdout",
     "output_type": "stream",
     "text": [
      "    Subgroup 1: expressibility = 0.1795\n",
      "    Subgroup 2: expressibility = 0.4762\n",
      "    Subgroup 2: expressibility = 0.4771\n",
      "    Subgroup 2: expressibility = 0.8663\n",
      "    Subgroup 2: expressibility = 0.1539\n",
      "    Subgroup 2: expressibility = 0.0688\n",
      "    Subgroup 2: expressibility = 0.0618\n",
      "    Subgroup 2: expressibility = 0.1475\n",
      "    Subgroup 2: expressibility = 0.0680\n"
     ]
    },
    {
     "name": "stderr",
     "output_type": "stream",
     "text": [
      "n_qubits=4, depth=2, ansatz=12:  25%|██▌       | 2/8 [15:22<52:40, 526.67s/it]"
     ]
    },
    {
     "name": "stdout",
     "output_type": "stream",
     "text": [
      "    Subgroup 2: expressibility = 0.0665\n",
      "    Subgroup 3: expressibility = 0.3751\n",
      "    Subgroup 3: expressibility = 0.4098\n",
      "    Subgroup 3: expressibility = 0.3890\n"
     ]
    },
    {
     "name": "stderr",
     "output_type": "stream",
     "text": [
      "n_qubits=4, depth=2, ansatz=12:  38%|███▊      | 3/8 [21:55<38:49, 465.87s/it]"
     ]
    },
    {
     "name": "stdout",
     "output_type": "stream",
     "text": [
      "    Subgroup 3: expressibility = 0.3594\n",
      "    Subgroup 4: expressibility = 1.6903\n",
      "    Subgroup 4: expressibility = 0.3963\n",
      "    Subgroup 4: expressibility = 0.2626\n",
      "    Subgroup 4: expressibility = 0.2410\n",
      "    Subgroup 4: expressibility = 1.7437\n",
      "    Subgroup 4: expressibility = 0.9337\n"
     ]
    },
    {
     "name": "stderr",
     "output_type": "stream",
     "text": [
      "n_qubits=4, depth=2, ansatz=12:  50%|█████     | 4/8 [33:37<37:15, 558.83s/it]"
     ]
    },
    {
     "name": "stdout",
     "output_type": "stream",
     "text": [
      "    Subgroup 4: expressibility = 0.8741\n",
      "    Subgroup 6: expressibility = 0.3681\n",
      "    Subgroup 6: expressibility = 0.3777\n",
      "    Subgroup 6: expressibility = 0.3889\n"
     ]
    },
    {
     "name": "stderr",
     "output_type": "stream",
     "text": [
      "n_qubits=4, depth=2, ansatz=12:  62%|██████▎   | 5/8 [40:11<24:59, 499.69s/it]"
     ]
    },
    {
     "name": "stdout",
     "output_type": "stream",
     "text": [
      "    Subgroup 6: expressibility = 0.3748\n",
      "    Subgroup 8: expressibility = 1.7218\n",
      "    Subgroup 8: expressibility = 0.9130\n"
     ]
    },
    {
     "name": "stderr",
     "output_type": "stream",
     "text": [
      "n_qubits=4, depth=2, ansatz=12:  75%|███████▌  | 6/8 [45:18<14:27, 433.88s/it]"
     ]
    },
    {
     "name": "stdout",
     "output_type": "stream",
     "text": [
      "    Subgroup 8: expressibility = 0.9105\n"
     ]
    },
    {
     "name": "stderr",
     "output_type": "stream",
     "text": [
      "n_qubits=4, depth=2, ansatz=12:  88%|████████▊ | 7/8 [47:02<05:26, 326.09s/it]"
     ]
    },
    {
     "name": "stdout",
     "output_type": "stream",
     "text": [
      "    Subgroup 12: expressibility = 1.3895\n"
     ]
    },
    {
     "name": "stderr",
     "output_type": "stream",
     "text": [
      "n_qubits=4, depth=2, ansatz=12: 100%|██████████| 8/8 [48:46<00:00, 365.77s/it]"
     ]
    },
    {
     "name": "stdout",
     "output_type": "stream",
     "text": [
      "    Subgroup 24: expressibility = 1.3981\n",
      "  Ansatz ID: 13\n"
     ]
    },
    {
     "name": "stderr",
     "output_type": "stream",
     "text": [
      "\n"
     ]
    },
    {
     "name": "stdout",
     "output_type": "stream",
     "text": [
      "    Original expressibility = 0.0077\n"
     ]
    },
    {
     "name": "stderr",
     "output_type": "stream",
     "text": [
      "n_qubits=4, depth=2, ansatz=13:  12%|█▎        | 1/8 [01:38<11:26, 98.04s/it]"
     ]
    },
    {
     "name": "stdout",
     "output_type": "stream",
     "text": [
      "    Subgroup 1: expressibility = 0.0075\n",
      "    Subgroup 2: expressibility = 0.1520\n",
      "    Subgroup 2: expressibility = 0.1757\n",
      "    Subgroup 2: expressibility = 0.1812\n",
      "    Subgroup 2: expressibility = 0.0525\n",
      "    Subgroup 2: expressibility = 0.0644\n",
      "    Subgroup 2: expressibility = 0.0652\n",
      "    Subgroup 2: expressibility = 0.0596\n",
      "    Subgroup 2: expressibility = 0.0571\n"
     ]
    },
    {
     "name": "stderr",
     "output_type": "stream",
     "text": [
      "n_qubits=4, depth=2, ansatz=13:  25%|██▌       | 2/8 [17:05<58:35, 585.85s/it]"
     ]
    },
    {
     "name": "stdout",
     "output_type": "stream",
     "text": [
      "    Subgroup 2: expressibility = 0.0529\n",
      "    Subgroup 3: expressibility = 0.4098\n",
      "    Subgroup 3: expressibility = 0.4414\n",
      "    Subgroup 3: expressibility = 0.4257\n"
     ]
    },
    {
     "name": "stderr",
     "output_type": "stream",
     "text": [
      "n_qubits=4, depth=2, ansatz=13:  38%|███▊      | 3/8 [24:19<43:03, 516.67s/it]"
     ]
    },
    {
     "name": "stdout",
     "output_type": "stream",
     "text": [
      "    Subgroup 3: expressibility = 0.4012\n",
      "    Subgroup 4: expressibility = 0.8652\n",
      "    Subgroup 4: expressibility = 0.2685\n",
      "    Subgroup 4: expressibility = 0.2574\n",
      "    Subgroup 4: expressibility = 0.2563\n",
      "    Subgroup 4: expressibility = 1.1872\n",
      "    Subgroup 4: expressibility = 1.2673\n"
     ]
    },
    {
     "name": "stderr",
     "output_type": "stream",
     "text": [
      "n_qubits=4, depth=2, ansatz=13:  50%|█████     | 4/8 [37:14<41:14, 618.74s/it]"
     ]
    },
    {
     "name": "stdout",
     "output_type": "stream",
     "text": [
      "    Subgroup 4: expressibility = 1.0875\n",
      "    Subgroup 6: expressibility = 0.4041\n",
      "    Subgroup 6: expressibility = 0.4179\n",
      "    Subgroup 6: expressibility = 0.4370\n"
     ]
    },
    {
     "name": "stderr",
     "output_type": "stream",
     "text": [
      "n_qubits=4, depth=2, ansatz=13:  62%|██████▎   | 5/8 [44:29<27:37, 552.34s/it]"
     ]
    },
    {
     "name": "stdout",
     "output_type": "stream",
     "text": [
      "    Subgroup 6: expressibility = 0.4235\n",
      "    Subgroup 8: expressibility = 1.1791\n",
      "    Subgroup 8: expressibility = 1.1340\n"
     ]
    },
    {
     "name": "stderr",
     "output_type": "stream",
     "text": [
      "n_qubits=4, depth=2, ansatz=13:  75%|███████▌  | 6/8 [50:14<16:03, 481.90s/it]"
     ]
    },
    {
     "name": "stdout",
     "output_type": "stream",
     "text": [
      "    Subgroup 8: expressibility = 1.3642\n"
     ]
    },
    {
     "name": "stderr",
     "output_type": "stream",
     "text": [
      "n_qubits=4, depth=2, ansatz=13:  88%|████████▊ | 7/8 [52:13<06:03, 363.30s/it]"
     ]
    },
    {
     "name": "stdout",
     "output_type": "stream",
     "text": [
      "    Subgroup 12: expressibility = 1.7404\n"
     ]
    },
    {
     "name": "stderr",
     "output_type": "stream",
     "text": [
      "n_qubits=4, depth=2, ansatz=13: 100%|██████████| 8/8 [54:12<00:00, 406.60s/it]"
     ]
    },
    {
     "name": "stdout",
     "output_type": "stream",
     "text": [
      "    Subgroup 24: expressibility = 1.7233\n",
      "  Ansatz ID: 14\n"
     ]
    },
    {
     "name": "stderr",
     "output_type": "stream",
     "text": [
      "\n"
     ]
    },
    {
     "name": "stdout",
     "output_type": "stream",
     "text": [
      "    Original expressibility = 0.0027\n"
     ]
    },
    {
     "name": "stderr",
     "output_type": "stream",
     "text": [
      "n_qubits=4, depth=2, ansatz=14:  12%|█▎        | 1/8 [01:42<11:54, 102.00s/it]"
     ]
    },
    {
     "name": "stdout",
     "output_type": "stream",
     "text": [
      "    Subgroup 1: expressibility = 0.0039\n",
      "    Subgroup 2: expressibility = 0.1722\n",
      "    Subgroup 2: expressibility = 0.1662\n",
      "    Subgroup 2: expressibility = 0.1670\n",
      "    Subgroup 2: expressibility = 0.0556\n",
      "    Subgroup 2: expressibility = 0.0601\n",
      "    Subgroup 2: expressibility = 0.0503\n",
      "    Subgroup 2: expressibility = 0.0618\n",
      "    Subgroup 2: expressibility = 0.0657\n"
     ]
    },
    {
     "name": "stderr",
     "output_type": "stream",
     "text": [
      "n_qubits=4, depth=2, ansatz=14:  25%|██▌       | 2/8 [17:02<58:22, 583.71s/it]"
     ]
    },
    {
     "name": "stdout",
     "output_type": "stream",
     "text": [
      "    Subgroup 2: expressibility = 0.0701\n",
      "    Subgroup 3: expressibility = 0.1122\n",
      "    Subgroup 3: expressibility = 0.1038\n",
      "    Subgroup 3: expressibility = 0.0749\n"
     ]
    },
    {
     "name": "stderr",
     "output_type": "stream",
     "text": [
      "n_qubits=4, depth=2, ansatz=14:  38%|███▊      | 3/8 [24:20<43:04, 516.92s/it]"
     ]
    },
    {
     "name": "stdout",
     "output_type": "stream",
     "text": [
      "    Subgroup 3: expressibility = 0.0977\n",
      "    Subgroup 4: expressibility = 0.5867\n",
      "    Subgroup 4: expressibility = 0.2761\n",
      "    Subgroup 4: expressibility = 0.2479\n",
      "    Subgroup 4: expressibility = 0.2603\n",
      "    Subgroup 4: expressibility = 0.5608\n",
      "    Subgroup 4: expressibility = 0.4403\n"
     ]
    },
    {
     "name": "stderr",
     "output_type": "stream",
     "text": [
      "n_qubits=4, depth=2, ansatz=14:  50%|█████     | 4/8 [37:25<41:31, 622.95s/it]"
     ]
    },
    {
     "name": "stdout",
     "output_type": "stream",
     "text": [
      "    Subgroup 4: expressibility = 0.5491\n",
      "    Subgroup 6: expressibility = 0.3054\n",
      "    Subgroup 6: expressibility = 0.2972\n",
      "    Subgroup 6: expressibility = 0.3115\n"
     ]
    },
    {
     "name": "stderr",
     "output_type": "stream",
     "text": [
      "n_qubits=4, depth=2, ansatz=14:  62%|██████▎   | 5/8 [45:19<28:27, 569.05s/it]"
     ]
    },
    {
     "name": "stdout",
     "output_type": "stream",
     "text": [
      "    Subgroup 6: expressibility = 0.3055\n",
      "    Subgroup 8: expressibility = 0.8866\n",
      "    Subgroup 8: expressibility = 0.8312\n"
     ]
    },
    {
     "name": "stderr",
     "output_type": "stream",
     "text": [
      "n_qubits=4, depth=2, ansatz=14:  75%|███████▌  | 6/8 [51:48<16:56, 508.03s/it]"
     ]
    },
    {
     "name": "stdout",
     "output_type": "stream",
     "text": [
      "    Subgroup 8: expressibility = 0.8349\n"
     ]
    },
    {
     "name": "stderr",
     "output_type": "stream",
     "text": [
      "n_qubits=4, depth=2, ansatz=14:  88%|████████▊ | 7/8 [54:12<06:28, 388.94s/it]"
     ]
    },
    {
     "name": "stdout",
     "output_type": "stream",
     "text": [
      "    Subgroup 12: expressibility = 1.3912\n"
     ]
    },
    {
     "name": "stderr",
     "output_type": "stream",
     "text": [
      "n_qubits=4, depth=2, ansatz=14: 100%|██████████| 8/8 [56:27<00:00, 423.50s/it]"
     ]
    },
    {
     "name": "stdout",
     "output_type": "stream",
     "text": [
      "    Subgroup 24: expressibility = 1.3201\n",
      "  Ansatz ID: 15\n"
     ]
    },
    {
     "name": "stderr",
     "output_type": "stream",
     "text": [
      "\n"
     ]
    },
    {
     "name": "stdout",
     "output_type": "stream",
     "text": [
      "    Original expressibility = 0.1230\n"
     ]
    },
    {
     "name": "stderr",
     "output_type": "stream",
     "text": [
      "n_qubits=4, depth=2, ansatz=15:  12%|█▎        | 1/8 [01:39<11:36, 99.56s/it]"
     ]
    },
    {
     "name": "stdout",
     "output_type": "stream",
     "text": [
      "    Subgroup 1: expressibility = 0.7415\n",
      "    Subgroup 2: expressibility = 0.0340\n",
      "    Subgroup 2: expressibility = 0.6011\n",
      "    Subgroup 2: expressibility = 0.0098\n",
      "    Subgroup 2: expressibility = 0.0100\n",
      "    Subgroup 2: expressibility = 0.0088\n",
      "    Subgroup 2: expressibility = 0.2965\n",
      "    Subgroup 2: expressibility = 0.0088\n",
      "    Subgroup 2: expressibility = 0.2797\n"
     ]
    },
    {
     "name": "stderr",
     "output_type": "stream",
     "text": [
      "n_qubits=4, depth=2, ansatz=15:  25%|██▌       | 2/8 [17:38<1:00:31, 605.20s/it]"
     ]
    },
    {
     "name": "stdout",
     "output_type": "stream",
     "text": [
      "    Subgroup 2: expressibility = 0.0091\n",
      "    Subgroup 3: expressibility = 0.0101\n",
      "    Subgroup 3: expressibility = 0.0062\n",
      "    Subgroup 3: expressibility = 0.0085\n"
     ]
    },
    {
     "name": "stderr",
     "output_type": "stream",
     "text": [
      "n_qubits=4, depth=2, ansatz=15:  38%|███▊      | 3/8 [25:10<44:35, 535.13s/it]  "
     ]
    },
    {
     "name": "stdout",
     "output_type": "stream",
     "text": [
      "    Subgroup 3: expressibility = 0.0071\n",
      "    Subgroup 4: expressibility = 0.4127\n",
      "    Subgroup 4: expressibility = 0.0143\n",
      "    Subgroup 4: expressibility = 0.0082\n",
      "    Subgroup 4: expressibility = 0.7577\n",
      "    Subgroup 4: expressibility = 0.3341\n",
      "    Subgroup 4: expressibility = 0.2504\n"
     ]
    },
    {
     "name": "stderr",
     "output_type": "stream",
     "text": [
      "n_qubits=4, depth=2, ansatz=15:  50%|█████     | 4/8 [38:53<43:15, 648.80s/it]"
     ]
    },
    {
     "name": "stdout",
     "output_type": "stream",
     "text": [
      "    Subgroup 4: expressibility = 0.2723\n",
      "    Subgroup 6: expressibility = 0.0441\n",
      "    Subgroup 6: expressibility = 0.0448\n",
      "    Subgroup 6: expressibility = 0.0439\n"
     ]
    },
    {
     "name": "stderr",
     "output_type": "stream",
     "text": [
      "n_qubits=4, depth=2, ansatz=15:  62%|██████▎   | 5/8 [46:38<29:07, 582.40s/it]"
     ]
    },
    {
     "name": "stdout",
     "output_type": "stream",
     "text": [
      "    Subgroup 6: expressibility = 0.0482\n",
      "    Subgroup 8: expressibility = 0.3685\n",
      "    Subgroup 8: expressibility = 0.4499\n"
     ]
    },
    {
     "name": "stderr",
     "output_type": "stream",
     "text": [
      "n_qubits=4, depth=2, ansatz=15:  75%|███████▌  | 6/8 [53:08<17:14, 517.09s/it]"
     ]
    },
    {
     "name": "stdout",
     "output_type": "stream",
     "text": [
      "    Subgroup 8: expressibility = 0.3813\n"
     ]
    },
    {
     "name": "stderr",
     "output_type": "stream",
     "text": [
      "n_qubits=4, depth=2, ansatz=15:  88%|████████▊ | 7/8 [55:31<06:34, 394.84s/it]"
     ]
    },
    {
     "name": "stdout",
     "output_type": "stream",
     "text": [
      "    Subgroup 12: expressibility = 0.6388\n"
     ]
    },
    {
     "name": "stderr",
     "output_type": "stream",
     "text": [
      "n_qubits=4, depth=2, ansatz=15: 100%|██████████| 8/8 [57:52<00:00, 434.08s/it]"
     ]
    },
    {
     "name": "stdout",
     "output_type": "stream",
     "text": [
      "    Subgroup 24: expressibility = 0.6181\n",
      "  Ansatz ID: 16\n"
     ]
    },
    {
     "name": "stderr",
     "output_type": "stream",
     "text": [
      "\n"
     ]
    },
    {
     "name": "stdout",
     "output_type": "stream",
     "text": [
      "    Original expressibility = 0.0839\n"
     ]
    },
    {
     "name": "stderr",
     "output_type": "stream",
     "text": [
      "n_qubits=4, depth=2, ansatz=16:  12%|█▎        | 1/8 [01:19<09:15, 79.41s/it]"
     ]
    },
    {
     "name": "stdout",
     "output_type": "stream",
     "text": [
      "    Subgroup 1: expressibility = 0.0875\n",
      "    Subgroup 2: expressibility = 0.2253\n",
      "    Subgroup 2: expressibility = 0.2440\n",
      "    Subgroup 2: expressibility = 0.2977\n",
      "    Subgroup 2: expressibility = 0.1363\n",
      "    Subgroup 2: expressibility = 0.1000\n",
      "    Subgroup 2: expressibility = 0.1267\n",
      "    Subgroup 2: expressibility = 0.1125\n",
      "    Subgroup 2: expressibility = 0.1103\n"
     ]
    },
    {
     "name": "stderr",
     "output_type": "stream",
     "text": [
      "n_qubits=4, depth=2, ansatz=16:  25%|██▌       | 2/8 [13:33<46:28, 464.77s/it]"
     ]
    },
    {
     "name": "stdout",
     "output_type": "stream",
     "text": [
      "    Subgroup 2: expressibility = 0.1227\n",
      "    Subgroup 3: expressibility = 0.4314\n",
      "    Subgroup 3: expressibility = 0.4185\n",
      "    Subgroup 3: expressibility = 0.4717\n"
     ]
    },
    {
     "name": "stderr",
     "output_type": "stream",
     "text": [
      "n_qubits=4, depth=2, ansatz=16:  38%|███▊      | 3/8 [19:12<33:54, 406.92s/it]"
     ]
    },
    {
     "name": "stdout",
     "output_type": "stream",
     "text": [
      "    Subgroup 3: expressibility = 0.4266\n",
      "    Subgroup 4: expressibility = 0.8415\n",
      "    Subgroup 4: expressibility = 0.3430\n",
      "    Subgroup 4: expressibility = 0.2999\n",
      "    Subgroup 4: expressibility = 0.3276\n",
      "    Subgroup 4: expressibility = 1.1492\n",
      "    Subgroup 4: expressibility = 1.0130\n"
     ]
    },
    {
     "name": "stderr",
     "output_type": "stream",
     "text": [
      "n_qubits=4, depth=2, ansatz=16:  50%|█████     | 4/8 [29:12<32:12, 483.18s/it]"
     ]
    },
    {
     "name": "stdout",
     "output_type": "stream",
     "text": [
      "    Subgroup 4: expressibility = 1.2040\n",
      "    Subgroup 6: expressibility = 0.4277\n",
      "    Subgroup 6: expressibility = 0.4474\n",
      "    Subgroup 6: expressibility = 0.3904\n"
     ]
    },
    {
     "name": "stderr",
     "output_type": "stream",
     "text": [
      "n_qubits=4, depth=2, ansatz=16:  62%|██████▎   | 5/8 [34:50<21:32, 430.86s/it]"
     ]
    },
    {
     "name": "stdout",
     "output_type": "stream",
     "text": [
      "    Subgroup 6: expressibility = 0.4524\n",
      "    Subgroup 8: expressibility = 1.1042\n",
      "    Subgroup 8: expressibility = 1.2173\n"
     ]
    },
    {
     "name": "stderr",
     "output_type": "stream",
     "text": [
      "n_qubits=4, depth=2, ansatz=16:  75%|███████▌  | 6/8 [39:13<12:27, 373.77s/it]"
     ]
    },
    {
     "name": "stdout",
     "output_type": "stream",
     "text": [
      "    Subgroup 8: expressibility = 1.0822\n"
     ]
    },
    {
     "name": "stderr",
     "output_type": "stream",
     "text": [
      "n_qubits=4, depth=2, ansatz=16:  88%|████████▊ | 7/8 [40:42<04:40, 280.89s/it]"
     ]
    },
    {
     "name": "stdout",
     "output_type": "stream",
     "text": [
      "    Subgroup 12: expressibility = 1.5140\n"
     ]
    },
    {
     "name": "stderr",
     "output_type": "stream",
     "text": [
      "n_qubits=4, depth=2, ansatz=16: 100%|██████████| 8/8 [42:13<00:00, 316.64s/it]"
     ]
    },
    {
     "name": "stdout",
     "output_type": "stream",
     "text": [
      "    Subgroup 24: expressibility = 1.6156\n",
      "  Ansatz ID: 17\n"
     ]
    },
    {
     "name": "stderr",
     "output_type": "stream",
     "text": [
      "\n"
     ]
    }
   ],
   "source": [
    "import json\n",
    "from tqdm import tqdm\n",
    "from ansatz import Ansatz\n",
    "from utils import find_original_param, get_subgroup_unitaries, pennylane_to_qiskit\n",
    "\n",
    "from qleet.analyzers.expressibility import Expressibility\n",
    "from qleet.interface.circuit import CircuitDescriptor\n",
    "\n",
    "from twirler.symmetry_groups import create_symmetric_group\n",
    "from twirler.generators import get_ansatz_generators\n",
    "from twirler.twirling import apply_twirling_to_generators\n",
    "\n",
    "from qiskit import QuantumCircuit\n",
    "from qiskit.circuit.library import PauliEvolutionGate\n",
    "from qiskit.quantum_info import SparsePauliOp\n",
    "\n",
    "final_results = {}\n",
    "n_qubits = 4\n",
    "\n",
    "S = create_symmetric_group(n_qubits)\n",
    "\n",
    "with open(f\"groups/subgroups_{n_qubits}.json\", \"r\") as f:\n",
    "    subgroups = json.load(f)\n",
    "\n",
    "subgroup_unitaries = get_subgroup_unitaries(subgroups, S)\n",
    "\n",
    "for depth in range(1, 6):\n",
    "    print(\"Depth:\", depth)\n",
    "    final_results[str(depth)] = {}\n",
    "    for ansatz_id in range(1, 20):\n",
    "        print(\"  Ansatz ID:\", ansatz_id)\n",
    "        final_results[str(depth)][str(ansatz_id)] = {\"original\": None, \"twirled\": {}}\n",
    "        super_ansatz = Ansatz(ansatz_id, n_qubits, depth)\n",
    "        circuit, params = super_ansatz.get_QNode()\n",
    "        qiskit_circuit = pennylane_to_qiskit(circuit, n_qubits, params=params)\n",
    "        qiskit_circuit.remove_final_measurements()\n",
    "        params = qiskit_circuit.parameters\n",
    "        circuit_descriptor = CircuitDescriptor(qiskit_circuit, params)\n",
    "        exp = Expressibility(circuit_descriptor, samples=5000)\n",
    "        original_expressibility = exp.expressibility()\n",
    "        print(f\"    Original expressibility = {original_expressibility:.4f}\")\n",
    "        final_results[str(depth)][str(ansatz_id)][\"original\"] = original_expressibility\n",
    "        ansatz_generators = get_ansatz_generators(super_ansatz.get_ansatz())\n",
    "\n",
    "        for k in tqdm(subgroup_unitaries, desc=f\"n_qubits={n_qubits}, depth={depth}, ansatz={ansatz_id}\"):\n",
    "            final_results[str(depth)][str(ansatz_id)][\"twirled\"][str(k)] = []\n",
    "            for elem in subgroup_unitaries[k]:\n",
    "                unitaries = elem[\"unitaries\"]\n",
    "                twirled_generators = apply_twirling_to_generators(unitaries, ansatz_generators, n_qubits)\n",
    "                twirled_circuit = QuantumCircuit(n_qubits)\n",
    "                for i, (gen_matrix, op_wires, op_name, theta, parametrized) in enumerate(ansatz_generators):\n",
    "                        twirled_elem = twirled_generators[i]\n",
    "                        if twirled_elem[\"gate_name\"] == op_name and twirled_elem[\"wires\"] == op_wires:\n",
    "                            H = twirled_elem['averaged']\n",
    "                            param = find_original_param(qiskit_circuit, ansatz_generators, i, op_name, op_wires, theta)\n",
    "                            pauli_op = SparsePauliOp.from_operator(H)\n",
    "                            evo_gate = PauliEvolutionGate(pauli_op, time=param)\n",
    "                            twirled_circuit.append(evo_gate, range(n_qubits))\n",
    "                        else:\n",
    "                            raise ValueError(f\"Twirled generator for {op_name} on wires {op_wires} not found when {twirled_elem['gate_name']} and {twirled_elem['wires']}\")\n",
    "                    \n",
    "                twirled_circuit.remove_final_measurements(inplace=True)\n",
    "                params = twirled_circuit.parameters\n",
    "\n",
    "                assert len(params) == len(qiskit_circuit.parameters), \"Parameter count mismatch after twirling\"\n",
    "\n",
    "                circuit_descriptor = CircuitDescriptor(twirled_circuit, params)\n",
    "                exp = Expressibility(circuit_descriptor, samples=5000)\n",
    "                twirled_expressibility = exp.expressibility()\n",
    "                print(f\"    Subgroup {k}: expressibility = {twirled_expressibility:.4f}\")\n",
    "                final_results[str(depth)][str(ansatz_id)][\"twirled\"][str(k)].append(twirled_expressibility)\n",
    "\n",
    "with open(f\"results/expressibility_results_{n_qubits}.json\", \"w\") as f:\n",
    "    json.dump(final_results, f, indent=4)"
   ]
  }
 ],
 "metadata": {
  "kernelspec": {
   "display_name": "myenv (3.12.6)",
   "language": "python",
   "name": "python3"
  },
  "language_info": {
   "codemirror_mode": {
    "name": "ipython",
    "version": 3
   },
   "file_extension": ".py",
   "mimetype": "text/x-python",
   "name": "python",
   "nbconvert_exporter": "python",
   "pygments_lexer": "ipython3",
   "version": "3.12.6"
  }
 },
 "nbformat": 4,
 "nbformat_minor": 5
}
