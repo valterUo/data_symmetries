{
 "cells": [
  {
   "cell_type": "markdown",
   "id": "2e508699",
   "metadata": {},
   "source": [
    "### Expressivity"
   ]
  },
  {
   "cell_type": "code",
   "execution_count": 1,
   "id": "ee24c96a",
   "metadata": {},
   "outputs": [],
   "source": [
    "import numpy as np\n",
    "from ansatz import Ansatz\n",
    "from utils import pennylane_to_qiskit\n",
    "import pennylane as qml\n",
    "\n",
    "n_qubits = 4\n",
    "results = {}\n",
    "depth = 1\n",
    "circuits = {}\n",
    "for ansatz_id in range(1, 20):\n",
    "    results[ansatz_id] = {}\n",
    "    super_ansatz = Ansatz(ansatz_id, n_qubits, depth)\n",
    "    ansatz = super_ansatz.get_circuit()\n",
    "    param_shape = super_ansatz.get_params_shape()\n",
    "    if param_shape[1] is not None:\n",
    "        params1 = np.random.uniform(0, 2 * np.pi, param_shape[0])\n",
    "        params2 = np.random.uniform(0, 2 * np.pi, param_shape[1])\n",
    "        params = [params1, params2]\n",
    "\n",
    "        @qml.qnode(qml.device(\"default.qubit\", wires=n_qubits))\n",
    "        def circuit(params1, params2):\n",
    "            ansatz(params1, params2)\n",
    "            return qml.expval(qml.PauliZ(0))\n",
    "    else:\n",
    "        params1 = np.random.uniform(0, 2 * np.pi, param_shape[0])\n",
    "        params = [params1]\n",
    "        @qml.qnode(qml.device(\"default.qubit\", wires=n_qubits))\n",
    "        def circuit(params1):\n",
    "            ansatz(params1)\n",
    "            return qml.expval(qml.PauliZ(0))\n",
    "\n",
    "    qiskit_circuit = pennylane_to_qiskit(circuit, n_qubits, params=params)\n",
    "    circuits[ansatz_id] = qiskit_circuit.remove_final_measurements(inplace=False)\n",
    "\n",
    "    # Draw the circuit in file\n",
    "    #filename = f\"figures\\\\ansatz_{ansatz_id}_depth_{depth}.png\"\n",
    "    #qiskit_circuit.draw(output=\"mpl\", filename=filename)"
   ]
  },
  {
   "cell_type": "code",
   "execution_count": null,
   "id": "2ddafed8",
   "metadata": {},
   "outputs": [
    {
     "name": "stdout",
     "output_type": "stream",
     "text": [
      "Number of shots: 1024\n",
      "Ansatz 1 parameters: ParameterView([Parameter(x0), Parameter(x1), Parameter(x2), Parameter(x3), Parameter(x4), Parameter(x5), Parameter(x6), Parameter(x7)])\n",
      "Ansatz 1: 0.4044084774256419\n",
      "Ansatz 2 parameters: ParameterView([Parameter(x0), Parameter(x1), Parameter(x2), Parameter(x3), Parameter(x4), Parameter(x5), Parameter(x6), Parameter(x7)])\n",
      "Ansatz 2: 0.40913938946783923\n",
      "Ansatz 3 parameters: ParameterView([Parameter(x0), Parameter(x1), Parameter(x10), Parameter(x2), Parameter(x3), Parameter(x4), Parameter(x5), Parameter(x6), Parameter(x7), Parameter(x8), Parameter(x9)])\n",
      "Ansatz 3: 0.3251019146295814\n",
      "Ansatz 4 parameters: ParameterView([Parameter(x0), Parameter(x1), Parameter(x10), Parameter(x2), Parameter(x3), Parameter(x4), Parameter(x5), Parameter(x6), Parameter(x7), Parameter(x8), Parameter(x9)])\n",
      "Ansatz 4: 0.1591163670095324\n",
      "Ansatz 5 parameters: ParameterView([Parameter(x0), Parameter(x1), Parameter(x10), Parameter(x11), Parameter(x12), Parameter(x13), Parameter(x14), Parameter(x15), Parameter(x16), Parameter(x17), Parameter(x18), Parameter(x19), Parameter(x2), Parameter(x3), Parameter(x4), Parameter(x5), Parameter(x6), Parameter(x7), Parameter(x8), Parameter(x9)])\n",
      "Ansatz 5: 0.06018186151384298\n",
      "Ansatz 6 parameters: ParameterView([Parameter(x0), Parameter(x1), Parameter(x10), Parameter(x11), Parameter(x12), Parameter(x13), Parameter(x14), Parameter(x15), Parameter(x16), Parameter(x17), Parameter(x18), Parameter(x19), Parameter(x2), Parameter(x3), Parameter(x4), Parameter(x5), Parameter(x6), Parameter(x7), Parameter(x8), Parameter(x9)])\n",
      "Ansatz 6: 0.002383328437106196\n",
      "Ansatz 7 parameters: ParameterView([Parameter(x0), Parameter(x1), Parameter(x10), Parameter(x11), Parameter(x12), Parameter(x13), Parameter(x14), Parameter(x15), Parameter(x16), Parameter(x17), Parameter(x18), Parameter(x2), Parameter(x3), Parameter(x4), Parameter(x5), Parameter(x6), Parameter(x7), Parameter(x8), Parameter(x9)])\n",
      "Ansatz 7: 0.1226721474963759\n",
      "Ansatz 8 parameters: ParameterView([Parameter(x0), Parameter(x1), Parameter(x10), Parameter(x11), Parameter(x12), Parameter(x13), Parameter(x14), Parameter(x15), Parameter(x16), Parameter(x17), Parameter(x18), Parameter(x2), Parameter(x3), Parameter(x4), Parameter(x5), Parameter(x6), Parameter(x7), Parameter(x8), Parameter(x9)])\n",
      "Ansatz 8: 0.07905790359876366\n",
      "Ansatz 9 parameters: ParameterView([Parameter(x0), Parameter(x1), Parameter(x2), Parameter(x3)])\n",
      "Ansatz 9: 1.0900991544926737\n",
      "Ansatz 10 parameters: ParameterView([Parameter(x0), Parameter(x1), Parameter(x2), Parameter(x3), Parameter(x4), Parameter(x5), Parameter(x6), Parameter(x7)])\n"
     ]
    }
   ],
   "source": [
    "from qleet.analyzers.expressibility import Expressibility\n",
    "from qleet.interface.circuit import CircuitDescriptor\n",
    "\n",
    "n_shots = max(2**n_qubits, 1024)\n",
    "print(f\"Number of shots: {n_shots}\")\n",
    "\n",
    "for ansatz_id in range(1, 20):\n",
    "    qiskit_circuit = circuits[ansatz_id]\n",
    "    params = qiskit_circuit.parameters\n",
    "    print(f\"Ansatz {ansatz_id} parameters: {params}\")\n",
    "    circuit_descriptor = CircuitDescriptor(qiskit_circuit, params)\n",
    "    exp = Expressibility(circuit_descriptor, samples=n_shots)\n",
    "    results[ansatz_id][\"expressivity\"] = exp.expressibility()\n",
    "    print(f\"Ansatz {ansatz_id}: {results[ansatz_id]['expressivity']}\")"
   ]
  }
 ],
 "metadata": {
  "kernelspec": {
   "display_name": "myenv (3.12.6)",
   "language": "python",
   "name": "python3"
  },
  "language_info": {
   "codemirror_mode": {
    "name": "ipython",
    "version": 3
   },
   "file_extension": ".py",
   "mimetype": "text/x-python",
   "name": "python",
   "nbconvert_exporter": "python",
   "pygments_lexer": "ipython3",
   "version": "3.12.6"
  }
 },
 "nbformat": 4,
 "nbformat_minor": 5
}
