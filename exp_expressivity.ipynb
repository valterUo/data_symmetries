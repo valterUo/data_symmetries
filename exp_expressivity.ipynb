{
 "cells": [
  {
   "cell_type": "markdown",
   "id": "2e508699",
   "metadata": {},
   "source": [
    "### Expressivity"
   ]
  },
  {
   "cell_type": "code",
   "execution_count": null,
   "id": "ee24c96a",
   "metadata": {},
   "outputs": [
    {
     "name": "stdout",
     "output_type": "stream",
     "text": [
      "Depth: 1\n",
      "  Ansatz ID: 1\n"
     ]
    },
    {
     "name": "stderr",
     "output_type": "stream",
     "text": [
      "n_qubits=4, depth=1, ansatz=1:  12%|█▎        | 1/8 [01:00<07:02, 60.31s/it]"
     ]
    },
    {
     "name": "stdout",
     "output_type": "stream",
     "text": [
      "    Subgroup 1: expressibility = 0.6918\n",
      "    Subgroup 2: expressibility = 1.5862\n",
      "    Subgroup 2: expressibility = 1.6183\n",
      "    Subgroup 2: expressibility = 1.5826\n",
      "    Subgroup 2: expressibility = 0.9021\n",
      "    Subgroup 2: expressibility = 0.9371\n",
      "    Subgroup 2: expressibility = 0.8680\n",
      "    Subgroup 2: expressibility = 0.9303\n",
      "    Subgroup 2: expressibility = 0.9808\n"
     ]
    },
    {
     "name": "stderr",
     "output_type": "stream",
     "text": [
      "n_qubits=4, depth=1, ansatz=1:  25%|██▌       | 2/8 [10:15<35:08, 351.43s/it]"
     ]
    },
    {
     "name": "stdout",
     "output_type": "stream",
     "text": [
      "    Subgroup 2: expressibility = 0.9139\n",
      "    Subgroup 3: expressibility = 2.0776\n",
      "    Subgroup 3: expressibility = 2.1666\n",
      "    Subgroup 3: expressibility = 2.1712\n"
     ]
    },
    {
     "name": "stderr",
     "output_type": "stream",
     "text": [
      "n_qubits=4, depth=1, ansatz=1:  38%|███▊      | 3/8 [14:20<25:14, 302.94s/it]"
     ]
    },
    {
     "name": "stdout",
     "output_type": "stream",
     "text": [
      "    Subgroup 3: expressibility = 1.9365\n",
      "    Subgroup 4: expressibility = 7.2653\n",
      "    Subgroup 4: expressibility = 1.6556\n",
      "    Subgroup 4: expressibility = 1.6365\n",
      "    Subgroup 4: expressibility = 1.5324\n",
      "    Subgroup 4: expressibility = 6.9052\n",
      "    Subgroup 4: expressibility = 7.0430\n"
     ]
    },
    {
     "name": "stderr",
     "output_type": "stream",
     "text": [
      "n_qubits=4, depth=1, ansatz=1:  50%|█████     | 4/8 [21:25<23:23, 350.99s/it]"
     ]
    },
    {
     "name": "stdout",
     "output_type": "stream",
     "text": [
      "    Subgroup 4: expressibility = 7.2517\n",
      "    Subgroup 6: expressibility = 2.0278\n",
      "    Subgroup 6: expressibility = 2.1089\n",
      "    Subgroup 6: expressibility = 2.1457\n"
     ]
    }
   ],
   "source": [
    "import json\n",
    "from tqdm import tqdm\n",
    "from ansatz import Ansatz\n",
    "from utils import find_original_param, get_subgroup_unitaries, pennylane_to_qiskit\n",
    "\n",
    "from qleet.analyzers.expressibility import Expressibility\n",
    "from qleet.interface.circuit import CircuitDescriptor\n",
    "\n",
    "from twirler.symmetry_groups import create_symmetric_group\n",
    "from twirler.generators import get_ansatz_generators\n",
    "from twirler.twirling import apply_twirling_to_generators\n",
    "\n",
    "from qiskit import QuantumCircuit\n",
    "from qiskit.circuit.library import PauliEvolutionGate\n",
    "from qiskit.quantum_info import SparsePauliOp\n",
    "\n",
    "final_results = {}\n",
    "n_qubits = 4\n",
    "\n",
    "S = create_symmetric_group(n_qubits)\n",
    "\n",
    "with open(f\"groups/subgroups_{n_qubits}.json\", \"r\") as f:\n",
    "    subgroups = json.load(f)\n",
    "\n",
    "subgroup_unitaries = get_subgroup_unitaries(subgroups, S)\n",
    "\n",
    "for depth in range(1, 6):\n",
    "    print(\"Depth:\", depth)\n",
    "    final_results[str(depth)] = {}\n",
    "    for ansatz_id in range(1, 20):\n",
    "        print(\"  Ansatz ID:\", ansatz_id)\n",
    "        final_results[str(depth)][str(ansatz_id)] = {\"original\": None, \"twirled\": {}}\n",
    "        super_ansatz = Ansatz(ansatz_id, n_qubits, depth)\n",
    "        circuit, params = super_ansatz.get_QNode()\n",
    "        qiskit_circuit = pennylane_to_qiskit(circuit, n_qubits, params=params)\n",
    "        qiskit_circuit.remove_final_measurements()\n",
    "        params = qiskit_circuit.parameters\n",
    "        circuit_descriptor = CircuitDescriptor(qiskit_circuit, params)\n",
    "        exp = Expressibility(circuit_descriptor, samples=5000)\n",
    "        original_expressibility = exp.expressibility()\n",
    "        print(f\"    Original expressibility = {original_expressibility:.4f}\")\n",
    "        final_results[str(depth)][str(ansatz_id)][\"original\"] = original_expressibility\n",
    "        ansatz_generators = get_ansatz_generators(super_ansatz.get_ansatz())\n",
    "\n",
    "        for k in tqdm(subgroup_unitaries, desc=f\"n_qubits={n_qubits}, depth={depth}, ansatz={ansatz_id}\"):\n",
    "            final_results[str(depth)][str(ansatz_id)][\"twirled\"][str(k)] = []\n",
    "            for elem in subgroup_unitaries[k]:\n",
    "                unitaries = elem[\"unitaries\"]\n",
    "                twirled_generators = apply_twirling_to_generators(unitaries, ansatz_generators, n_qubits)\n",
    "                twirled_circuit = QuantumCircuit(n_qubits)\n",
    "                for i, (gen_matrix, op_wires, op_name, theta, parametrized) in enumerate(ansatz_generators):\n",
    "                        twirled_elem = twirled_generators[i]\n",
    "                        if twirled_elem[\"gate_name\"] == op_name and twirled_elem[\"wires\"] == op_wires:\n",
    "                            H = twirled_elem['averaged']\n",
    "                            param = find_original_param(qiskit_circuit, ansatz_generators, i, op_name, op_wires, theta)\n",
    "                            pauli_op = SparsePauliOp.from_operator(H)\n",
    "                            evo_gate = PauliEvolutionGate(pauli_op, time=param)\n",
    "                            twirled_circuit.append(evo_gate, range(n_qubits))\n",
    "                        else:\n",
    "                            raise ValueError(f\"Twirled generator for {op_name} on wires {op_wires} not found when {twirled_elem['gate_name']} and {twirled_elem['wires']}\")\n",
    "                    \n",
    "                twirled_circuit.remove_final_measurements(inplace=True)\n",
    "                params = twirled_circuit.parameters\n",
    "\n",
    "                assert len(params) == len(qiskit_circuit.parameters), \"Parameter count mismatch after twirling\"\n",
    "\n",
    "                circuit_descriptor = CircuitDescriptor(twirled_circuit, params)\n",
    "                exp = Expressibility(circuit_descriptor, samples=5000)\n",
    "                twirled_expressibility = exp.expressibility()\n",
    "                print(f\"    Subgroup {k}: expressibility = {twirled_expressibility:.4f}\")\n",
    "                final_results[str(depth)][str(ansatz_id)][\"twirled\"][str(k)].append(twirled_expressibility)\n",
    "\n",
    "with open(f\"results/expressibility_results_{n_qubits}.json\", \"w\") as f:\n",
    "    json.dump(final_results, f, indent=4)"
   ]
  }
 ],
 "metadata": {
  "kernelspec": {
   "display_name": "myenv (3.12.6)",
   "language": "python",
   "name": "python3"
  },
  "language_info": {
   "codemirror_mode": {
    "name": "ipython",
    "version": 3
   },
   "file_extension": ".py",
   "mimetype": "text/x-python",
   "name": "python",
   "nbconvert_exporter": "python",
   "pygments_lexer": "ipython3",
   "version": "3.12.6"
  }
 },
 "nbformat": 4,
 "nbformat_minor": 5
}
