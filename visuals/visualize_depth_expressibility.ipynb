{
 "cells": [
  {
   "cell_type": "code",
   "execution_count": null,
   "id": "be292645",
   "metadata": {},
   "outputs": [
    {
     "name": "stdout",
     "output_type": "stream",
     "text": [
      "Available data:\n",
      "Depths: ['1', '2', '3', '4', '5']\n",
      "Symmetry group sizes: ['1', '12', '2', '24', '3', '4', '6', '8']\n",
      "\n",
      "Enter ansatz indices (1-19) separated by commas, or press Enter for all.\n",
      "Example: 1,5,10\n"
     ]
    }
   ],
   "source": [
    "import matplotlib.pyplot as plt\n",
    "from matplotlib import font_manager\n",
    "\n",
    "# Font configuration\n",
    "font_path = r\"C:\\Users\\valte\\OneDrive - University of Helsinki\\Desktop\\linux_libertine\\LinLibertine_R.ttf\"\n",
    "try:\n",
    "    font_manager.fontManager.addfont(font_path)\n",
    "except Exception as e:\n",
    "    print(f\"Font loading warning: {e}. Using default font.\")\n",
    "\n",
    "plt.rcParams.update({\n",
    "    \"font.family\": \"Linux Libertine\",\n",
    "    \"font.size\": 14,\n",
    "    \"axes.labelsize\": 16,\n",
    "    \"axes.titlesize\": 18,\n",
    "    \"xtick.labelsize\": 12,\n",
    "    \"ytick.labelsize\": 12,\n",
    "    \"legend.fontsize\": 12,\n",
    "    \"figure.dpi\": 300,\n",
    "})\n",
    "\n",
    "# Example expressibility data\n",
    "data = {}\n",
    "\n",
    "# Download data from multiple files in the results folder\n",
    "import json\n",
    "import os\n",
    "n_qubits = 4\n",
    "data = {}\n",
    "for filename in os.listdir(\"../results/expressibility\"):\n",
    "    if filename.endswith(\".json\") and f\"_{n_qubits}_\" in filename:\n",
    "        with open(os.path.join(\"../results/expressibility\", filename), \"r\") as f:\n",
    "            file_data = json.load(f)\n",
    "            for k in file_data:\n",
    "                if k in data:\n",
    "                    data[k].update(file_data[k])\n",
    "                else:\n",
    "                    data[k] = file_data[k]\n",
    "\n",
    "expressibility_map = data\n",
    "\n",
    "# Get all unique symmetry group sizes for axis labels\n",
    "all_sym_sizes = sorted(list(expressibility_map[\"1\"][\"1\"][\"twirled\"].keys()))\n",
    "\n",
    "print(\"Available data:\")\n",
    "print(f\"Depths: {sorted(expressibility_map.keys())}\")\n",
    "print(f\"Symmetry group sizes: {all_sym_sizes}\")\n",
    "print(f\"\\nEnter ansatz indices (1-19) separated by commas, or press Enter for all.\")\n",
    "print(f\"Example: 1,5,10\")\n",
    "\n",
    "ansatz_id = 3"
   ]
  }
 ],
 "metadata": {
  "kernelspec": {
   "display_name": ".venv (3.12.10)",
   "language": "python",
   "name": "python3"
  },
  "language_info": {
   "codemirror_mode": {
    "name": "ipython",
    "version": 3
   },
   "file_extension": ".py",
   "mimetype": "text/x-python",
   "name": "python",
   "nbconvert_exporter": "python",
   "pygments_lexer": "ipython3",
   "version": "3.12.10"
  }
 },
 "nbformat": 4,
 "nbformat_minor": 5
}
